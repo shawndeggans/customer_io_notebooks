{
 "cells": [
  {
   "cell_type": "markdown",
   "id": "intro",
   "metadata": {},
   "source": [
    "# Customer.IO Webhook Processing\n",
    "\n",
    "This notebook demonstrates how to process Customer.IO webhooks for delivery tracking and event handling.\n",
    "\n",
    "## Setup\n",
    "\n",
    "First, let's import the webhook processing utilities."
   ]
  },
  {
   "cell_type": "code",
   "execution_count": null,
   "id": "setup",
   "metadata": {},
   "outputs": [],
   "source": [
    "import os",
    "import sys",
    "import json",
    "import hmac",
    "import hashlib",
    "from datetime import datetime",
    "",
    "# For local development with src imports (backwards compatibility)",
    "# Add src directory to path if it exists",
    "notebook_dir = os.path.dirname(os.path.abspath(''))",
    "project_root = os.path.abspath(os.path.join(notebook_dir, '..', '..'))",
    "src_path = os.path.join(project_root, 'src')",
    "",
    "if os.path.exists(src_path):",
    "    sys.path.insert(0, src_path)",
    "    # Try importing from src (local development pattern)",
    "    try:",
    "        from src.webhooks.processor import (",
    "            verify_webhook_signature,",
    "            parse_webhook_event,",
    "            WebhookEvent",
    "        )",
    "    except ImportError:",
    "        # Fall back to package imports",
    "        from webhooks.processor import (",
    "            verify_webhook_signature,",
    "            parse_webhook_event,",
    "            WebhookEvent",
    "        )",
    "else:",
    "    # Databricks or package installation - use package imports",
    "    from webhooks.processor import (",
    "        verify_webhook_signature,",
    "        parse_webhook_event,",
    "        WebhookEvent",
    "    )",
    "",
    "print(\"Webhook processing utilities imported successfully\")"
   ]
  },
  {
   "cell_type": "markdown",
   "metadata": {},
   "source": [
    "## Databricks Environment Setup",
    "",
    "This section handles the installation of required libraries and configuration for Databricks clusters. Skip this section if running locally."
   ]
  },
  {
   "cell_type": "code",
   "execution_count": null,
   "metadata": {},
   "outputs": [],
   "source": [
    "# Databricks library installation",
    "# Uncomment the following lines when running on Databricks",
    "",
    "# %pip install customerio-api-client",
    "# OR if using a wheel file:",
    "# %pip install /dbfs/path/to/customerio_api_client-1.0.0-py3-none-any.whl",
    "",
    "# For development without packaging, install individual requirements:",
    "# %pip install httpx>=0.25.0 pydantic>=2.0.0 pandas>=2.0.0 python-dotenv>=1.0.0 structlog>=24.0.0",
    "",
    "# Restart kernel after installation if needed",
    "# import dbutils",
    "# dbutils.library.restartPython()"
   ]
  },
  {
   "cell_type": "markdown",
   "id": "signature-verification",
   "metadata": {},
   "source": [
    "## Webhook Signature Verification\n",
    "\n",
    "Verify that webhooks are authentically from Customer.IO."
   ]
  },
  {
   "cell_type": "code",
   "execution_count": null,
   "id": "verify-signature",
   "metadata": {},
   "outputs": [],
   "source": [
    "# Example webhook payload and signature\n",
    "webhook_payload = '{\"event_type\": \"email_delivered\", \"customer_id\": \"cust_123\"}'\n",
    "webhook_signature = \"sha256=example_signature_here\"\n",
    "webhook_secret = \"your_webhook_secret_here\"\n",
    "\n",
    "# Verify the signature\n",
    "is_valid = verify_signature(\n",
    "    payload=webhook_payload,\n",
    "    signature=webhook_signature,\n",
    "    secret=webhook_secret\n",
    ")\n",
    "\n",
    "print(f\"Webhook signature valid: {is_valid}\")"
   ]
  },
  {
   "cell_type": "markdown",
   "id": "event-parsing",
   "metadata": {},
   "source": [
    "## Event Parsing\n",
    "\n",
    "Parse webhook events and extract event types."
   ]
  },
  {
   "cell_type": "code",
   "execution_count": null,
   "id": "parse-events",
   "metadata": {},
   "outputs": [],
   "source": [
    "# Parse the webhook event\n",
    "event_data = parse_event(webhook_payload)\n",
    "print(f\"Parsed event data: {event_data}\")\n",
    "\n",
    "# Get the event type\n",
    "event_type = get_event_type(event_data)\n",
    "print(f\"Event type: {event_type}\")"
   ]
  },
  {
   "cell_type": "markdown",
   "id": "event-processing",
   "metadata": {},
   "source": [
    "## Complete Webhook Processing Workflow\n",
    "\n",
    "A complete example of processing an incoming webhook."
   ]
  },
  {
   "cell_type": "code",
   "execution_count": null,
   "id": "complete-workflow",
   "metadata": {},
   "outputs": [],
   "source": [
    "def process_webhook(payload, signature, secret):\n",
    "    \"\"\"Process a Customer.IO webhook with full validation.\"\"\"\n",
    "    \n",
    "    # Step 1: Verify signature\n",
    "    if not verify_signature(payload, signature, secret):\n",
    "        print(\"\u274c Invalid webhook signature\")\n",
    "        return None\n",
    "    \n",
    "    print(\"\u2705 Webhook signature verified\")\n",
    "    \n",
    "    # Step 2: Parse event\n",
    "    try:\n",
    "        event = parse_event(payload)\n",
    "        event_type = get_event_type(event)\n",
    "        \n",
    "        print(f\"\ud83d\udce7 Processing {event_type} event\")\n",
    "        \n",
    "        # Step 3: Handle different event types\n",
    "        if event_type == \"email_delivered\":\n",
    "            print(f\"\u2709\ufe0f Email delivered to customer {event.get('customer_id')}\")\n",
    "        elif event_type == \"email_opened\":\n",
    "            print(f\"\ud83d\udc40 Email opened by customer {event.get('customer_id')}\")\n",
    "        elif event_type == \"email_clicked\":\n",
    "            print(f\"\ud83d\uddb1\ufe0f Email link clicked by customer {event.get('customer_id')}\")\n",
    "        else:\n",
    "            print(f\"\ud83d\udcdd Received {event_type} event\")\n",
    "        \n",
    "        return event\n",
    "        \n",
    "    except Exception as e:\n",
    "        print(f\"\u274c Error processing webhook: {e}\")\n",
    "        return None\n",
    "\n",
    "# Example usage\n",
    "result = process_webhook(webhook_payload, webhook_signature, webhook_secret)\n",
    "print(f\"Processing result: {result}\")"
   ]
  }
 ],
 "metadata": {
  "kernelspec": {
   "display_name": "Python 3",
   "language": "python",
   "name": "python3"
  },
  "language_info": {
   "codemirror_mode": {
    "name": "ipython",
    "version": 3
   },
   "file_extension": ".py",
   "mimetype": "text/x-python",
   "name": "python",
   "nbconvert_exporter": "python",
   "pygments_lexer": "ipython3",
   "version": "3.8.0"
  }
 },
 "nbformat": 4,
 "nbformat_minor": 5
}