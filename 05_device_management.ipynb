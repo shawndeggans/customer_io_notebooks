{
 "cells": [
  {
   "cell_type": "markdown",
   "metadata": {},
   "source": [
    "# Customer.IO Data Pipelines API - Device Management\n",
    "\n",
    "## Purpose\n",
    "\n",
    "This notebook demonstrates comprehensive device registration and management with Customer.IO's Data Pipelines API.\n",
    "It covers mobile device registration, push notification setup, device attribute management, and cross-platform device tracking with proper validation and error handling.\n",
    "\n",
    "## Prerequisites\n",
    "\n",
    "- Complete setup from `00_setup_and_configuration.ipynb`\n",
    "- Complete authentication setup from `01_authentication_and_utilities.ipynb`\n",
    "- Customer.IO API key configured in Databricks secrets\n",
    "- Understanding of mobile push notification concepts\n",
    "\n",
    "## Key Concepts\n",
    "\n",
    "- **Device Registration**: Linking devices to users for push notifications\n",
    "- **Push Tokens**: Device-specific identifiers for notification delivery\n",
    "- **Platform Types**: iOS, Android, and web push notification differences\n",
    "- **Device Attributes**: Custom properties for targeting and segmentation\n",
    "- **Token Management**: Registration, updates, and cleanup\n",
    "- **Cross-Platform Tracking**: Users with multiple devices\n",
    "\n",
    "## Device Types Covered\n",
    "\n",
    "1. **iOS Devices**: APNS (Apple Push Notification Service) integration\n",
    "2. **Android Devices**: FCM (Firebase Cloud Messaging) integration\n",
    "3. **Web Browsers**: Web Push API for browser notifications\n",
    "4. **Desktop Applications**: Cross-platform desktop push notifications\n",
    "5. **Smart Devices**: IoT and embedded device tracking"
   ]
  },
  {
   "cell_type": "markdown",
   "metadata": {},
   "source": [
    "## Setup and Imports"
   ]
  },
  {
   "cell_type": "code",
   "execution_count": null,
   "metadata": {},
   "outputs": [],
   "source": [
    "# Standard library imports\n",
    "import sys\n",
    "import os\n",
    "from datetime import datetime, timezone, timedelta\n",
    "from typing import Dict, List, Optional, Any, Union, Set\n",
    "import json\n",
    "import uuid\n",
    "from enum import Enum\n",
    "import re\n",
    "\n",
    "print(\"SUCCESS: Standard libraries imported\")"
   ]
  },
  {
   "cell_type": "code",
   "execution_count": null,
   "metadata": {},
   "outputs": [],
   "source": [
    "# Add utils directory to Python path\n",
    "sys.path.append('/Workspace/Repos/customer_io_notebooks/utils')\n",
    "print(\"SUCCESS: Utils directory added to Python path\")"
   ]
  },
  {
   "cell_type": "code",
   "execution_count": null,
   "metadata": {},
   "outputs": [],
   "source": [
    "# Import Customer.IO API utilities\n",
    "from utils.api_client import CustomerIOClient\n",
    "from utils.validators import (\n",
    "    DeviceRequest,\n",
    "    validate_request_size,\n",
    "    create_context\n",
    ")\n",
    "\n",
    "print(\"SUCCESS: Customer.IO API utilities imported\")"
   ]
  },
  {
   "cell_type": "code",
   "execution_count": null,
   "metadata": {},
   "outputs": [],
   "source": [
    "# Import transformation utilities\n",
    "from utils.transformers import (\n",
    "    BatchTransformer,\n",
    "    ContextTransformer\n",
    ")\n",
    "\n",
    "print(\"SUCCESS: Transformation utilities imported\")"
   ]
  },
  {
   "cell_type": "code",
   "execution_count": null,
   "metadata": {},
   "outputs": [],
   "source": [
    "# Import error handling utilities\n",
    "from utils.error_handlers import (\n",
    "    CustomerIOError,\n",
    "    RateLimitError,\n",
    "    ValidationError,\n",
    "    NetworkError,\n",
    "    retry_on_error,\n",
    "    ErrorContext\n",
    ")\n",
    "\n",
    "print(\"SUCCESS: Error handling utilities imported\")"
   ]
  },
  {
   "cell_type": "code",
   "execution_count": null,
   "metadata": {},
   "outputs": [],
   "source": [
    "# Import Databricks and Spark utilities\n",
    "from pyspark.sql import SparkSession\n",
    "from pyspark.sql import functions as F\n",
    "from pyspark.sql.types import *\n",
    "from delta.tables import DeltaTable\n",
    "\n",
    "print(\"SUCCESS: Databricks and Spark utilities imported\")"
   ]
  },
  {
   "cell_type": "code",
   "metadata": {},
   "outputs": [],
   "source": "# Import validation and logging and DeviceManager\nimport structlog\nfrom pydantic import ValidationError as PydanticValidationError, BaseModel, Field, validator\n\n# Import DeviceManager for advanced device management\nfrom utils.device_manager import (\n    DeviceManager,\n    DeviceType,\n    PushProvider, \n    DeviceStatus,\n    DeviceInfo,\n    DeviceAttributes,\n    DeviceRegistration\n)\n\n# Initialize logger\nlogger = structlog.get_logger(\"device_management\")\n\nprint(\"SUCCESS: Validation, logging, and DeviceManager imported\")"
  },
  {
   "cell_type": "markdown",
   "metadata": {},
   "source": [
    "## Configuration and Client Setup"
   ]
  },
  {
   "cell_type": "code",
   "execution_count": null,
   "metadata": {},
   "outputs": [],
   "source": [
    "# Load configuration from setup notebook (secure approach)\n",
    "try:\n",
    "    CUSTOMERIO_REGION = dbutils.widgets.get(\"customerio_region\") or \"us\"\n",
    "    DATABASE_NAME = dbutils.widgets.get(\"database_name\") or \"customerio_demo\"\n",
    "    CATALOG_NAME = dbutils.widgets.get(\"catalog_name\") or \"main\"\n",
    "    ENVIRONMENT = dbutils.widgets.get(\"environment\") or \"test\"\n",
    "    \n",
    "    print(f\"Configuration loaded from setup notebook:\")\n",
    "    print(f\"  Region: {CUSTOMERIO_REGION}\")\n",
    "    print(f\"  Database: {CATALOG_NAME}.{DATABASE_NAME}\")\n",
    "    print(f\"  Environment: {ENVIRONMENT}\")\n",
    "    \n",
    "except Exception as e:\n",
    "    print(f\"WARNING: Could not load configuration from setup notebook: {str(e)}\")\n",
    "    print(\"INFO: Using fallback configuration\")\n",
    "    CUSTOMERIO_REGION = \"us\"\n",
    "    DATABASE_NAME = \"customerio_demo\"\n",
    "    CATALOG_NAME = \"main\"\n",
    "    ENVIRONMENT = \"test\""
   ]
  },
  {
   "cell_type": "code",
   "execution_count": null,
   "metadata": {},
   "outputs": [],
   "source": [
    "# Get Customer.IO API key from secure storage\n",
    "CUSTOMERIO_API_KEY = dbutils.secrets.get(\"customerio\", \"api_key\")\n",
    "print(\"SUCCESS: Customer.IO API key retrieved from secure storage\")"
   ]
  },
  {
   "cell_type": "code",
   "execution_count": null,
   "metadata": {},
   "outputs": [],
   "source": [
    "# Configure Spark to use the specified database\n",
    "spark.sql(f\"USE {CATALOG_NAME}.{DATABASE_NAME}\")\n",
    "print(\"SUCCESS: Database configured\")"
   ]
  },
  {
   "cell_type": "code",
   "metadata": {},
   "outputs": [],
   "source": "# Initialize the Customer.IO client and DeviceManager\ntry:\n    client = CustomerIOClient(\n        api_key=CUSTOMERIO_API_KEY,\n        region=CUSTOMERIO_REGION,\n        timeout=30,\n        max_retries=3,\n        retry_backoff_factor=2.0,\n        enable_logging=True,\n        spark_session=spark\n    )\n    print(\"SUCCESS: Customer.IO client initialized for device management\")\n    \n    # Initialize DeviceManager\n    device_manager = DeviceManager(client)\n    print(\"SUCCESS: DeviceManager initialized\")\n    \nexcept Exception as e:\n    print(f\"ERROR: Failed to initialize Customer.IO client: {str(e)}\")\n    raise"
  },
  {
   "cell_type": "markdown",
   "metadata": {},
   "source": [
    "## Test-Driven Development: Device Validation Functions"
   ]
  },
  {
   "cell_type": "code",
   "metadata": {},
   "outputs": [],
   "source": "# Test device registration validation using DeviceManager models\n\ndef test_device_registration_validation():\n    \"\"\"Test that device registrations have required fields and pass validation.\"\"\"\n    \n    try:\n        # Test valid iOS device using DeviceManager models\n        device_info = DeviceInfo(\n            token=\"abc123def456ghi789\",\n            type=DeviceType.IOS,\n            device_id=\"iPhone14,2\",\n            os_version=\"17.2\",\n            app_version=\"2.1.0\"\n        )\n        \n        device_attributes = DeviceAttributes(\n            push_enabled=True,\n            timezone=\"America/New_York\",\n            locale=\"en-US\"\n        )\n        \n        device_registration = DeviceRegistration(\n            user_id=\"test_user_001\",\n            device_info=device_info,\n            attributes=device_attributes\n        )\n        \n        assert device_registration.device_info.type == \"ios\"\n        assert device_registration.device_info.token == \"abc123def456ghi789\"\n        assert device_registration.user_id == \"test_user_001\"\n        print(\"SUCCESS: iOS device validation test passed\")\n        return True\n    except Exception as e:\n        print(f\"ERROR: iOS device validation test failed: {str(e)}\")\n        return False\n\n# Run the test\ntest_device_registration_validation()"
  },
  {
   "cell_type": "code",
   "metadata": {},
   "outputs": [],
   "source": "# Test push token validation using DeviceManager models\n\ndef test_push_token_validation():\n    \"\"\"Test that push tokens are validated for different platforms.\"\"\"\n    \n    try:\n        # Test iOS token format (64 hex characters)\n        ios_token = \"a1b2c3d4e5f6789012345678901234567890123456789012345678901234abcd\"\n        ios_device = DeviceInfo(\n            token=ios_token,\n            type=DeviceType.IOS,\n            push_provider=PushProvider.APNS\n        )\n        assert len(ios_device.token) == 64\n        \n        # Test Android token format (FCM token)\n        android_token = \"fGcm_token_123:APA91bH...example_token\"\n        android_device = DeviceInfo(\n            token=android_token,\n            type=DeviceType.ANDROID,\n            push_provider=PushProvider.FCM\n        )\n        assert len(android_device.token) >= 10\n        \n        # Test web push token format\n        web_token = \"BP91bH_example_web_push_token_with_base64_encoding\"\n        web_device = DeviceInfo(\n            token=web_token,\n            type=DeviceType.WEB,\n            push_provider=PushProvider.WEB_PUSH\n        )\n        assert len(web_device.token) >= 10\n        \n        print(\"SUCCESS: Push token validation tests passed\")\n        return True\n    except Exception as e:\n        print(f\"ERROR: Push token validation test failed: {str(e)}\")\n        return False\n\n# Run the test\ntest_push_token_validation()"
  },
  {
   "cell_type": "code",
   "metadata": {},
   "outputs": [],
   "source": "# Test device attributes validation using DeviceManager models\n\ndef test_device_attributes_validation():\n    \"\"\"Test that device attributes are properly structured and typed.\"\"\"\n    \n    try:\n        device_attributes = DeviceAttributes(\n            push_enabled=True,\n            timezone=\"America/New_York\",\n            locale=\"en-US\",\n            battery_level=0.85,\n            network_type=\"wifi\",\n            screen_width=1179,\n            screen_height=2556\n        )\n        \n        # Validate data types and constraints\n        assert isinstance(device_attributes.push_enabled, bool)\n        assert 0.0 <= device_attributes.battery_level <= 1.0\n        assert device_attributes.timezone == \"America/New_York\"\n        assert device_attributes.locale == \"en-US\"\n        assert device_attributes.screen_width > 0\n        assert device_attributes.screen_height > 0\n        \n        print(\"SUCCESS: Device attributes validation test passed\")\n        return True\n    except Exception as e:\n        print(f\"ERROR: Device attributes validation test failed: {str(e)}\")\n        return False\n\n# Run the test\ntest_device_attributes_validation()"
  },
  {
   "cell_type": "markdown",
   "metadata": {},
   "source": [
    "## Device Types and Platform Support"
   ]
  },
  {
   "cell_type": "code",
   "metadata": {},
   "outputs": [],
   "source": "# Test device types and platform support from DeviceManager\n\nprint(\"Available device types from DeviceManager:\")\nfor device_type in DeviceType:\n    print(f\"  - {device_type.value}\")\n\nprint(\"\\nAvailable push providers from DeviceManager:\")\nfor provider in PushProvider:\n    print(f\"  - {provider.value}\")\n\nprint(\"\\nAvailable device statuses from DeviceManager:\")\nfor status in DeviceStatus:\n    print(f\"  - {status.value}\")\n\nprint(\"SUCCESS: Device types and enumerations are available from DeviceManager\")"
  },
  {
   "cell_type": "markdown",
   "metadata": {},
   "source": [
    "## Type-Safe Device Models"
   ]
  },
  {
   "cell_type": "code",
   "metadata": {},
   "outputs": [],
   "source": "# Test DeviceInfo model from DeviceManager\n\nios_device_info = DeviceInfo(\n    token=\"a1b2c3d4e5f6789012345678901234567890123456789012345678901234abcd\",\n    type=DeviceType.IOS,\n    device_id=\"iPhone14,2\",\n    device_model=\"iPhone 15 Pro\",\n    os_version=\"17.2\",\n    app_version=\"2.1.0\",\n    push_provider=PushProvider.APNS\n)\n\nprint(\"DeviceInfo model test:\")\nprint(f\"  Token: {ios_device_info.token[:20]}...\")  # Truncate for display\nprint(f\"  Type: {ios_device_info.type}\")\nprint(f\"  Device ID: {ios_device_info.device_id}\")\nprint(f\"  Model: {ios_device_info.device_model}\")\nprint(f\"  OS Version: {ios_device_info.os_version}\")\nprint(f\"  Push Provider: {ios_device_info.push_provider}\")\nprint(\"SUCCESS: DeviceInfo model working with validation\")"
  },
  {
   "cell_type": "code",
   "metadata": {},
   "outputs": [],
   "source": "# Test DeviceAttributes model from DeviceManager\n\nios_attributes = DeviceAttributes(\n    push_enabled=True,\n    timezone=\"America/New_York\",\n    locale=\"en-US\",\n    battery_level=0.85,\n    network_type=\"wifi\",\n    screen_width=1179,\n    screen_height=2556\n)\n\nprint(\"DeviceAttributes model test:\")\nprint(f\"  Push Enabled: {ios_attributes.push_enabled}\")\nprint(f\"  Timezone: {ios_attributes.timezone}\")\nprint(f\"  Locale: {ios_attributes.locale}\")\nprint(f\"  Battery Level: {ios_attributes.battery_level}\")\nprint(f\"  Network Type: {ios_attributes.network_type}\")\nprint(f\"  Screen Size: {ios_attributes.screen_width}x{ios_attributes.screen_height}\")\nprint(\"SUCCESS: DeviceAttributes model working with validation\")"
  },
  {
   "cell_type": "code",
   "metadata": {},
   "outputs": [],
   "source": "# Test DeviceRegistration model from DeviceManager\n\nios_registration = DeviceRegistration(\n    user_id=\"user_mobile_001\",\n    device_info=ios_device_info,\n    attributes=ios_attributes,\n    status=DeviceStatus.ACTIVE\n)\n\nprint(\"DeviceRegistration model test:\")\nprint(f\"  User ID: {ios_registration.user_id}\")\nprint(f\"  Device Type: {ios_registration.device_info.type}\")\nprint(f\"  Device Model: {ios_registration.device_info.device_model}\")\nprint(f\"  Status: {ios_registration.status}\")\nprint(f\"  Push Enabled: {ios_registration.attributes.push_enabled}\")\nprint(f\"  Registered At: {ios_registration.registered_at}\")\nprint(\"SUCCESS: DeviceRegistration model working with validation\")"
  },
  {
   "cell_type": "markdown",
   "metadata": {},
   "source": [
    "## Device Registration Implementation"
   ]
  },
  {
   "cell_type": "code",
   "metadata": {},
   "outputs": [],
   "source": "# Test device registration using DeviceManager\n\nprint(\"iOS device registration using DeviceManager:\")\nprint(f\"  User: {ios_registration.user_id}\")\nprint(f\"  Device: {ios_registration.device_info.device_model}\")\nprint(f\"  Type: {ios_registration.device_info.type}\")\nprint(f\"  Push Provider: {ios_registration.device_info.push_provider}\")\nprint(f\"  Token: {ios_registration.device_info.token[:20]}...\")\nprint(f\"  Status: {ios_registration.status}\")\nprint(\"SUCCESS: Device registration model created with DeviceManager\")"
  },
  {
   "cell_type": "code",
   "metadata": {},
   "outputs": [],
   "source": "# Register device using DeviceManager\n\nif ENVIRONMENT == \"test\":\n    print(\"INFO: Running in test mode - device not actually registered\")\n    result = {\"status\": \"test_success\", \"message\": \"Device registration validated\"}\nelse:\n    result = device_manager.register_device(ios_registration)\n\nprint(f\"Device registration result: {result}\")\nprint(\"SUCCESS: Device registered using DeviceManager\")"
  },
  {
   "cell_type": "markdown",
   "metadata": {},
   "source": [
    "## Multi-Platform Device Support"
   ]
  },
  {
   "cell_type": "code",
   "metadata": {},
   "outputs": [],
   "source": "# Create Android device registration using DeviceManager models\n\nandroid_device_info = DeviceInfo(\n    token=\"fGcm_token_123:APA91bH_example_android_fcm_token_with_proper_format\",\n    type=DeviceType.ANDROID,\n    device_id=\"android_device_001\",\n    device_model=\"Samsung Galaxy S24\",\n    os_version=\"14.0\",\n    app_version=\"2.1.0\",\n    push_provider=PushProvider.FCM\n)\n\nandroid_attributes = DeviceAttributes(\n    push_enabled=True,\n    timezone=\"America/Los_Angeles\",\n    locale=\"en-US\",\n    battery_level=0.92,\n    network_type=\"5g\",\n    carrier=\"Verizon\",\n    screen_width=1440,\n    screen_height=3120\n)\n\nandroid_registration = DeviceRegistration(\n    user_id=\"user_mobile_002\",\n    device_info=android_device_info,\n    attributes=android_attributes,\n    status=DeviceStatus.ACTIVE\n)\n\nprint(\"Android device registration:\")\nprint(f\"  User: {android_registration.user_id}\")\nprint(f\"  Device: {android_registration.device_info.device_model}\")\nprint(f\"  OS: Android {android_registration.device_info.os_version}\")\nprint(f\"  Carrier: {android_registration.attributes.carrier}\")\nprint(f\"  Network: {android_registration.attributes.network_type}\")\nprint(\"SUCCESS: Android device registration created\")"
  },
  {
   "cell_type": "code",
   "metadata": {},
   "outputs": [],
   "source": "# Create web browser device registration using DeviceManager models\n\nweb_device_info = DeviceInfo(\n    token=\"BP91bH_example_web_push_token_with_base64_encoding_for_browser_notifications\",\n    type=DeviceType.WEB,\n    device_id=\"web_browser_001\",\n    device_model=\"Chrome Browser\",\n    os_version=\"macOS 14.2\",\n    app_version=\"121.0.6167.85\",\n    push_provider=PushProvider.WEB_PUSH\n)\n\nweb_attributes = DeviceAttributes(\n    push_enabled=True,\n    timezone=\"America/Chicago\",\n    locale=\"en-US\",\n    network_type=\"wifi\",\n    screen_width=1920,\n    screen_height=1080\n)\n\nweb_registration = DeviceRegistration(\n    user_id=\"user_web_001\",\n    device_info=web_device_info,\n    attributes=web_attributes,\n    status=DeviceStatus.ACTIVE\n)\n\nprint(\"Web device registration:\")\nprint(f\"  User: {web_registration.user_id}\")\nprint(f\"  Device: {web_registration.device_info.device_model}\")\nprint(f\"  OS: {web_registration.device_info.os_version}\")\nprint(f\"  Browser Version: {web_registration.device_info.app_version}\")\nprint(f\"  Screen Size: {web_registration.attributes.screen_width}x{web_registration.attributes.screen_height}\")\nprint(\"SUCCESS: Web device registration created\")"
  },
  {
   "cell_type": "code",
   "metadata": {},
   "outputs": [],
   "source": "# Create desktop application device registration using DeviceManager models\n\ndesktop_device_info = DeviceInfo(\n    token=\"desktop_push_token_example_for_native_desktop_application_notifications\",\n    type=DeviceType.DESKTOP,\n    device_id=\"desktop_app_001\",\n    device_model=\"MacBook Pro\",\n    os_version=\"macOS 14.2\",\n    app_version=\"3.0.1\",\n    push_provider=PushProvider.DESKTOP\n)\n\ndesktop_attributes = DeviceAttributes(\n    push_enabled=True,\n    timezone=\"America/New_York\",\n    locale=\"en-US\",\n    network_type=\"ethernet\",\n    screen_width=2560,\n    screen_height=1600\n)\n\ndesktop_registration = DeviceRegistration(\n    user_id=\"user_desktop_001\",\n    device_info=desktop_device_info,\n    attributes=desktop_attributes,\n    status=DeviceStatus.ACTIVE\n)\n\nprint(\"Desktop device registration:\")\nprint(f\"  User: {desktop_registration.user_id}\")\nprint(f\"  Device: {desktop_registration.device_info.device_model}\")\nprint(f\"  OS: {desktop_registration.device_info.os_version}\")\nprint(f\"  App Version: {desktop_registration.device_info.app_version}\")\nprint(f\"  Network: {desktop_registration.attributes.network_type}\")\nprint(\"SUCCESS: Desktop device registration created\")"
  },
  {
   "cell_type": "markdown",
   "metadata": {},
   "source": [
    "## Device Lifecycle Management"
   ]
  },
  {
   "cell_type": "code",
   "metadata": {},
   "outputs": [],
   "source": "# Update device status using DeviceManager\n\nif ENVIRONMENT == \"test\":\n    print(\"INFO: Running in test mode - status update not actually sent\")\n    result = {\"status\": \"test_success\", \"message\": \"Status update validated\"}\nelse:\n    result = device_manager.update_device_status(\n        user_id=\"user_mobile_001\",\n        device_token=ios_device_info.token,\n        new_status=DeviceStatus.INACTIVE,\n        reason=\"User disabled push notifications\"\n    )\n\nprint(\"Device status update using DeviceManager:\")\nprint(f\"  User: user_mobile_001\")\nprint(f\"  New Status: inactive\")\nprint(f\"  Reason: User disabled push notifications\")\nprint(f\"Result: {result}\")\nprint(\"SUCCESS: Device status updated using DeviceManager\")"
  },
  {
   "cell_type": "code",
   "metadata": {},
   "outputs": [],
   "source": "# Handle device token refresh using DeviceManager\n\nnew_ios_token = \"z9y8x7w6v5u4t3s2r1q0p9o8n7m6l5k4j3i2h1g0f9e8d7c6b5a4321098765432\"\ntoken_refresh = device_manager.refresh_device_token(\n    user_id=\"user_mobile_001\",\n    old_token=ios_device_info.token,\n    new_token=new_ios_token,\n    device_type=DeviceType.IOS\n)\n\nprint(\"Device token refresh using DeviceManager:\")\nprint(f\"  User: user_mobile_001\")\nprint(f\"  Device Type: ios\")\nprint(f\"  Old Token: {ios_device_info.token[:20]}...\")\nprint(f\"  New Token: {new_ios_token[:20]}...\")\nprint(\"SUCCESS: Device token refresh event created\")"
  },
  {
   "cell_type": "code",
   "metadata": {},
   "outputs": [],
   "source": "# Remove device registration using DeviceManager\n\ndevice_removal = device_manager.remove_device(\n    user_id=\"user_mobile_002\",\n    device_token=android_device_info.token,\n    device_type=DeviceType.ANDROID,\n    reason=\"app_uninstalled\"\n)\n\nprint(\"Device removal using DeviceManager:\")\nprint(f\"  User: user_mobile_002\")\nprint(f\"  Device Type: android\")\nprint(f\"  Reason: app_uninstalled\")\nprint(f\"  Token: {android_device_info.token[:20]}...\")\nprint(\"SUCCESS: Device removal event created\")"
  },
  {
   "cell_type": "markdown",
   "metadata": {},
   "source": [
    "## Batch Device Operations"
   ]
  },
  {
   "cell_type": "code",
   "metadata": {},
   "outputs": [],
   "source": "# Create batch device registrations using DeviceManager\n\nbatch_registrations = [\n    ios_registration,\n    android_registration,\n    web_registration,\n    desktop_registration\n]\n\nprint(f\"Created batch of {len(batch_registrations)} device registrations:\")\nfor registration in batch_registrations:\n    device_type = registration.device_info.type\n    user_id = registration.user_id\n    device_model = registration.device_info.device_model\n    print(f\"  - {user_id}: {device_type} ({device_model})\")\n\nprint(\"SUCCESS: Batch device registrations prepared for DeviceManager\")"
  },
  {
   "cell_type": "code",
   "metadata": {},
   "outputs": [],
   "source": "# Send batch device registrations using DeviceManager\n\nif ENVIRONMENT == \"test\":\n    print(\"INFO: Running in test mode - batch devices not actually sent\")\n    batch_results = [\n        {\"batch_id\": 0, \"status\": \"test_success\", \"count\": len(batch_registrations)}\n    ]\nelse:\n    batch_results = device_manager.batch_register_devices(batch_registrations)\n\nprint(\"\\nDevice batch submission results:\")\nfor result in batch_results:\n    print(f\"  Batch {result['batch_id']}: {result['status']} ({result['count']} devices)\")\n\nprint(\"SUCCESS: Batch device registrations processed using DeviceManager\")"
  },
  {
   "cell_type": "markdown",
   "metadata": {},
   "source": [
    "## Cross-Platform Device Tracking"
   ]
  },
  {
   "cell_type": "code",
   "metadata": {},
   "outputs": [],
   "source": "# Create cross-platform user using DeviceManager\n\n# Create devices for same user for demonstration\nmulti_device_user_devices = [ios_registration, android_registration, web_registration]\n\n# Update all devices to same user\nfor device in multi_device_user_devices:\n    device.user_id = \"user_cross_platform_001\"\n\ncross_platform_event = device_manager.create_cross_platform_user(\n    user_id=\"user_cross_platform_001\",\n    devices=multi_device_user_devices\n)\n\nprint(\"Cross-platform user profile using DeviceManager:\")\nprint(json.dumps(cross_platform_event, indent=2, default=str))\nprint(\"SUCCESS: Cross-platform user profile created using DeviceManager\")"
  },
  {
   "cell_type": "code",
   "metadata": {},
   "outputs": [],
   "source": "# Analyze device preferences using DeviceManager\n\nall_devices = [ios_registration, android_registration, web_registration, desktop_registration]\npreferences = device_manager.analyze_device_preferences(all_devices)\n\nprint(\"Device preference analysis using DeviceManager:\")\nprint(json.dumps(preferences, indent=2, default=str))\nprint(\"SUCCESS: Device preferences analyzed using DeviceManager\")"
  },
  {
   "cell_type": "markdown",
   "metadata": {},
   "source": [
    "## Device Data from Spark Integration"
   ]
  },
  {
   "cell_type": "code",
   "execution_count": null,
   "metadata": {},
   "outputs": [],
   "source": [
    "# Load device data from Delta table\n",
    "print(\"=== Device Data Integration ===\")\n",
    "\n",
    "# Create sample device data table if it doesn't exist\n",
    "spark.sql(f\"\"\"\n",
    "CREATE TABLE IF NOT EXISTS {CATALOG_NAME}.{DATABASE_NAME}.device_registrations (\n",
    "    user_id STRING,\n",
    "    device_token STRING,\n",
    "    device_type STRING,\n",
    "    device_model STRING,\n",
    "    os_version STRING,\n",
    "    app_version STRING,\n",
    "    push_enabled BOOLEAN,\n",
    "    timezone STRING,\n",
    "    locale STRING,\n",
    "    registered_at TIMESTAMP\n",
    ") USING DELTA\n",
    "\"\"\")\n",
    "\n",
    "# Insert sample device data\n",
    "spark.sql(f\"\"\"\n",
    "INSERT INTO {CATALOG_NAME}.{DATABASE_NAME}.device_registrations\n",
    "SELECT * FROM VALUES\n",
    "    ('user_spark_001', 'ios_token_001', 'ios', 'iPhone 15', '17.2', '2.1.0', true, 'America/New_York', 'en-US', current_timestamp()),\n",
    "    ('user_spark_001', 'android_token_001', 'android', 'Pixel 8', '14.0', '2.1.0', true, 'America/New_York', 'en-US', current_timestamp()),\n",
    "    ('user_spark_002', 'web_token_001', 'web', 'Chrome', '121.0', '2.1.0', true, 'America/Los_Angeles', 'en-US', current_timestamp()),\n",
    "    ('user_spark_003', 'ios_token_002', 'ios', 'iPhone 14', '17.1', '2.0.8', false, 'Europe/London', 'en-GB', current_timestamp())\n",
    "WHERE NOT EXISTS (\n",
    "    SELECT 1 FROM {CATALOG_NAME}.{DATABASE_NAME}.device_registrations \n",
    "    WHERE device_token = 'ios_token_001'\n",
    ")\n",
    "\"\"\")\n",
    "\n",
    "# Load device registrations\n",
    "devices_df = spark.table(f\"{CATALOG_NAME}.{DATABASE_NAME}.device_registrations\")\n",
    "print(\"Sample device registrations from Spark:\")\n",
    "devices_df.show(truncate=False)"
   ]
  },
  {
   "cell_type": "code",
   "metadata": {},
   "outputs": [],
   "source": "# Transform Spark device data using DeviceManager models\n\ndef transform_spark_devices_to_registrations(df):\n    \"\"\"Transform device data from Spark to DeviceRegistration objects.\"\"\"\n    \n    # Collect data (in production, process in batches)\n    devices = df.collect()\n    \n    registrations = []\n    for device in devices:\n        # Create DeviceInfo\n        device_info = DeviceInfo(\n            token=device['device_token'],\n            type=DeviceType(device['device_type']),\n            device_model=device['device_model'],\n            os_version=device['os_version'],\n            app_version=device['app_version']\n        )\n        \n        # Create DeviceAttributes\n        attributes = DeviceAttributes(\n            push_enabled=device['push_enabled'],\n            timezone=device['timezone'],\n            locale=device['locale']\n        )\n        \n        # Create DeviceRegistration\n        registration = DeviceRegistration(\n            user_id=device['user_id'],\n            device_info=device_info,\n            attributes=attributes,\n            registered_at=device['registered_at']\n        )\n        \n        registrations.append(registration)\n    \n    return registrations\n\n# Transform device data using DeviceManager models\nspark_device_registrations = transform_spark_devices_to_registrations(devices_df)\nprint(f\"Transformed {len(spark_device_registrations)} device records to DeviceRegistration objects\")\n\n# Show sample\nif spark_device_registrations:\n    sample = spark_device_registrations[0]\n    print(f\"\\nSample transformed device:\")\n    print(f\"  User: {sample.user_id}\")\n    print(f\"  Type: {sample.device_info.type}\")\n    print(f\"  Model: {sample.device_info.device_model}\")\n    print(f\"  Push Enabled: {sample.attributes.push_enabled}\")"
  },
  {
   "cell_type": "code",
   "metadata": {},
   "outputs": [],
   "source": "# Process Spark device registrations using DeviceManager\n\nif spark_device_registrations:\n    if ENVIRONMENT == \"test\":\n        print(\"INFO: Running in test mode - Spark devices not actually sent\")\n        spark_batch_results = [\n            {\"batch_id\": 0, \"status\": \"test_success\", \"count\": len(spark_device_registrations)}\n        ]\n    else:\n        spark_batch_results = device_manager.batch_register_devices(spark_device_registrations)\n    \n    print(\"\\nSpark device registrations batch results:\")\n    for result in spark_batch_results:\n        print(f\"  Batch {result['batch_id']}: {result['status']} ({result['count']} devices)\")\nelse:\n    print(\"No device registrations to process from Spark data\")"
  },
  {
   "cell_type": "markdown",
   "metadata": {},
   "source": [
    "## Device Analytics and Reporting"
   ]
  },
  {
   "cell_type": "code",
   "metadata": {},
   "outputs": [],
   "source": "# Calculate device metrics using DeviceManager\n\n# Collect all device registrations for analysis\nall_device_registrations = (\n    [ios_registration, android_registration, web_registration, desktop_registration] + \n    spark_device_registrations\n)\n\ndevice_metrics = device_manager.calculate_device_metrics(all_device_registrations)\n\nprint(\"=== Device Analytics (using DeviceManager) ===\")\nprint(json.dumps(device_metrics, indent=2, default=str))\nprint(\"SUCCESS: Device metrics calculated using DeviceManager\")"
  },
  {
   "cell_type": "markdown",
   "metadata": {},
   "source": [
    "## Performance Monitoring and Health Checks"
   ]
  },
  {
   "cell_type": "code",
   "metadata": {},
   "outputs": [],
   "source": "# Monitor device health using DeviceManager\n\nhealth_report = device_manager.monitor_device_health(all_device_registrations)\n\nprint(\"=== Device Health Monitoring (using DeviceManager) ===\")\nprint(f\"Health Score: {health_report['health_score']:.2%}\")\nprint(f\"Healthy Devices: {health_report['healthy_devices']}/{health_report['total_devices']}\")\n\nif health_report[\"issues_found\"]:\n    print(f\"\\nIssues Found ({len(health_report['issues_found'])}):\"))\n    for issue in health_report[\"issues_found\"]:\n        print(f\"  - {issue['user_id']} ({issue['device_type']}): {', '.join(issue['issues'])}\")\n\nif health_report[\"recommendations\"]:\n    print(f\"\\nRecommendations:\")\n    for rec in health_report[\"recommendations\"]:\n        print(f\"  - {rec}\")\n\nprint(\"SUCCESS: Device health monitoring using DeviceManager\")"
  },
  {
   "cell_type": "markdown",
   "metadata": {},
   "source": [
    "## Clean Up and Summary"
   ]
  },
  {
   "cell_type": "code",
   "execution_count": null,
   "metadata": {},
   "outputs": [],
   "source": [
    "# Final summary\n",
    "print(\"=== Device Management Summary ===\")\n",
    "\n",
    "print(\"\\n=== Devices Registered ===\")\n",
    "print(\"SUCCESS: iOS device with APNS integration\")\n",
    "print(\"SUCCESS: Android device with FCM integration\")\n",
    "print(\"SUCCESS: Web browser with Web Push API\")\n",
    "print(\"SUCCESS: Desktop application notifications\")\n",
    "print(\"SUCCESS: Device data imported from Spark\")\n",
    "\n",
    "print(\"\\n=== Device Operations ===\")\n",
    "print(\"SUCCESS: Device status lifecycle management\")\n",
    "print(\"SUCCESS: Push token refresh handling\")\n",
    "print(\"SUCCESS: Device removal and cleanup\")\n",
    "print(\"SUCCESS: Cross-platform user tracking\")\n",
    "print(\"SUCCESS: Batch device operations\")\n",
    "\n",
    "print(\"\\n=== Key Capabilities Demonstrated ===\")\n",
    "print(\"SUCCESS: Type-safe device registration with validation\")\n",
    "print(\"SUCCESS: Multi-platform push notification support\")\n",
    "print(\"SUCCESS: Device lifecycle and status management\")\n",
    "print(\"SUCCESS: Cross-platform user tracking and analytics\")\n",
    "print(\"SUCCESS: Batch operations with optimization\")\n",
    "print(\"SUCCESS: Device health monitoring and diagnostics\")\n",
    "print(\"SUCCESS: Data integration from Spark DataFrames\")\n",
    "print(\"SUCCESS: Comprehensive device analytics and reporting\")"
   ]
  },
  {
   "cell_type": "code",
   "execution_count": null,
   "metadata": {},
   "outputs": [],
   "source": [
    "# Close the API client connection\n",
    "client.close()\n",
    "print(\"SUCCESS: API client connection closed\")\n",
    "\n",
    "print(\"\\nCOMPLETED: Device management notebook finished successfully!\")\n",
    "print(\"Ready for advanced tracking operations in the next notebook.\")"
   ]
  }
 ],
 "metadata": {
  "kernelspec": {
   "display_name": "Python 3",
   "language": "python",
   "name": "python3"
  },
  "language_info": {
   "codemirror_mode": {
    "name": "ipython",
    "version": 3
   },
   "file_extension": ".py",
   "mimetype": "text/x-python",
   "name": "python",
   "nbconvert_exporter": "python",
   "pygments_lexer": "ipython3",
   "version": "3.8.5"
  }
 },
 "nbformat": 4,
 "nbformat_minor": 4
}