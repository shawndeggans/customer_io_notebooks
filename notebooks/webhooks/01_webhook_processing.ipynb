{
 "cells": [
  {
   "cell_type": "markdown",
   "id": "intro",
   "metadata": {},
   "source": [
    "# Customer.IO Webhook Processing\n",
    "\n",
    "This notebook demonstrates how to process Customer.IO webhooks for delivery tracking and event handling.\n",
    "\n",
    "## Setup\n",
    "\n",
    "First, let's import the webhook processing utilities."
   ]
  },
  {
   "cell_type": "code",
   "id": "setup",
   "metadata": {},
   "outputs": [],
   "source": "import os\nimport sys\nimport json\nimport hmac\nimport hashlib\nfrom datetime import datetime\n\n# For local development with src imports (backwards compatibility)\n# Add src directory to path if it exists\nnotebook_dir = os.path.dirname(os.path.abspath(''))\nproject_root = os.path.abspath(os.path.join(notebook_dir, '..', '..'))\nsrc_path = os.path.join(project_root, 'src')\n\nif os.path.exists(src_path):\n    sys.path.insert(0, src_path)\n    # Try importing from src (local development pattern)\n    try:\n        from src.webhooks.processor import (\n            verify_signature,\n            parse_event,\n            WebhookEvent\n        )\n    except ImportError:\n        # Fall back to package imports\n        from webhooks.processor import (\n            verify_signature,\n            parse_event,\n            WebhookEvent\n        )\nelse:\n    # Databricks or package installation - use package imports\n    from webhooks.processor import (\n        verify_signature,\n        parse_event,\n        WebhookEvent\n    )\n\nprint(\"Webhook processing utilities imported successfully\")"
  },
  {
   "cell_type": "markdown",
   "metadata": {},
   "source": "## Databricks Environment Setup\n\nThis section handles the installation of required libraries and configuration for Databricks clusters. Skip this section if running locally.",
   "outputs": []
  },
  {
   "cell_type": "code",
   "metadata": {},
   "outputs": [],
   "source": "# Databricks library installation\n# Uncomment the following lines when running on Databricks\n\n# %pip install customerio-api-client\n# OR if using a wheel file:\n# %pip install /dbfs/path/to/customerio_api_client-1.0.0-py3-none-any.whl\n\n# For development without packaging, install individual requirements:\n# %pip install httpx>=0.25.0 pydantic>=2.0.0 pandas>=2.0.0 python-dotenv>=1.0.0 structlog>=24.0.0\n\n# Restart kernel after installation if needed\n# import dbutils\n# dbutils.library.restartPython()"
  },
  {
   "cell_type": "markdown",
   "id": "signature-verification",
   "metadata": {},
   "source": [
    "## Webhook Signature Verification\n",
    "\n",
    "Verify that webhooks are authentically from Customer.IO."
   ]
  },
  {
   "cell_type": "code",
   "execution_count": null,
   "id": "verify-signature",
   "metadata": {},
   "outputs": [],
   "source": [
    "# Example webhook payload and signature\n",
    "webhook_payload = '{\"event_type\": \"email_delivered\", \"customer_id\": \"cust_123\"}'\n",
    "webhook_signature = \"sha256=example_signature_here\"\n",
    "webhook_secret = \"your_webhook_secret_here\"\n",
    "\n",
    "# Verify the signature\n",
    "is_valid = verify_signature(\n",
    "    payload=webhook_payload,\n",
    "    signature=webhook_signature,\n",
    "    secret=webhook_secret\n",
    ")\n",
    "\n",
    "print(f\"Webhook signature valid: {is_valid}\")"
   ]
  },
  {
   "cell_type": "markdown",
   "id": "event-parsing",
   "metadata": {},
   "source": [
    "## Event Parsing\n",
    "\n",
    "Parse webhook events and extract event types."
   ]
  },
  {
   "cell_type": "code",
   "id": "parse-events",
   "metadata": {},
   "outputs": [],
   "source": "# Parse the webhook event\nevent_data = parse_event(webhook_payload)\nprint(f\"Parsed event data: {event_data}\")\n\n# Get the event type (import the function first)\nfrom src.webhooks.processor import get_event_type\nevent_type = get_event_type(event_data)\nprint(f\"Event type: {event_type}\")"
  },
  {
   "cell_type": "markdown",
   "id": "event-processing",
   "metadata": {},
   "source": [
    "## Complete Webhook Processing Workflow\n",
    "\n",
    "A complete example of processing an incoming webhook."
   ]
  },
  {
   "cell_type": "code",
   "id": "complete-workflow",
   "metadata": {},
   "outputs": [],
   "source": "def process_webhook(payload, signature, secret):\n    \"\"\"Process a Customer.IO webhook with full validation.\"\"\"\n    \n    # Step 1: Verify signature\n    if not verify_signature(payload, signature, secret):\n        print(\"ERROR: Invalid webhook signature\")\n        return None\n    \n    print(\"SUCCESS: Webhook signature verified\")\n    \n    # Step 2: Parse event\n    try:\n        event = parse_event(payload)\n        event_type = get_event_type(event)\n        \n        print(f\"Processing {event_type} event\")\n        \n        # Step 3: Handle different event types\n        if event_type == \"email_delivered\":\n            print(f\"Email delivered to customer {event.get('customer_id')}\")\n        elif event_type == \"email_opened\":\n            print(f\"Email opened by customer {event.get('customer_id')}\")\n        elif event_type == \"email_clicked\":\n            print(f\"Email link clicked by customer {event.get('customer_id')}\")\n        else:\n            print(f\"Received {event_type} event\")\n        \n        return event\n        \n    except Exception as e:\n        print(f\"ERROR: Error processing webhook: {e}\")\n        return None\n\n# Example usage\nresult = process_webhook(webhook_payload, webhook_signature, webhook_secret)\nprint(f\"Processing result: {result}\")"
  }
 ],
 "metadata": {
  "kernelspec": {
   "display_name": "Python 3",
   "language": "python",
   "name": "python3"
  },
  "language_info": {
   "codemirror_mode": {
    "name": "ipython",
    "version": 3
   },
   "file_extension": ".py",
   "mimetype": "text/x-python",
   "name": "python",
   "nbconvert_exporter": "python",
   "pygments_lexer": "ipython3",
   "version": "3.8.0"
  }
 },
 "nbformat": 4,
 "nbformat_minor": 5
}