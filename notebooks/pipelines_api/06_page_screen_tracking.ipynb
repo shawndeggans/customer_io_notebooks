{
 "cells": [
  {
   "cell_type": "markdown",
   "metadata": {},
   "source": [
    "# Customer.IO Page and Screen Tracking\n",
    "\n",
    "This notebook demonstrates how to track page views and screen views using the Customer.IO API client library.\n",
    "Page tracking is used for web applications, while screen tracking is used for mobile applications."
   ]
  },
  {
   "cell_type": "markdown",
   "metadata": {},
   "source": [
    "## Setup and Imports\n",
    "\n",
    "Import the page and screen tracking functions and initialize the API client."
   ]
  },
  {
   "cell_type": "code",
   "metadata": {},
   "outputs": [],
   "source": "# Setup and imports\nimport os\nfrom datetime import datetime\nfrom utils.api_client import CustomerIOClient\nfrom utils.people_manager import identify_user\nfrom utils.page_manager import track_page, track_pageview\nfrom utils.screen_manager import track_screen, track_screenview\nfrom utils.exceptions import CustomerIOError, ValidationError\n\n# Initialize client\nAPI_KEY = os.getenv('CUSTOMERIO_API_KEY', 'your-api-key-here')\nclient = CustomerIOClient(api_key=API_KEY, region='us')\n\nprint(\"Customer.IO page and screen tracking functions loaded successfully\")"
  },
  {
   "cell_type": "markdown",
   "metadata": {},
   "source": [
    "## Page Tracking (Web Applications)\n",
    "\n",
    "Track page views in web applications to understand user navigation patterns."
   ]
  },
  {
   "cell_type": "code",
   "metadata": {},
   "outputs": [],
   "source": "# Example: Track a basic page view\nuser_id = \"web_user_001\"\n\n# First, ensure the user exists in Customer.IO\ntry:\n    identify_user(\n        client=client,\n        user_id=user_id,\n        traits={\"email\": f\"{user_id}@example.com\", \"name\": \"Web User\"}\n    )\n    print(f\"User {user_id} identified successfully\")\nexcept CustomerIOError as e:\n    print(f\"Error identifying user: {e}\")\n\ntry:\n    result = track_page(\n        client=client,\n        user_id=user_id,\n        page_name=\"Home Page\",\n        properties={\n            \"url\": \"https://example.com/\",\n            \"title\": \"Welcome to Our App\",\n            \"path\": \"/\"\n        }\n    )\n    print(\"Page view tracked successfully\")\nexcept CustomerIOError as e:\n    print(f\"Error tracking page: {e}\")"
  },
  {
   "cell_type": "code",
   "metadata": {},
   "outputs": [],
   "source": "# Example: Track page with detailed properties\npage_properties = {\n    \"url\": \"https://example.com/products/widget-123\",\n    \"title\": \"Premium Widget - Product Details\",\n    \"path\": \"/products/widget-123\",\n    \"referrer\": \"https://google.com/search\",\n    \"category\": \"product\",\n    \"subcategory\": \"widgets\",\n    \"product_id\": \"widget-123\",\n    \"load_time\": 1.23\n}\n\ntry:\n    result = track_page(\n        client=client,\n        user_id=user_id,\n        page_name=\"Product Detail\",\n        properties=page_properties\n    )\n    print(\"Product page view tracked with detailed properties\")\nexcept CustomerIOError as e:\n    print(f\"Error: {e}\")"
  },
  {
   "cell_type": "code",
   "execution_count": null,
   "metadata": {},
   "outputs": [],
   "source": [
    "# Example: Track anonymous page view\n",
    "try:\n",
    "    result = track_page(\n",
    "        client=client,\n",
    "        anonymous_id=\"anon_12345\",\n",
    "        page_name=\"Landing Page\",\n",
    "        properties={\n",
    "            \"url\": \"https://example.com/landing/special-offer\",\n",
    "            \"title\": \"Special Offer - 50% Off\",\n",
    "            \"campaign\": \"summer-sale-2024\",\n",
    "            \"utm_source\": \"facebook\",\n",
    "            \"utm_medium\": \"social\"\n",
    "        }\n",
    "    )\n",
    "    print(\"Anonymous page view tracked\")\n",
    "except CustomerIOError as e:\n",
    "    print(f\"Error: {e}\")"
   ]
  },
  {
   "cell_type": "markdown",
   "metadata": {},
   "source": [
    "## Screen Tracking (Mobile Applications)\n",
    "\n",
    "Track screen views in mobile applications to understand user navigation patterns."
   ]
  },
  {
   "cell_type": "code",
   "metadata": {},
   "outputs": [],
   "source": "# Example: Track a basic screen view\nmobile_user_id = \"mobile_user_001\"\n\n# First, ensure the user exists in Customer.IO\ntry:\n    identify_user(\n        client=client,\n        user_id=mobile_user_id,\n        traits={\"email\": f\"{mobile_user_id}@example.com\", \"name\": \"Mobile User\"}\n    )\n    print(f\"User {mobile_user_id} identified successfully\")\nexcept CustomerIOError as e:\n    print(f\"Error identifying user: {e}\")\n\ntry:\n    result = track_screen(\n        client=client,\n        user_id=mobile_user_id,\n        screen_name=\"Dashboard\",\n        properties={\n            \"screen_class\": \"DashboardViewController\",\n            \"category\": \"main_nav\"\n        }\n    )\n    print(\"Screen view tracked successfully\")\nexcept CustomerIOError as e:\n    print(f\"Error tracking screen: {e}\")"
  },
  {
   "cell_type": "code",
   "metadata": {},
   "outputs": [],
   "source": "# Example: Track screen with mobile context\nscreen_properties = {\n    \"screen_class\": \"ProductDetailViewController\",\n    \"category\": \"ecommerce\",\n    \"product_id\": \"mobile-widget-456\",\n    \"product_name\": \"Mobile Widget Pro\",\n    \"price\": 29.99,\n    \"currency\": \"USD\"\n}\n\nmobile_context = {\n    \"app\": {\n        \"name\": \"Example App\",\n        \"version\": \"2.1.0\",\n        \"build\": \"127\"\n    },\n    \"device\": {\n        \"type\": \"mobile\",\n        \"model\": \"iPhone 15 Pro\",\n        \"manufacturer\": \"Apple\"\n    },\n    \"os\": {\n        \"name\": \"iOS\",\n        \"version\": \"17.0\"\n    }\n}\n\ntry:\n    result = track_screen(\n        client=client,\n        user_id=mobile_user_id,\n        screen_name=\"Product Detail\",\n        properties=screen_properties,\n        context=mobile_context\n    )\n    print(\"Mobile screen view tracked with context\")\nexcept CustomerIOError as e:\n    print(f\"Error: {e}\")"
  },
  {
   "cell_type": "markdown",
   "metadata": {},
   "source": [
    "## User Journey Tracking\n",
    "\n",
    "Track user navigation flows through multiple pages or screens."
   ]
  },
  {
   "cell_type": "code",
   "metadata": {},
   "outputs": [],
   "source": "# Example: Web user journey\njourney_user_id = \"journey_user_001\"\njourney_pages = [\n    {\"name\": \"Home\", \"url\": \"/\", \"action\": \"landed\"},\n    {\"name\": \"Products\", \"url\": \"/products\", \"action\": \"browsed\"},\n    {\"name\": \"Product Detail\", \"url\": \"/products/123\", \"action\": \"viewed\"},\n    {\"name\": \"Cart\", \"url\": \"/cart\", \"action\": \"added_to_cart\"},\n    {\"name\": \"Checkout\", \"url\": \"/checkout\", \"action\": \"started_checkout\"}\n]\n\n# First, ensure the user exists in Customer.IO\ntry:\n    identify_user(\n        client=client,\n        user_id=journey_user_id,\n        traits={\"email\": f\"{journey_user_id}@example.com\", \"name\": \"Journey User\"}\n    )\n    print(f\"User {journey_user_id} identified successfully\")\nexcept CustomerIOError as e:\n    print(f\"Error identifying user: {e}\")\n\nfor i, page in enumerate(journey_pages):\n    try:\n        track_page(\n            client=client,\n            user_id=journey_user_id,\n            page_name=page[\"name\"],\n            properties={\n                \"url\": f\"https://example.com{page['url']}\",\n                \"action\": page[\"action\"],\n                \"step_number\": i + 1,\n                \"total_steps\": len(journey_pages)\n            }\n        )\n        print(f\"Tracked: {page['name']} page\")\n    except CustomerIOError as e:\n        print(f\"Error tracking {page['name']}: {e}\")"
  },
  {
   "cell_type": "code",
   "metadata": {},
   "outputs": [],
   "source": "# Example: Mobile app user journey\nmobile_journey_user_id = \"mobile_journey_001\"\napp_screens = [\n    {\"name\": \"Splash\", \"class\": \"SplashViewController\"},\n    {\"name\": \"Onboarding\", \"class\": \"OnboardingViewController\"},\n    {\"name\": \"Login\", \"class\": \"LoginViewController\"},\n    {\"name\": \"Dashboard\", \"class\": \"DashboardViewController\"},\n    {\"name\": \"Profile\", \"class\": \"ProfileViewController\"}\n]\n\n# First, ensure the user exists in Customer.IO\ntry:\n    identify_user(\n        client=client,\n        user_id=mobile_journey_user_id,\n        traits={\"email\": f\"{mobile_journey_user_id}@example.com\", \"name\": \"Mobile Journey User\"}\n    )\n    print(f\"User {mobile_journey_user_id} identified successfully\")\nexcept CustomerIOError as e:\n    print(f\"Error identifying user: {e}\")\n\nfor i, screen in enumerate(app_screens):\n    try:\n        track_screen(\n            client=client,\n            user_id=mobile_journey_user_id,\n            screen_name=screen[\"name\"],\n            properties={\n                \"screen_class\": screen[\"class\"],\n                \"flow\": \"first_launch\",\n                \"step_number\": i + 1\n            }\n        )\n        print(f\"Tracked: {screen['name']} screen\")\n    except CustomerIOError as e:\n        print(f\"Error tracking {screen['name']}: {e}\")"
  },
  {
   "cell_type": "markdown",
   "metadata": {},
   "source": [
    "## Pageview Helper Function\n",
    "\n",
    "Use the simplified pageview function for common use cases."
   ]
  },
  {
   "cell_type": "code",
   "metadata": {},
   "outputs": [],
   "source": "# Example: Simple pageview tracking\nsimple_user_id = \"simple_user_001\"\n\n# First, ensure the user exists in Customer.IO\ntry:\n    identify_user(\n        client=client,\n        user_id=simple_user_id,\n        traits={\"email\": f\"{simple_user_id}@example.com\", \"name\": \"Simple User\"}\n    )\n    print(f\"User {simple_user_id} identified successfully\")\nexcept CustomerIOError as e:\n    print(f\"Error identifying user: {e}\")\n\ntry:\n    result = track_pageview(\n        client=client,\n        user_id=simple_user_id,\n        url=\"https://example.com/about\",\n        title=\"About Us\"\n    )\n    print(\"Simple pageview tracked\")\nexcept CustomerIOError as e:\n    print(f\"Error: {e}\")"
  },
  {
   "cell_type": "markdown",
   "metadata": {},
   "source": [
    "## Screenview Helper Function\n",
    "\n",
    "Use the simplified screenview function for common mobile use cases."
   ]
  },
  {
   "cell_type": "code",
   "metadata": {},
   "outputs": [],
   "source": "# Example: Simple screenview tracking\nsimple_mobile_user_id = \"simple_mobile_user_001\"\n\n# First, ensure the user exists in Customer.IO\ntry:\n    identify_user(\n        client=client,\n        user_id=simple_mobile_user_id,\n        traits={\"email\": f\"{simple_mobile_user_id}@example.com\", \"name\": \"Simple Mobile User\"}\n    )\n    print(f\"User {simple_mobile_user_id} identified successfully\")\nexcept CustomerIOError as e:\n    print(f\"Error identifying user: {e}\")\n\ntry:\n    result = track_screenview(\n        client=client,\n        user_id=simple_mobile_user_id,\n        screen_name=\"Settings\",\n        screen_class=\"SettingsViewController\"\n    )\n    print(\"Simple screenview tracked\")\nexcept CustomerIOError as e:\n    print(f\"Error: {e}\")"
  },
  {
   "cell_type": "markdown",
   "metadata": {},
   "source": [
    "## Error Handling\n",
    "\n",
    "Handle validation errors and API errors properly."
   ]
  },
  {
   "cell_type": "code",
   "execution_count": null,
   "metadata": {},
   "outputs": [],
   "source": [
    "# Example: Invalid tracking attempts\n",
    "invalid_operations = [\n",
    "    # No user identification\n",
    "    lambda: track_page(client, page_name=\"Test\"),\n",
    "    # No screen identification\n",
    "    lambda: track_screen(client, screen_name=\"Test\"),\n",
    "    # Invalid properties type\n",
    "    lambda: track_page(client, user_id=\"test\", properties=\"not a dict\")\n",
    "]\n",
    "\n",
    "for i, operation in enumerate(invalid_operations):\n",
    "    try:\n",
    "        operation()\n",
    "    except ValidationError as e:\n",
    "        print(f\"Validation error {i+1}: {e}\")\n",
    "    except CustomerIOError as e:\n",
    "        print(f\"API error {i+1}: {e}\")"
   ]
  },
  {
   "cell_type": "markdown",
   "metadata": {},
   "source": [
    "## Best Practices\n",
    "\n",
    "### Page Tracking\n",
    "- Always include URL, title, and path for web pages\n",
    "- Track referrer information for attribution\n",
    "- Include campaign parameters (UTM) when available\n",
    "- Add page category/type for segmentation\n",
    "\n",
    "### Screen Tracking  \n",
    "- Include screen class/controller name for developers\n",
    "- Add app context (version, build number)\n",
    "- Track screen categories for flow analysis\n",
    "- Include relevant business data (product IDs, etc.)\n",
    "\n",
    "### User Journey Analysis\n",
    "- Track sequential page/screen views\n",
    "- Include step numbers and flow identifiers\n",
    "- Add timing information when relevant\n",
    "- Use consistent naming conventions\n",
    "\n",
    "### Performance\n",
    "- Batch page/screen views when possible\n",
    "- Use appropriate user identification (user_id vs anonymous_id)\n",
    "- Include timestamps for accurate sequence tracking\n",
    "- Minimize property payload sizes"
   ]
  },
  {
   "cell_type": "markdown",
   "metadata": {},
   "source": [
    "## Next Steps\n",
    "\n",
    "Now that you understand page and screen tracking, explore:\n",
    "\n",
    "- **07_profile_aliasing.ipynb** - Link anonymous and identified users\n",
    "- **02_event_tracking.ipynb** - Track custom events alongside page views\n",
    "- **05_batch_operations.ipynb** - Batch page/screen tracking for high volume"
   ]
  }
 ],
 "metadata": {
  "kernelspec": {
   "display_name": "Python 3",
   "language": "python",
   "name": "python3"
  },
  "language_info": {
   "codemirror_mode": {
    "name": "ipython",
    "version": 3
   },
   "file_extension": ".py",
   "mimetype": "text/x-python",
   "name": "python",
   "nbconvert_exporter": "python",
   "pygments_lexer": "ipython3",
   "version": "3.8.0"
  }
 },
 "nbformat": 4,
 "nbformat_minor": 4
}