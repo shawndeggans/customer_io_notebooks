{
 "cells": [
  {
   "cell_type": "markdown",
   "metadata": {},
   "source": [
    "# Customer.IO People Management\n",
    "\n",
    "This notebook demonstrates how to manage people (users) using the Customer.IO API client library. It covers user identification, profile updates, suppression/unsuppression, and deletion operations."
   ]
  },
  {
   "cell_type": "markdown",
   "metadata": {},
   "source": [
    "## Databricks Environment Setup",
    "",
    "This section handles the installation of required libraries and configuration for Databricks clusters. Skip this section if running locally."
   ]
  },
  {
   "cell_type": "code",
   "execution_count": null,
   "metadata": {},
   "outputs": [],
   "source": [
    "# Databricks library installation",
    "# Uncomment the following lines when running on Databricks",
    "",
    "# %pip install customerio-api-client",
    "# OR if using a wheel file:",
    "# %pip install /dbfs/path/to/customerio_api_client-1.0.0-py3-none-any.whl",
    "",
    "# For development without packaging, install individual requirements:",
    "# %pip install httpx>=0.25.0 pydantic>=2.0.0 pandas>=2.0.0 python-dotenv>=1.0.0 structlog>=24.0.0",
    "",
    "# Restart kernel after installation if needed",
    "# import dbutils",
    "# dbutils.library.restartPython()"
   ]
  },
  {
   "cell_type": "markdown",
   "metadata": {},
   "source": [
    "## Setup and Imports\n",
    "\n",
    "Import the people management functions and initialize the API client."
   ]
  },
  {
   "cell_type": "code",
   "execution_count": null,
   "metadata": {},
   "outputs": [],
   "source": [
    "import os",
    "import sys",
    "from datetime import datetime",
    "",
    "# For local development with utils imports (backwards compatibility)",
    "# Add src directory to path if it exists",
    "notebook_dir = os.path.dirname(os.path.abspath(''))",
    "project_root = os.path.abspath(os.path.join(notebook_dir, '..', '..'))",
    "src_path = os.path.join(project_root, 'src')",
    "",
    "if os.path.exists(src_path):",
    "    sys.path.insert(0, src_path)",
    "    # Try importing from utils (local development pattern)",
    "    try:",
    "        from utils.api_client import CustomerIOClient",
    "        from utils.people_manager import (",
    "            identify_user,",
    "            delete_user,",
    "            suppress_user,",
    "            unsuppress_user",
    "        )",
    "        from utils.exceptions import CustomerIOError, ValidationError",
    "    except ImportError:",
    "        # Fall back to package imports",
    "        from pipelines_api.api_client import CustomerIOClient",
    "        from pipelines_api.people_manager import (",
    "            identify_user,",
    "            delete_user,",
    "            suppress_user,",
    "            unsuppress_user",
    "        )",
    "        from pipelines_api.exceptions import CustomerIOError, ValidationError",
    "else:",
    "    # Databricks or package installation - use package imports",
    "    from pipelines_api.api_client import CustomerIOClient",
    "    from pipelines_api.people_manager import (",
    "        identify_user,",
    "        delete_user,",
    "        suppress_user,",
    "        unsuppress_user",
    "    )",
    "    from pipelines_api.exceptions import CustomerIOError, ValidationError",
    "",
    "print(\"People management functions imported successfully\")"
   ]
  },
  {
   "cell_type": "markdown",
   "metadata": {},
   "source": [
    "## Client Initialization\n",
    "\n",
    "Initialize the Customer.IO client with your credentials."
   ]
  },
  {
   "cell_type": "code",
   "execution_count": null,
   "metadata": {},
   "outputs": [],
   "source": [
    "# Initialize client (use your actual credentials)",
    "client = CustomerIOClient(",
    "    api_key = dbutils.secrets.get(scope=\"customer-io\", key=\"api_key\")",
    "    region = dbutils.secrets.get(scope=\"customer-io\", key=\"region\")",
    "    print(\"Using Databricks secrets for credentials\")",
    "except:",
    "    # Fall back to environment variables",
    "    API_KEY = os.getenv('CUSTOMERIO_API_KEY', 'your-api-key-here')",
    "    REGION = os.getenv('CUSTOMERIO_REGION', 'us')  # 'us' or 'eu'",
    "    print(\"Using environment variables for credentials\")",
    ")",
    "",
    "print(f\"Client initialized for region: {client.region}\")",
    "print(f\"Base URL: {client.base_url}\")"
   ]
  },
  {
   "cell_type": "markdown",
   "metadata": {},
   "source": [
    "## User Identification\n",
    "\n",
    "Identify users and create or update their profiles in Customer.IO."
   ]
  },
  {
   "cell_type": "code",
   "execution_count": null,
   "metadata": {},
   "outputs": [],
   "source": [
    "# Example user data\n",
    "user_id = f\"demo_user_{int(datetime.now().timestamp())}\"\n",
    "\n",
    "user_traits = {\n",
    "    \"email\": \"demo@example.com\",\n",
    "    \"name\": \"Demo User\",\n",
    "    \"created_at\": datetime.now().isoformat(),\n",
    "    \"plan\": \"premium\",\n",
    "    \"company\": \"Demo Company\",\n",
    "    \"location\": \"San Francisco, CA\"\n",
    "}\n",
    "\n",
    "print(f\"Identifying user: {user_id}\")\n",
    "print(f\"User traits: {user_traits}\")"
   ]
  },
  {
   "cell_type": "code",
   "metadata": {},
   "outputs": [],
   "source": "# Identify the user\ntry:\n    response = identify_user(client, user_id, user_traits)\n    print(\"SUCCESS: User identified successfully!\")\n    print(f\"Response: {response}\")\nexcept CustomerIOError as e:\n    print(f\"ERROR: API Error: {e}\")\nexcept ValidationError as e:\n    print(f\"ERROR: Validation Error: {e}\")\nexcept Exception as e:\n    print(f\"ERROR: Unexpected error: {e}\")"
  },
  {
   "cell_type": "markdown",
   "metadata": {},
   "source": [
    "## Profile Updates\n",
    "\n",
    "Update user profiles with new information."
   ]
  },
  {
   "cell_type": "code",
   "metadata": {},
   "outputs": [],
   "source": "# Update user profile with new traits\nupdated_traits = {\n    \"plan\": \"enterprise\",  # Upgraded plan\n    \"last_login\": datetime.now().isoformat(),\n    \"feature_flags\": {\n        \"beta_features\": True,\n        \"advanced_analytics\": True\n    }\n}\n\ntry:\n    response = identify_user(client, user_id, updated_traits)\n    print(\"SUCCESS: User profile updated successfully!\")\n    print(f\"Updated traits: {updated_traits}\")\nexcept Exception as e:\n    print(f\"ERROR: Error updating profile: {e}\")"
  },
  {
   "cell_type": "markdown",
   "metadata": {},
   "source": [
    "## User Suppression and Unsuppression\n",
    "\n",
    "Suppress users to stop sending them messages, or unsuppress to resume messaging."
   ]
  },
  {
   "cell_type": "code",
   "metadata": {},
   "outputs": [],
   "source": "# Suppress a user (stop sending messages)\ntry:\n    response = suppress_user(client, user_id)\n    print(\"SUCCESS: User suppressed successfully!\")\n    print(f\"User {user_id} will no longer receive messages\")\n    print(f\"Response: {response}\")\nexcept Exception as e:\n    print(f\"ERROR: Error suppressing user: {e}\")"
  },
  {
   "cell_type": "code",
   "metadata": {},
   "outputs": [],
   "source": "# Unsuppress a user (resume sending messages)\ntry:\n    response = unsuppress_user(client, user_id)\n    print(\"SUCCESS: User unsuppressed successfully!\")\n    print(f\"User {user_id} will resume receiving messages\")\n    print(f\"Response: {response}\")\nexcept Exception as e:\n    print(f\"ERROR: Error unsuppressing user: {e}\")"
  },
  {
   "cell_type": "markdown",
   "metadata": {},
   "source": [
    "## Bulk Operations\n",
    "\n",
    "Handle multiple users efficiently."
   ]
  },
  {
   "cell_type": "code",
   "execution_count": null,
   "metadata": {},
   "outputs": [],
   "source": [
    "# Create multiple test users\n",
    "test_users = []\n",
    "base_timestamp = int(datetime.now().timestamp())\n",
    "\n",
    "for i in range(3):\n",
    "    user_data = {\n",
    "        \"user_id\": f\"bulk_user_{base_timestamp}_{i}\",\n",
    "        \"traits\": {\n",
    "            \"email\": f\"user{i}@example.com\",\n",
    "            \"name\": f\"Bulk User {i}\",\n",
    "            \"user_type\": \"test_user\",\n",
    "            \"created_at\": datetime.now().isoformat()\n",
    "        }\n",
    "    }\n",
    "    test_users.append(user_data)\n",
    "\n",
    "print(f\"Created {len(test_users)} test users for bulk operations\")"
   ]
  },
  {
   "cell_type": "code",
   "metadata": {},
   "outputs": [],
   "source": "# Identify multiple users\nsuccessful_identifications = 0\nfailed_identifications = 0\n\nfor user_data in test_users:\n    try:\n        response = identify_user(\n            client, \n            user_data[\"user_id\"], \n            user_data[\"traits\"]\n        )\n        successful_identifications += 1\n        print(f\"SUCCESS: Identified: {user_data['user_id']}\")\n    except Exception as e:\n        failed_identifications += 1\n        print(f\"ERROR: Failed to identify {user_data['user_id']}: {e}\")\n\nprint(f\"\\nBulk identification results:\")\nprint(f\"Successful: {successful_identifications}\")\nprint(f\"Failed: {failed_identifications}\")"
  },
  {
   "cell_type": "markdown",
   "metadata": {},
   "source": [
    "## User Deletion\n",
    "\n",
    "Permanently delete users from Customer.IO. Use with caution as this operation cannot be undone."
   ]
  },
  {
   "cell_type": "code",
   "metadata": {},
   "outputs": [],
   "source": "# Delete test users (cleanup)\ndeleted_users = 0\ndeletion_errors = 0\n\n# Delete the demo user and bulk test users\nusers_to_delete = [user_id] + [user[\"user_id\"] for user in test_users]\n\nfor user_to_delete in users_to_delete:\n    try:\n        response = delete_user(client, user_to_delete)\n        deleted_users += 1\n        print(f\"SUCCESS: Deleted: {user_to_delete}\")\n    except Exception as e:\n        deletion_errors += 1\n        print(f\"ERROR: Failed to delete {user_to_delete}: {e}\")\n\nprint(f\"\\nDeletion results:\")\nprint(f\"Successfully deleted: {deleted_users}\")\nprint(f\"Deletion errors: {deletion_errors}\")"
  },
  {
   "cell_type": "markdown",
   "metadata": {},
   "source": [
    "## Advanced Examples\n",
    "\n",
    "More complex user management scenarios."
   ]
  },
  {
   "cell_type": "code",
   "execution_count": null,
   "metadata": {},
   "outputs": [],
   "source": [
    "# Example: User lifecycle management\n",
    "lifecycle_user_id = f\"lifecycle_user_{int(datetime.now().timestamp())}\"\n",
    "\n",
    "# 1. Create user\n",
    "initial_traits = {\n",
    "    \"email\": \"lifecycle@example.com\",\n",
    "    \"name\": \"Lifecycle User\",\n",
    "    \"status\": \"trial\",\n",
    "    \"created_at\": datetime.now().isoformat()\n",
    "}\n",
    "\n",
    "identify_user(client, lifecycle_user_id, initial_traits)\n",
    "print(f\"1. Created user: {lifecycle_user_id}\")\n",
    "\n",
    "# 2. Upgrade to paid\n",
    "upgrade_traits = {\n",
    "    \"status\": \"paid\",\n",
    "    \"plan\": \"professional\",\n",
    "    \"upgraded_at\": datetime.now().isoformat()\n",
    "}\n",
    "\n",
    "identify_user(client, lifecycle_user_id, upgrade_traits)\n",
    "print(f\"2. Upgraded user to paid plan\")\n",
    "\n",
    "# 3. Temporarily suppress (e.g., vacation mode)\n",
    "suppress_user(client, lifecycle_user_id)\n",
    "print(f\"3. Suppressed user (vacation mode)\")\n",
    "\n",
    "# 4. Reactivate\n",
    "unsuppress_user(client, lifecycle_user_id)\n",
    "print(f\"4. Unsuppressed user (back from vacation)\")\n",
    "\n",
    "# 5. Final update\n",
    "final_traits = {\n",
    "    \"last_active\": datetime.now().isoformat(),\n",
    "    \"vacation_mode\": False\n",
    "}\n",
    "\n",
    "identify_user(client, lifecycle_user_id, final_traits)\n",
    "print(f\"5. Updated user activity status\")\n",
    "\n",
    "# Cleanup\n",
    "delete_user(client, lifecycle_user_id)\n",
    "print(f\"6. Cleaned up test user\")"
   ]
  },
  {
   "cell_type": "markdown",
   "metadata": {},
   "source": [
    "## Best Practices\n",
    "\n",
    "Key recommendations for people management:\n",
    "\n",
    "**User Identification:**\n",
    "- Use consistent user IDs across your application\n",
    "- Include essential traits like email, name, and creation date\n",
    "- Update profiles incrementally rather than resending all data\n",
    "\n",
    "**Suppression Management:**\n",
    "- Suppress users who explicitly opt out of communications\n",
    "- Use suppression for temporary pauses (vacation, preferences)\n",
    "- Unsuppress users when they re-engage or update preferences\n",
    "\n",
    "**Data Privacy:**\n",
    "- Delete users upon GDPR/CCPA deletion requests\n",
    "- Be cautious with deletion as it's irreversible\n",
    "- Consider suppression as an alternative to deletion when appropriate\n",
    "\n",
    "**Error Handling:**\n",
    "- Always wrap API calls in try-catch blocks\n",
    "- Log failures for monitoring and debugging\n",
    "- Implement retry logic for transient failures\n",
    "\n",
    "**Performance:**\n",
    "- Use batch operations for bulk updates (see 05_batch_operations.ipynb)\n",
    "- Respect rate limits (3000 requests per 3 seconds)\n",
    "- Consider queueing for high-volume operations"
   ]
  },
  {
   "cell_type": "markdown",
   "metadata": {},
   "source": [
    "## Next Steps\n",
    "\n",
    "Explore more Customer.IO functionality:\n",
    "\n",
    "- **02_event_tracking.ipynb** - Track user events and behaviors\n",
    "- **03_objects_and_relationships.ipynb** - Manage objects and relationships\n",
    "- **04_device_management.ipynb** - Handle device registration and updates\n",
    "- **05_batch_operations.ipynb** - Efficient bulk processing"
   ]
  }
 ],
 "metadata": {
  "kernelspec": {
   "display_name": "Python 3",
   "language": "python",
   "name": "python3"
  },
  "language_info": {
   "codemirror_mode": {
    "name": "ipython",
    "version": 3
   },
   "file_extension": ".py",
   "mimetype": "text/x-python",
   "name": "python",
   "nbconvert_exporter": "python",
   "pygments_lexer": "ipython3",
   "version": "3.11.0"
  }
 },
 "nbformat": 4,
 "nbformat_minor": 4
}