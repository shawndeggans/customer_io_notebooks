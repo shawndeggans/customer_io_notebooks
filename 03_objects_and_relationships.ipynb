{
 "cells": [
  {
   "cell_type": "markdown",
   "metadata": {},
   "source": [
    "# Customer.IO Objects and Relationships Management\n",
    "\n",
    "This notebook demonstrates how to manage objects and relationships in Customer.IO using the utils library.\n",
    "Objects allow you to represent entities like companies, accounts, products, or any other data model that relates to your users."
   ]
  },
  {
   "cell_type": "markdown",
   "metadata": {},
   "source": [
    "## Setup and Imports\n",
    "\n",
    "Import the necessary functions and initialize the Customer.IO client."
   ]
  },
  {
   "cell_type": "code",
   "execution_count": null,
   "metadata": {},
   "outputs": [],
   "source": [
    "# Setup and imports\n",
    "import os\n",
    "from datetime import datetime\n",
    "from utils.api_client import CustomerIOClient\n",
    "from utils.object_manager import (\n",
    "    create_object,\n",
    "    update_object,\n",
    "    delete_object,\n",
    "    create_relationship,\n",
    "    delete_relationship\n",
    ")\n",
    "from utils.exceptions import CustomerIOError, ValidationError\n",
    "\n",
    "# Initialize client\n",
    "API_KEY = os.getenv('CUSTOMERIO_API_KEY', 'your-api-key-here')\n",
    "client = CustomerIOClient(api_key=API_KEY, region='us')\n",
    "\n",
    "print(\"Customer.IO object management functions loaded successfully\")"
   ]
  },
  {
   "cell_type": "markdown",
   "metadata": {},
   "source": [
    "## Understanding Objects in Customer.IO\n",
    "\n",
    "Objects in Customer.IO represent entities that can have relationships with users.\n",
    "Common use cases include:\n",
    "- Companies/accounts in B2B SaaS\n",
    "- Products in e-commerce\n",
    "- Courses in education platforms\n",
    "- Projects in collaboration tools\n",
    "\n",
    "Each object has:\n",
    "- **object_id**: Unique identifier for the object\n",
    "- **object_type_id**: Type of object (e.g., \"1\" for companies, \"2\" for products)\n",
    "- **traits**: Attributes describing the object"
   ]
  },
  {
   "cell_type": "markdown",
   "metadata": {},
   "source": [
    "## Creating Objects\n",
    "\n",
    "Create an object and establish a relationship with a user in one operation."
   ]
  },
  {
   "cell_type": "code",
   "execution_count": null,
   "metadata": {},
   "outputs": [],
   "source": [
    "# Example: Create a company object\n",
    "company_data = {\n",
    "    \"name\": \"Acme Corporation\",\n",
    "    \"industry\": \"Technology\",\n",
    "    \"size\": \"50-100\",\n",
    "    \"plan\": \"enterprise\",\n",
    "    \"founded\": 2015,\n",
    "    \"website\": \"https://acme.example.com\"\n",
    "}\n",
    "\n",
    "try:\n",
    "    result = create_object(\n",
    "        client=client,\n",
    "        user_id=\"user_001\",\n",
    "        object_id=\"company_acme\",\n",
    "        traits=company_data,\n",
    "        object_type_id=\"1\"  # Using \"1\" for companies\n",
    "    )\n",
    "    print(\"Company object created successfully\")\n",
    "    print(f\"Result: {result}\")\n",
    "except CustomerIOError as e:\n",
    "    print(f\"Error creating company: {e}\")"
   ]
  },
  {
   "cell_type": "code",
   "execution_count": null,
   "metadata": {},
   "outputs": [],
   "source": [
    "# Example: Create a product object\n",
    "product_data = {\n",
    "    \"name\": \"Premium Widget\",\n",
    "    \"sku\": \"WDG-001\",\n",
    "    \"price\": 99.99,\n",
    "    \"category\": \"Hardware\",\n",
    "    \"in_stock\": True,\n",
    "    \"description\": \"High-quality widget for professionals\"\n",
    "}\n",
    "\n",
    "try:\n",
    "    result = create_object(\n",
    "        client=client,\n",
    "        user_id=\"user_002\",\n",
    "        object_id=\"product_wdg001\",\n",
    "        traits=product_data,\n",
    "        object_type_id=\"2\"  # Using \"2\" for products\n",
    "    )\n",
    "    print(\"Product object created successfully\")\n",
    "except CustomerIOError as e:\n",
    "    print(f\"Error creating product: {e}\")"
   ]
  },
  {
   "cell_type": "markdown",
   "metadata": {},
   "source": [
    "## Updating Objects\n",
    "\n",
    "Update object attributes while maintaining relationships."
   ]
  },
  {
   "cell_type": "code",
   "execution_count": null,
   "metadata": {},
   "outputs": [],
   "source": [
    "# Update company information\n",
    "updated_company_data = {\n",
    "    \"size\": \"100-500\",  # Company grew!\n",
    "    \"plan\": \"enterprise_plus\",\n",
    "    \"revenue_tier\": \"10M-50M\",\n",
    "    \"last_contract_renewal\": \"2024-01-15\"\n",
    "}\n",
    "\n",
    "try:\n",
    "    result = update_object(\n",
    "        client=client,\n",
    "        user_id=\"user_001\",\n",
    "        object_id=\"company_acme\",\n",
    "        traits=updated_company_data,\n",
    "        object_type_id=\"1\"\n",
    "    )\n",
    "    print(\"Company updated successfully\")\n",
    "except CustomerIOError as e:\n",
    "    print(f\"Error updating company: {e}\")"
   ]
  },
  {
   "cell_type": "code",
   "execution_count": null,
   "metadata": {},
   "outputs": [],
   "source": [
    "# Update product with timestamp\n",
    "product_update = {\n",
    "    \"price\": 89.99,  # Price reduction\n",
    "    \"on_sale\": True,\n",
    "    \"sale_ends\": \"2024-12-31\"\n",
    "}\n",
    "\n",
    "try:\n",
    "    result = update_object(\n",
    "        client=client,\n",
    "        user_id=\"user_002\",\n",
    "        object_id=\"product_wdg001\",\n",
    "        traits=product_update,\n",
    "        object_type_id=\"2\",\n",
    "        timestamp=datetime.now()\n",
    "    )\n",
    "    print(\"Product updated with sale information\")\n",
    "except CustomerIOError as e:\n",
    "    print(f\"Error updating product: {e}\")"
   ]
  },
  {
   "cell_type": "markdown",
   "metadata": {},
   "source": [
    "## Managing Relationships\n",
    "\n",
    "Create and delete relationships between users and objects without modifying object attributes."
   ]
  },
  {
   "cell_type": "code",
   "execution_count": null,
   "metadata": {},
   "outputs": [],
   "source": [
    "# Create relationship between another user and existing company\n",
    "try:\n",
    "    result = create_relationship(\n",
    "        client=client,\n",
    "        user_id=\"user_003\",  # New user\n",
    "        object_id=\"company_acme\",  # Existing company\n",
    "        object_type_id=\"1\"\n",
    "    )\n",
    "    print(\"User user_003 added to company_acme\")\n",
    "except CustomerIOError as e:\n",
    "    print(f\"Error creating relationship: {e}\")"
   ]
  },
  {
   "cell_type": "code",
   "execution_count": null,
   "metadata": {},
   "outputs": [],
   "source": [
    "# Create multiple relationships for a user\n",
    "# Example: User belongs to multiple projects\n",
    "projects = [\n",
    "    {\"id\": \"project_alpha\", \"name\": \"Project Alpha\"},\n",
    "    {\"id\": \"project_beta\", \"name\": \"Project Beta\"},\n",
    "    {\"id\": \"project_gamma\", \"name\": \"Project Gamma\"}\n",
    "]\n",
    "\n",
    "for project in projects:\n",
    "    try:\n",
    "        # First create the project object\n",
    "        create_object(\n",
    "            client=client,\n",
    "            user_id=\"user_004\",\n",
    "            object_id=project[\"id\"],\n",
    "            traits={\"name\": project[\"name\"], \"status\": \"active\"},\n",
    "            object_type_id=\"3\"  # Using \"3\" for projects\n",
    "        )\n",
    "        print(f\"Created project: {project['name']}\")\n",
    "    except CustomerIOError as e:\n",
    "        print(f\"Error with project {project['name']}: {e}\")"
   ]
  },
  {
   "cell_type": "markdown",
   "metadata": {},
   "source": [
    "## Deleting Relationships\n",
    "\n",
    "Remove relationships between users and objects without deleting the object itself."
   ]
  },
  {
   "cell_type": "code",
   "execution_count": null,
   "metadata": {},
   "outputs": [],
   "source": [
    "# Remove user from company\n",
    "try:\n",
    "    result = delete_relationship(\n",
    "        client=client,\n",
    "        user_id=\"user_001\",\n",
    "        object_id=\"company_acme\",\n",
    "        object_type_id=\"1\"\n",
    "    )\n",
    "    print(\"User removed from company\")\n",
    "except CustomerIOError as e:\n",
    "    print(f\"Error deleting relationship: {e}\")"
   ]
  },
  {
   "cell_type": "markdown",
   "metadata": {},
   "source": [
    "## Deleting Objects\n",
    "\n",
    "Completely remove an object from Customer.IO."
   ]
  },
  {
   "cell_type": "code",
   "execution_count": null,
   "metadata": {},
   "outputs": [],
   "source": [
    "# Delete a project object\n",
    "try:\n",
    "    result = delete_object(\n",
    "        client=client,\n",
    "        object_id=\"project_gamma\",\n",
    "        object_type_id=\"3\"\n",
    "    )\n",
    "    print(\"Project deleted successfully\")\n",
    "except CustomerIOError as e:\n",
    "    print(f\"Error deleting object: {e}\")"
   ]
  },
  {
   "cell_type": "markdown",
   "metadata": {},
   "source": [
    "## Real-World Example: B2B SaaS Account Management\n",
    "\n",
    "Complete workflow for managing company accounts and user relationships in a B2B SaaS application."
   ]
  },
  {
   "cell_type": "code",
   "execution_count": null,
   "metadata": {},
   "outputs": [],
   "source": [
    "# Scenario: Onboarding a new B2B customer\n",
    "def onboard_b2b_customer(client, company_info, admin_user, team_members):\n",
    "    \"\"\"Onboard a new B2B customer with company and team setup.\"\"\"\n",
    "    \n",
    "    # Step 1: Create company object with admin user\n",
    "    try:\n",
    "        create_object(\n",
    "            client=client,\n",
    "            user_id=admin_user[\"id\"],\n",
    "            object_id=company_info[\"id\"],\n",
    "            traits=company_info[\"traits\"],\n",
    "            object_type_id=\"1\"\n",
    "        )\n",
    "        print(f\"Created company: {company_info['traits']['name']}\")\n",
    "        \n",
    "        # Step 2: Add team members to company\n",
    "        for member in team_members:\n",
    "            create_relationship(\n",
    "                client=client,\n",
    "                user_id=member[\"id\"],\n",
    "                object_id=company_info[\"id\"],\n",
    "                object_type_id=\"1\"\n",
    "            )\n",
    "            print(f\"Added {member['name']} to company\")\n",
    "            \n",
    "        return True\n",
    "        \n",
    "    except CustomerIOError as e:\n",
    "        print(f\"Onboarding failed: {e}\")\n",
    "        return False"
   ]
  },
  {
   "cell_type": "code",
   "execution_count": null,
   "metadata": {},
   "outputs": [],
   "source": [
    "# Example usage of onboarding function\n",
    "new_company = {\n",
    "    \"id\": \"company_techstartup\",\n",
    "    \"traits\": {\n",
    "        \"name\": \"Tech Startup Inc\",\n",
    "        \"plan\": \"growth\",\n",
    "        \"industry\": \"SaaS\",\n",
    "        \"size\": \"10-50\",\n",
    "        \"trial_ends\": \"2024-02-15\"\n",
    "    }\n",
    "}\n",
    "\n",
    "admin = {\"id\": \"user_admin_001\", \"name\": \"Jane Smith\"}\n",
    "team = [\n",
    "    {\"id\": \"user_dev_001\", \"name\": \"John Developer\"},\n",
    "    {\"id\": \"user_sales_001\", \"name\": \"Sarah Sales\"}\n",
    "]\n",
    "\n",
    "onboard_b2b_customer(client, new_company, admin, team)"
   ]
  },
  {
   "cell_type": "markdown",
   "metadata": {},
   "source": [
    "## Real-World Example: E-commerce Product Relationships\n",
    "\n",
    "Managing user relationships with products for personalization and recommendations."
   ]
  },
  {
   "cell_type": "code",
   "execution_count": null,
   "metadata": {},
   "outputs": [],
   "source": [
    "# Track user product interactions\n",
    "def track_product_interaction(client, user_id, product_id, interaction_type):\n",
    "    \"\"\"Track various user interactions with products.\"\"\"\n",
    "    \n",
    "    product_traits = {\n",
    "        \"last_interaction\": datetime.now().isoformat(),\n",
    "        \"interaction_type\": interaction_type,\n",
    "        \"interaction_count\": 1  # In real app, increment existing count\n",
    "    }\n",
    "    \n",
    "    try:\n",
    "        # Create/update product relationship\n",
    "        update_object(\n",
    "            client=client,\n",
    "            user_id=user_id,\n",
    "            object_id=product_id,\n",
    "            traits=product_traits,\n",
    "            object_type_id=\"2\"  # Products\n",
    "        )\n",
    "        print(f\"Tracked {interaction_type} for {product_id}\")\n",
    "        return True\n",
    "    except CustomerIOError as e:\n",
    "        print(f\"Tracking failed: {e}\")\n",
    "        return False"
   ]
  },
  {
   "cell_type": "code",
   "execution_count": null,
   "metadata": {},
   "outputs": [],
   "source": [
    "# Example: Track various product interactions\n",
    "user_id = \"user_shopper_001\"\n",
    "interactions = [\n",
    "    (\"product_laptop_001\", \"viewed\"),\n",
    "    (\"product_laptop_001\", \"added_to_cart\"),\n",
    "    (\"product_mouse_001\", \"viewed\"),\n",
    "    (\"product_keyboard_001\", \"purchased\")\n",
    "]\n",
    "\n",
    "for product_id, action in interactions:\n",
    "    track_product_interaction(client, user_id, product_id, action)"
   ]
  },
  {
   "cell_type": "markdown",
   "metadata": {},
   "source": [
    "## Error Handling and Validation\n",
    "\n",
    "Proper error handling for object operations."
   ]
  },
  {
   "cell_type": "code",
   "execution_count": null,
   "metadata": {},
   "outputs": [],
   "source": [
    "# Example: Validation errors\n",
    "invalid_operations = [\n",
    "    # Empty object ID\n",
    "    lambda: create_object(client, \"user123\", \"\", {\"name\": \"Test\"}, \"1\"),\n",
    "    # Invalid traits\n",
    "    lambda: create_object(client, \"user123\", \"obj123\", \"not a dict\", \"1\"),\n",
    "    # Empty traits\n",
    "    lambda: create_object(client, \"user123\", \"obj123\", {}, \"1\"),\n",
    "    # Invalid object type ID\n",
    "    lambda: create_object(client, \"user123\", \"obj123\", {\"name\": \"Test\"}, \"zero\")\n",
    "]\n",
    "\n",
    "for i, operation in enumerate(invalid_operations):\n",
    "    try:\n",
    "        operation()\n",
    "    except ValidationError as e:\n",
    "        print(f\"Validation error {i+1}: {e}\")"
   ]
  },
  {
   "cell_type": "markdown",
   "metadata": {},
   "source": [
    "## Best Practices\n",
    "\n",
    "### Object Type Organization\n",
    "- Use consistent object_type_id values across your application\n",
    "- Document your object type mappings (e.g., 1=companies, 2=products)\n",
    "- Consider using constants or enums in production code\n",
    "\n",
    "### Object ID Naming\n",
    "- Use meaningful, unique identifiers\n",
    "- Consider prefixing with type (e.g., \"company_\", \"product_\")\n",
    "- Match your internal database IDs when possible\n",
    "\n",
    "### Trait Management\n",
    "- Keep traits flat and simple when possible\n",
    "- Use consistent naming conventions\n",
    "- Include timestamps for time-sensitive data\n",
    "\n",
    "### Performance\n",
    "- Use batch operations for bulk object creation\n",
    "- Consider rate limits when processing many objects\n",
    "- Cache object data locally when appropriate"
   ]
  },
  {
   "cell_type": "markdown",
   "metadata": {},
   "source": [
    "## Next Steps\n",
    "\n",
    "Now that you understand object and relationship management, explore:\n",
    "\n",
    "- **04_device_management.ipynb** - Managing user devices for push notifications\n",
    "- **05_batch_operations.ipynb** - Bulk operations for objects and relationships\n",
    "- **02_event_tracking.ipynb** - Track events related to object interactions"
   ]
  }
 ],
 "metadata": {
  "kernelspec": {
   "display_name": "Python 3",
   "language": "python",
   "name": "python3"
  },
  "language_info": {
   "codemirror_mode": {
    "name": "ipython",
    "version": 3
   },
   "file_extension": ".py",
   "mimetype": "text/x-python",
   "name": "python",
   "nbconvert_exporter": "python",
   "pygments_lexer": "ipython3",
   "version": "3.8.0"
  }
 },
 "nbformat": 4,
 "nbformat_minor": 4
}