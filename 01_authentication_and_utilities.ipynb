{
 "cells": [
  {
   "cell_type": "markdown",
   "metadata": {},
   "source": "# Customer.IO Data Pipelines API - Authentication and Utilities\n\n## Purpose\n\nThis notebook demonstrates how to authenticate with Customer.IO's Data Pipelines API and use the utility modules for API operations. It covers authentication management, connection testing, request validation, and core utility functions.\n\n## Prerequisites\n\n- Complete setup from `00_setup_and_configuration.ipynb`\n- Customer.IO API key configured in Databricks secrets\n- Utility modules (`utils/`) available in the Python path\n\n## Key Topics Covered\n\n1. **Authentication Management** - Secure API client initialization and configuration\n2. **Connection Testing** - Health checks and connection validation\n3. **Rate Limiting** - Understanding and managing API rate limits\n4. **Request Validation** - Using Pydantic models for type-safe requests\n5. **Data Transformation** - Converting between Spark DataFrames and API formats\n6. **Error Handling** - Retry patterns and graceful error management\n7. **Batch Operations** - Optimizing requests for bulk data operations",
   "outputs": []
  },
  {
   "cell_type": "markdown",
   "metadata": {},
   "source": [
    "## Setup and Imports"
   ]
  },
  {
   "cell_type": "code",
   "metadata": {},
   "outputs": [],
   "source": "# Standard library imports\nimport sys\nimport os\nimport json\nimport time\nfrom datetime import datetime, timezone, timedelta\nfrom typing import Dict, List, Optional, Any\nimport warnings\n\n# Suppress warnings for cleaner output\nwarnings.filterwarnings('ignore')\n\n# Add utils directory to Python path\nsys.path.append('/Workspace/Repos/customer_io_notebooks/utils')\n\n# Import Customer.IO utilities with existing AuthenticationManager\nfrom utils.api_client import CustomerIOClient\nfrom utils.authentication_manager import AuthenticationManager, AuthenticationConfig, ConnectionStatus\nfrom utils.validators import IdentifyRequest, TrackRequest, GroupRequest, validate_request_size, create_context\nfrom utils.transformers import CustomerTransformer, EventTransformer, BatchTransformer, ContextTransformer\nfrom utils.error_handlers import CustomerIOError, RateLimitError, ValidationError, NetworkError, retry_on_error, ErrorContext\n\n# Databricks and Spark imports\nfrom pyspark.sql import SparkSession\nfrom pyspark.sql import functions as F\nfrom delta.tables import DeltaTable\n\n# Initialize logger\nimport structlog\nlogger = structlog.get_logger(\"customerio_demo\")\n\nprint(\"SUCCESS: All authentication and utilities imports loaded\")\nprint(\"  AuthenticationManager: Production-ready authentication handling\")\nprint(\"  API utilities: CustomerIOClient, validators, transformers\")\nprint(\"  Error handling: Comprehensive retry and circuit breaker patterns\")"
  },
  {
   "cell_type": "markdown",
   "metadata": {},
   "source": "# Load configuration from setup notebook (secure approach)\ntry:\n    CUSTOMERIO_REGION = dbutils.widgets.get(\"customerio_region\") or \"us\"\n    DATABASE_NAME = dbutils.widgets.get(\"database_name\") or \"customerio_demo\"\n    CATALOG_NAME = dbutils.widgets.get(\"catalog_name\") or \"main\"\n    ENVIRONMENT = dbutils.widgets.get(\"environment\") or \"test\"\n    \n    print(f\"Configuration loaded from setup notebook:\")\n    print(f\"  Region: {CUSTOMERIO_REGION}\")\n    print(f\"  Database: {CATALOG_NAME}.{DATABASE_NAME}\")\n    print(f\"  Environment: {ENVIRONMENT}\")\n    \nexcept Exception as e:\n    print(f\"WARNING: Could not load configuration from setup notebook: {str(e)}\")\n    print(\"INFO: Using fallback configuration\")\n    CUSTOMERIO_REGION = \"us\"\n    DATABASE_NAME = \"customerio_demo\"\n    CATALOG_NAME = \"main\"\n    ENVIRONMENT = \"test\"\n\n# Configure Spark to use the specified database\nspark.sql(f\"USE {CATALOG_NAME}.{DATABASE_NAME}\")\nprint(\"SUCCESS: Database configured\")",
   "outputs": []
  },
  {
   "cell_type": "code",
   "source": "# Load configuration from setup notebook (secure approach)\ntry:\n    CUSTOMERIO_REGION = dbutils.widgets.get(\"customerio_region\") or \"us\"\n    DATABASE_NAME = dbutils.widgets.get(\"database_name\") or \"customerio_demo\"\n    CATALOG_NAME = dbutils.widgets.get(\"catalog_name\") or \"main\"\n    ENVIRONMENT = dbutils.widgets.get(\"environment\") or \"test\"\n    \n    print(f\"Configuration loaded from setup notebook:\")\n    print(f\"  Region: {CUSTOMERIO_REGION}\")\n    print(f\"  Database: {CATALOG_NAME}.{DATABASE_NAME}\")\n    print(f\"  Environment: {ENVIRONMENT}\")\n    \nexcept Exception as e:\n    print(f\"WARNING: Could not load configuration from setup notebook: {str(e)}\")\n    print(\"INFO: Using fallback configuration\")\n    CUSTOMERIO_REGION = \"us\"\n    DATABASE_NAME = \"customerio_demo\"\n    CATALOG_NAME = \"main\"\n    ENVIRONMENT = \"test\"\n\n# Configure Spark to use the specified database\nspark.sql(f\"USE {CATALOG_NAME}.{DATABASE_NAME}\")\nprint(\"SUCCESS: Database configured\")",
   "metadata": {},
   "outputs": []
  },
  {
   "cell_type": "markdown",
   "metadata": {},
   "source": "## Initialize Authentication Manager",
   "outputs": []
  },
  {
   "cell_type": "markdown",
   "source": "## Request Validation Examples\n\nThe Customer.IO API requires properly formatted requests. We use Pydantic models to ensure type safety and validation.",
   "metadata": {}
  },
  {
   "cell_type": "code",
   "execution_count": null,
   "metadata": {},
   "outputs": [],
   "source": [
    "# Test 4: Invalid track request (empty event name)\n",
    "print(\"4. Invalid Track Request (empty event name):\")\n",
    "\n",
    "try:\n",
    "    invalid_track = TrackRequest(\n",
    "        userId=\"user_12345\",\n",
    "        event=\"\",  # Empty event name\n",
    "        properties={\"test\": \"value\"}\n",
    "    )\n",
    "    print(f\"SUCCESS: Request created: {invalid_track.dict()}\")\n",
    "except PydanticValidationError as e:\n",
    "    print(f\"ERROR: Expected validation error: {e}\")"
   ]
  },
  {
   "cell_type": "code",
   "metadata": {},
   "outputs": [],
   "source": "# Perform comprehensive health check\nprint(\"=== Testing API Connection ===\")\nprint(\"Performing comprehensive health check...\")\n\nhealth_result = auth_manager.health_check()\n\nprint(f\"Health Check Results:\")\nprint(f\"  Status: {health_result.status.value}\")\nprint(f\"  Is Healthy: {health_result.is_healthy}\")\nprint(f\"  API Reachable: {health_result.api_reachable}\")\nprint(f\"  Auth Valid: {health_result.auth_valid}\")\nprint(f\"  Rate Limit OK: {health_result.rate_limit_ok}\")\n\nif health_result.response_time_ms:\n    print(f\"  Response Time: {health_result.response_time_ms:.2f}ms\")\n\nif health_result.error_message:\n    print(f\"  Error: {health_result.error_message}\")\n\nif ENVIRONMENT == \"test\":\n    print(\"INFO: Running in test mode - some checks may be simulated\")"
  },
  {
   "cell_type": "markdown",
   "source": "## Request Validation Examples\n\nThe Customer.IO API requires properly formatted requests. We use Pydantic models to ensure type safety and validation.",
   "metadata": {},
   "outputs": []
  },
  {
   "cell_type": "markdown",
   "source": "## API Connection Testing",
   "metadata": {},
   "outputs": []
  },
  {
   "cell_type": "code",
   "metadata": {},
   "outputs": [],
   "source": "# Example 2: Valid track request\nprint(\"2. Valid Track Request:\")\n\ntry:\n    valid_track = TrackRequest(\n        userId=\"user_12345\",\n        event=\"Page Viewed\",\n        properties={\n            \"page_name\": \"Home\",\n            \"url\": \"https://example.com/home\",\n            \"referrer\": \"https://google.com\"\n        },\n        timestamp=datetime.now(timezone.utc)\n    )\n    print(f\"SUCCESS: Valid track request created\")\n    print(f\"  Event: {valid_track.event}\")\n    print(f\"  Properties count: {len(valid_track.properties)}\")\nexcept Exception as e:\n    print(f\"ERROR: Validation error: {e}\")"
  },
  {
   "cell_type": "code",
   "metadata": {},
   "outputs": [],
   "source": "# Example 4: Invalid track request (empty event name)\nprint(\"4. Invalid Track Request (empty event name):\")\n\ntry:\n    invalid_track = TrackRequest(\n        userId=\"user_12345\",\n        event=\"\",  # Empty event name\n        properties={\"test\": \"value\"}\n    )\n    print(f\"SUCCESS: Request created: {invalid_track.dict()}\")\nexcept Exception as e:\n    print(f\"ERROR: Expected validation error: {e}\")"
  },
  {
   "cell_type": "code",
   "metadata": {},
   "outputs": [],
   "source": "# Create sample data for transformation examples\nprint(\"=== Creating Sample Data ===\")\n\n# Create sample user data for identify operations\nsample_users_data = [\n    {\n        \"user_id\": f\"user_demo_{i}\",\n        \"email\": f\"user{i}@example.com\",\n        \"first_name\": f\"User{i}\",\n        \"last_name\": \"Demo\",\n        \"plan\": \"premium\" if i % 2 == 0 else \"basic\",\n        \"signup_date\": \"2024-01-15\"\n    }\n    for i in range(1, 4)\n]\n\n# Transform to identify requests\nidentify_requests = CustomerTransformer.dataframe_to_identify_requests(\n    data=sample_users_data,\n    user_id_col=\"user_id\",\n    traits_cols=[\"email\", \"first_name\", \"last_name\", \"plan\", \"signup_date\"]\n)\n\nprint(f\"Generated {len(identify_requests)} identify requests\")\nprint(f\"First request preview: {json.dumps(identify_requests[0], indent=2, default=str)}\")"
  },
  {
   "cell_type": "markdown",
   "metadata": {},
   "source": "# Create sample event data for track operations\nsample_events_data = [\n    {\n        \"user_id\": f\"user_demo_{i}\",\n        \"event_name\": \"Page Viewed\",\n        \"properties\": {\n            \"page_name\": f\"Page {i}\",\n            \"url\": f\"https://example.com/page-{i}\",\n            \"session_id\": f\"session_{i}\"\n        },\n        \"timestamp\": datetime.now(timezone.utc)\n    }\n    for i in range(1, 4)\n]\n\n# Transform to track requests\ntrack_requests = EventTransformer.create_track_requests(\n    events_data=sample_events_data,\n    user_id_col=\"user_id\",\n    event_name_col=\"event_name\",\n    properties_col=\"properties\",\n    timestamp_col=\"timestamp\"\n)\n\nprint(f\"Generated {len(track_requests)} track requests\")\nprint(f\"First request preview: {json.dumps(track_requests[0], indent=2, default=str)}\")",
   "outputs": []
  },
  {
   "cell_type": "code",
   "metadata": {},
   "outputs": [],
   "source": "# Create ecommerce events using transformers\nprint(\"=== Creating Specialized Events ===\")\nprint(\"1. Ecommerce Events:\")\n\n# Product viewed event\nproduct_viewed = EventTransformer.create_ecommerce_event(\n    event_name=\"Product Viewed\",\n    user_id=\"user_demo_001\",\n    product_id=\"prod_widget_123\",\n    price=29.99,\n    quantity=1,\n    currency=\"USD\",\n    # Additional properties\n    product_name=\"Amazing Widget\",\n    category=\"electronics\",\n    brand=\"WidgetCorp\",\n    sku=\"WDG-123-RED\"\n)\n\nprint(\"Product Viewed Event:\")\nprint(json.dumps(product_viewed, indent=2))\n\n# Order completed event\norder_completed = EventTransformer.create_ecommerce_event(\n    event_name=\"Order Completed\",\n    user_id=\"user_demo_001\",\n    order_id=\"order_789\",\n    price=89.97,  # Total order value\n    currency=\"USD\",\n    # Additional properties\n    products=[\n        {\"product_id\": \"prod_widget_123\", \"quantity\": 3, \"price\": 29.99}\n    ],\n    payment_method=\"credit_card\",\n    shipping_method=\"standard\"\n)\n\nprint(\"\\nOrder Completed Event:\")\nprint(json.dumps(order_completed, indent=2))"
  },
  {
   "cell_type": "markdown",
   "metadata": {},
   "source": [
    "## Batch Operations and Size Optimization"
   ]
  },
  {
   "cell_type": "code",
   "execution_count": null,
   "metadata": {},
   "outputs": [],
   "source": [
    "# Create batch requests and optimize sizes\n",
    "print(\"=== Batch Operations ===\")\n",
    "print(\"\\n1. Creating batch requests:\")\n",
    "\n",
    "# Create multiple requests\n",
    "sample_identify = [\n",
    "    {\n",
    "        \"userId\": f\"user_batch_{i}\",\n",
    "        \"traits\": {\n",
    "            \"email\": f\"user{i}@example.com\",\n",
    "            \"plan\": \"premium\" if i % 2 == 0 else \"basic\",\n",
    "            \"signup_date\": \"2024-01-15\"\n",
    "        }\n",
    "    }\n",
    "    for i in range(5)\n",
    "]\n",
    "\n",
    "sample_track = [\n",
    "    {\n",
    "        \"userId\": f\"user_batch_{i}\",\n",
    "        \"event\": \"Page Viewed\",\n",
    "        \"properties\": {\n",
    "            \"page_name\": \"Home\",\n",
    "            \"url\": f\"https://example.com/page-{i}\"\n",
    "        }\n",
    "    }\n",
    "    for i in range(3)\n",
    "]\n",
    "\n",
    "# Create batch request\n",
    "batch_requests = BatchTransformer.create_batch_request(\n",
    "    identify_requests=sample_identify,\n",
    "    track_requests=sample_track,\n",
    "    max_batch_size=10\n",
    ")\n",
    "\n",
    "print(f\"Created {len(batch_requests)} batch(es)\")\n",
    "for i, batch in enumerate(batch_requests):\n",
    "    batch_size = BatchTransformer.estimate_batch_size(batch[\"batch\"])\n",
    "    print(f\"  Batch {i+1}: {len(batch['batch'])} requests, ~{batch_size} bytes\")\n",
    "\n",
    "# Show first batch structure\n",
    "if batch_requests:\n",
    "    print(f\"\\nFirst batch preview (first 2 requests):\")\n",
    "    preview_batch = {\"batch\": batch_requests[0][\"batch\"][:2]}\n",
    "    print(json.dumps(preview_batch, indent=2, default=str))"
   ]
  },
  {
   "cell_type": "code",
   "metadata": {},
   "outputs": [],
   "source": "# Create sample event data for track operations\nsample_events_data = [\n    {\n        \"user_id\": f\"user_demo_{i}\",\n        \"event_name\": \"Page Viewed\",\n        \"properties\": {\n            \"page_name\": f\"Page {i}\",\n            \"url\": f\"https://example.com/page-{i}\",\n            \"session_id\": f\"session_{i}\"\n        },\n        \"timestamp\": datetime.now(timezone.utc)\n    }\n    for i in range(1, 4)\n]\n\n# Transform to track requests\ntrack_requests = EventTransformer.create_track_requests(\n    events_data=sample_events_data,\n    user_id_col=\"user_id\",\n    event_name_col=\"event_name\",\n    properties_col=\"properties\",\n    timestamp_col=\"timestamp\"\n)\n\nprint(f\"Generated {len(track_requests)} track requests\")\nprint(f\"First request preview: {json.dumps(track_requests[0], indent=2, default=str)}\")"
  },
  {
   "cell_type": "markdown",
   "metadata": {},
   "source": [
    "## Error Handling Demonstrations"
   ]
  },
  {
   "cell_type": "code",
   "execution_count": null,
   "metadata": {},
   "outputs": [],
   "source": [
    "# Demonstrate error handling patterns\n",
    "print(\"=== Error Handling Demonstrations ===\")\n",
    "print(\"\\n1. Error Context Manager:\")\n",
    "\n",
    "# Example of graceful error handling\n",
    "with ErrorContext(\n",
    "    operation_name=\"demo_api_call\",\n",
    "    logger=logger,\n",
    "    raise_on_error=False,\n",
    "    default_return={\"status\": \"failed\", \"message\": \"Operation failed gracefully\"}\n",
    ") as error_ctx:\n",
    "    # Simulate an operation that might fail\n",
    "    if ENVIRONMENT == \"test\":\n",
    "        # Simulate a controlled error for demonstration\n",
    "        raise CustomerIOError(\"Simulated API error for demonstration\")\n",
    "    else:\n",
    "        print(\"Real API call would happen here\")\n",
    "\n",
    "# Check if error occurred and get default result\n",
    "if error_ctx.error:\n",
    "    result = error_ctx.get_result()\n",
    "    print(f\"Error handled gracefully: {result}\")\n",
    "else:\n",
    "    print(\"Operation completed successfully\")"
   ]
  },
  {
   "cell_type": "code",
   "execution_count": null,
   "metadata": {},
   "outputs": [],
   "source": [
    "# Demonstrate retry decorator\n",
    "print(\"\\n2. Retry Decorator Example:\")\n",
    "\n",
    "@retry_on_error(max_retries=2, backoff_factor=1.5)\n",
    "def demo_api_call_with_retry(should_fail: bool = False):\n",
    "    \"\"\"Demo function that can be configured to fail for testing.\"\"\"\n",
    "    print(f\"  Attempting API call (fail={should_fail})...\")\n",
    "    \n",
    "    if should_fail:\n",
    "        # Simulate different types of failures\n",
    "        import random\n",
    "        error_type = random.choice([\"network\", \"server\", \"rate_limit\"])\n",
    "        \n",
    "        if error_type == \"network\":\n",
    "            raise NetworkError(\"Simulated network error\")\n",
    "        elif error_type == \"server\":\n",
    "            raise CustomerIOError(\"Simulated server error\", status_code=500)\n",
    "        else:\n",
    "            raise RateLimitError(\"Simulated rate limit error\", retry_after=1)\n",
    "    \n",
    "    return {\"status\": \"success\", \"message\": \"API call completed\"}\n",
    "\n",
    "# Test successful call\n",
    "try:\n",
    "    result = demo_api_call_with_retry(should_fail=False)\n",
    "    print(f\"SUCCESS: Success: {result}\")\n",
    "except Exception as e:\n",
    "    print(f\"ERROR: Failed: {str(e)}\")\n",
    "\n",
    "# Test failing call (will retry)\n",
    "try:\n",
    "    result = demo_api_call_with_retry(should_fail=True)\n",
    "    print(f\"SUCCESS: Success after retries: {result}\")\n",
    "except Exception as e:\n",
    "    print(f\"ERROR: Failed after retries: {str(e)}\")"
   ]
  },
  {
   "cell_type": "markdown",
   "metadata": {},
   "source": [
    "## Rate Limiting Demonstration"
   ]
  },
  {
   "cell_type": "code",
   "execution_count": null,
   "metadata": {},
   "outputs": [],
   "source": [
    "# Demonstrate rate limiting behavior\n",
    "print(\"=== Rate Limiting Demonstration ===\")\n",
    "\n",
    "# Check current rate limit status\n",
    "print(f\"Rate limit configuration:\")\n",
    "print(f\"  Max requests: {client.rate_limit.max_requests}\")\n",
    "print(f\"  Window: {client.rate_limit.window_seconds} seconds\")\n",
    "print(f\"  Current requests: {client.rate_limit.current_requests}\")\n",
    "print(f\"  Window start: {client.rate_limit.window_start}\")\n",
    "\n",
    "# Simulate rate limit checking\n",
    "print(f\"\\nRate limit status:\")\n",
    "print(f\"  Can make request: {client.rate_limit.can_make_request()}\")\n",
    "print(f\"  Time until reset: {client.rate_limit.time_until_reset():.2f} seconds\")\n",
    "\n",
    "# Simulate some requests to show rate limiting in action\n",
    "print(f\"\\nSimulating request tracking:\")\n",
    "for i in range(5):\n",
    "    if client.rate_limit.can_make_request():\n",
    "        client.rate_limit.record_request()\n",
    "        print(f\"  Request {i+1}: SUCCESS: Allowed (total: {client.rate_limit.current_requests})\")\n",
    "    else:\n",
    "        print(f\"  Request {i+1}: ERROR: Rate limited\")\n",
    "        break"
   ]
  },
  {
   "cell_type": "markdown",
   "metadata": {},
   "source": [
    "## Request Size Validation"
   ]
  },
  {
   "cell_type": "code",
   "execution_count": null,
   "metadata": {},
   "outputs": [],
   "source": [
    "# Demonstrate request size validation\n",
    "print(\"=== Request Size Validation ===\")\n",
    "\n",
    "# Test normal-sized request\n",
    "normal_request = {\n",
    "    \"userId\": \"user_123\",\n",
    "    \"event\": \"Page Viewed\",\n",
    "    \"properties\": {\n",
    "        \"page_name\": \"Home\",\n",
    "        \"url\": \"https://example.com\"\n",
    "    }\n",
    "}\n",
    "\n",
    "is_valid_size = validate_request_size(normal_request)\n",
    "print(f\"Normal request size valid: {is_valid_size}\")\n",
    "print(f\"  Request size: ~{len(json.dumps(normal_request).encode())} bytes\")\n",
    "\n",
    "# Test oversized request\n",
    "oversized_request = {\n",
    "    \"userId\": \"user_123\",\n",
    "    \"event\": \"Large Data Import\",\n",
    "    \"properties\": {\n",
    "        \"large_payload\": \"x\" * (33 * 1024),  # 33KB - exceeds 32KB limit\n",
    "        \"import_id\": \"large_import_001\"\n",
    "    }\n",
    "}\n",
    "\n",
    "is_oversized_valid = validate_request_size(oversized_request)\n",
    "print(f\"\\nOversized request size valid: {is_oversized_valid}\")\n",
    "print(f\"  Request size: ~{len(json.dumps(oversized_request).encode())} bytes\")\n",
    "print(f\"  Limit: {32 * 1024} bytes (32KB)\")"
   ]
  },
  {
   "cell_type": "markdown",
   "metadata": {},
   "source": [
    "## Clean Up and Summary"
   ]
  },
  {
   "cell_type": "code",
   "metadata": {},
   "outputs": [],
   "source": "# Clean up resources\nprint(\"=== Clean Up ===\")\n\n# Disconnect authentication manager\nauth_manager.disconnect()\nprint(\"SUCCESS: API connection closed\")\n\n# Display final metrics\nfinal_metrics = auth_manager.get_metrics()\nprint(f\"\\nSession Metrics:\")\nprint(f\"  Total requests: {final_metrics['total_requests']}\")\nprint(f\"  Success rate: {final_metrics['success_rate']:.1f}%\")\nprint(f\"  Average response time: {final_metrics['average_response_time']:.2f}ms\")\n\nprint(\"\\nCOMPLETED: Authentication and utilities demonstration complete!\")"
  }
 ],
 "metadata": {
  "kernelspec": {
   "display_name": "Python 3",
   "language": "python",
   "name": "python3"
  },
  "language_info": {
   "codemirror_mode": {
    "name": "ipython",
    "version": 3
   },
   "file_extension": ".py",
   "mimetype": "text/x-python",
   "name": "python",
   "nbconvert_exporter": "python",
   "pygments_lexer": "ipython3",
   "version": "3.8.0"
  }
 },
 "nbformat": 4,
 "nbformat_minor": 4
}