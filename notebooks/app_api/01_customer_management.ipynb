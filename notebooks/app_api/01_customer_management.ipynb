{
 "cells": [
  {
   "cell_type": "markdown",
   "id": "intro",
   "metadata": {},
   "source": [
    "# Customer.IO App API - Customer Management\n",
    "\n",
    "This notebook demonstrates how to use the Customer.IO App API for customer management operations including search, retrieval, updates, and deletion.\n",
    "\n",
    "## Setup\n",
    "\n",
    "First, let's import the necessary modules and set up authentication."
   ]
  },
  {
   "cell_type": "code",
   "execution_count": null,
   "id": "setup",
   "metadata": {},
   "outputs": [],
   "source": [
    "# Import App API modules\n",
    "from src.app_api import (\n",
    "    AppAPIAuth,\n",
    "    search_customers,\n",
    "    get_customer,\n",
    "    get_customer_activities,\n",
    "    get_customer_attributes,\n",
    "    get_customer_messages,\n",
    "    get_customer_segments,\n",
    "    update_customer,\n",
    "    delete_customer\n",
    ")\n",
    "\n",
    "# Set up authentication\n",
    "auth = AppAPIAuth(\n",
    "    api_token=\"your_app_api_token_here\",\n",
    "    region=\"us\"  # or \"eu\"\n",
    ")\n",
    "\n",
    "print(\"Customer.IO App API client initialized successfully\")"
   ]
  },
  {
   "cell_type": "markdown",
   "id": "search-section",
   "metadata": {},
   "source": [
    "## Customer Search\n",
    "\n",
    "Search for customers using various criteria."
   ]
  },
  {
   "cell_type": "code",
   "execution_count": null,
   "id": "search-customers",
   "metadata": {},
   "outputs": [],
   "source": [
    "# Search customers by email\n",
    "search_results = search_customers(\n",
    "    auth=auth,\n",
    "    email=\"example@domain.com\",\n",
    "    limit=10\n",
    ")\n",
    "\n",
    "print(f\"Found {len(search_results['customers'])} customers\")\n",
    "for customer in search_results['customers']:\n",
    "    print(f\"- ID: {customer['id']}, Email: {customer.get('email', 'N/A')}\")"
   ]
  },
  {
   "cell_type": "markdown",
   "id": "customer-data-section",
   "metadata": {},
   "source": [
    "## Customer Data Retrieval\n",
    "\n",
    "Retrieve detailed customer information."
   ]
  },
  {
   "cell_type": "code",
   "execution_count": null,
   "id": "get-customer-data",
   "metadata": {},
   "outputs": [],
   "source": [
    "# Get customer profile\n",
    "customer_id = \"cust_123\"  # Replace with actual customer ID\n",
    "\n",
    "customer_profile = get_customer(auth=auth, customer_id=customer_id)\n",
    "print(f\"Customer Profile: {customer_profile}\")\n",
    "\n",
    "# Get customer attributes\n",
    "customer_attributes = get_customer_attributes(auth=auth, customer_id=customer_id)\n",
    "print(f\"Customer Attributes: {customer_attributes}\")\n",
    "\n",
    "# Get customer activities\n",
    "customer_activities = get_customer_activities(\n",
    "    auth=auth,\n",
    "    customer_id=customer_id,\n",
    "    limit=5\n",
    ")\n",
    "print(f\"Recent Activities: {len(customer_activities['activities'])} activities\")"
   ]
  },
  {
   "cell_type": "markdown",
   "id": "update-section",
   "metadata": {},
   "source": [
    "## Customer Updates\n",
    "\n",
    "Update customer information."
   ]
  },
  {
   "cell_type": "code",
   "execution_count": null,
   "id": "update-customer",
   "metadata": {},
   "outputs": [],
   "source": [
    "# Update customer attributes\n",
    "updated_customer = update_customer(\n",
    "    auth=auth,\n",
    "    customer_id=customer_id,\n",
    "    attributes={\n",
    "        \"plan\": \"premium\",\n",
    "        \"last_updated\": \"2024-01-01\"\n",
    "    }\n",
    ")\n",
    "\n",
    "print(f\"Customer updated: {updated_customer}\")"
   ]
  }
 ],
 "metadata": {
  "kernelspec": {
   "display_name": "Python 3",
   "language": "python",
   "name": "python3"
  },
  "language_info": {
   "codemirror_mode": {
    "name": "ipython",
    "version": 3
   },
   "file_extension": ".py",
   "mimetype": "text/x-python",
   "name": "python",
   "nbconvert_exporter": "python",
   "pygments_lexer": "ipython3",
   "version": "3.8.0"
  }
 },
 "nbformat": 4,
 "nbformat_minor": 5
}