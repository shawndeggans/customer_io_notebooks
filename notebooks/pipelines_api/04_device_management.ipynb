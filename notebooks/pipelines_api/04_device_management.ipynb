{
 "cells": [
  {
   "cell_type": "markdown",
   "metadata": {},
   "source": [
    "# Customer.IO Device Management\n",
    "\n",
    "This notebook demonstrates how to manage user devices in Customer.IO for push notifications.\n",
    "Device management is essential for mobile applications that need to send push notifications to iOS and Android devices."
   ]
  },
  {
   "cell_type": "markdown",
   "metadata": {},
   "source": [
    "## Setup and Imports\n",
    "\n",
    "Import the necessary functions and initialize the Customer.IO client."
   ]
  },
  {
   "cell_type": "code",
   "metadata": {},
   "outputs": [],
   "source": "# Setup and imports\nimport os\nfrom datetime import datetime\nfrom utils.api_client import CustomerIOClient\nfrom utils.people_manager import identify_user\nfrom utils.device_manager import (\n    register_device,\n    update_device,\n    delete_device\n)\nfrom utils.exceptions import CustomerIOError, ValidationError\n\n# Initialize client\nAPI_KEY = os.getenv('CUSTOMERIO_API_KEY', 'your-api-key-here')\nclient = CustomerIOClient(api_key=API_KEY, region='us')\n\nprint(\"Customer.IO device management functions loaded successfully\")"
  },
  {
   "cell_type": "markdown",
   "metadata": {},
   "source": [
    "## Understanding Device Management\n",
    "\n",
    "Devices in Customer.IO represent:\n",
    "- Mobile devices (iOS/Android) for push notifications\n",
    "- Browser instances for web push\n",
    "- Any endpoint that can receive notifications\n",
    "\n",
    "Key concepts:\n",
    "- **Device Token**: Unique identifier from push notification service (APNs/FCM)\n",
    "- **Device Type**: Platform identifier (\"ios\" or \"android\")\n",
    "- **Metadata**: Additional device information (OS version, app version, etc.)"
   ]
  },
  {
   "cell_type": "markdown",
   "metadata": {},
   "source": [
    "## Registering Devices\n",
    "\n",
    "Register a device when a user grants push notification permissions."
   ]
  },
  {
   "cell_type": "code",
   "metadata": {},
   "outputs": [],
   "source": "# Example: Register an iOS device\nios_device_token = \"a1b2c3d4e5f6g7h8i9j0k1l2m3n4o5p6q7r8s9t0\"\nuser_id = \"user_ios_001\"\n\n# First, ensure the user exists in Customer.IO\ntry:\n    identify_user(\n        client=client,\n        user_id=user_id,\n        traits={\"email\": f\"{user_id}@example.com\", \"name\": \"iOS User\"}\n    )\n    print(f\"User {user_id} identified successfully\")\nexcept CustomerIOError as e:\n    print(f\"Error identifying user: {e}\")\n\ntry:\n    result = register_device(\n        client=client,\n        user_id=user_id,\n        device_token=ios_device_token,\n        device_type=\"ios\"\n    )\n    print(\"iOS device registered successfully\")\n    print(f\"Result: {result}\")\nexcept CustomerIOError as e:\n    print(f\"Error registering iOS device: {e}\")"
  },
  {
   "cell_type": "code",
   "metadata": {},
   "outputs": [],
   "source": "# Example: Register an Android device with metadata\nandroid_device_token = \"fCm_token_example_123456789\"\nandroid_user_id = \"user_android_001\"\ndevice_metadata = {\n    \"app_version\": \"2.5.1\",\n    \"os_version\": \"Android 13\",\n    \"manufacturer\": \"Samsung\",\n    \"model\": \"Galaxy S23\",\n    \"language\": \"en-US\",\n    \"timezone\": \"America/New_York\"\n}\n\n# First, ensure the user exists in Customer.IO\ntry:\n    identify_user(\n        client=client,\n        user_id=android_user_id,\n        traits={\"email\": f\"{android_user_id}@example.com\", \"name\": \"Android User\"}\n    )\n    print(f\"User {android_user_id} identified successfully\")\nexcept CustomerIOError as e:\n    print(f\"Error identifying user: {e}\")\n\ntry:\n    result = register_device(\n        client=client,\n        user_id=android_user_id,\n        device_token=android_device_token,\n        device_type=\"android\",\n        metadata=device_metadata\n    )\n    print(\"Android device registered with metadata\")\nexcept CustomerIOError as e:\n    print(f\"Error registering Android device: {e}\")"
  },
  {
   "cell_type": "markdown",
   "metadata": {},
   "source": [
    "## Updating Device Information\n",
    "\n",
    "Update device metadata when app versions change or settings are modified."
   ]
  },
  {
   "cell_type": "code",
   "metadata": {},
   "outputs": [],
   "source": "# Update device with new app version\nupdated_metadata = {\n    \"app_version\": \"2.6.0\",\n    \"last_opened\": datetime.now().isoformat(),\n    \"notification_enabled\": True,\n    \"sound_enabled\": True,\n    \"badge_enabled\": True\n}\n\ntry:\n    result = update_device(\n        client=client,\n        user_id=android_user_id,\n        device_token=android_device_token,\n        device_type=\"android\",\n        metadata=updated_metadata\n    )\n    print(\"Device updated with new app version\")\nexcept CustomerIOError as e:\n    print(f\"Error updating device: {e}\")"
  },
  {
   "cell_type": "code",
   "execution_count": null,
   "metadata": {},
   "outputs": [],
   "source": [
    "# Update device preferences\n",
    "preference_metadata = {\n",
    "    \"push_categories\": [\"promotions\", \"updates\", \"alerts\"],\n",
    "    \"quiet_hours_start\": \"22:00\",\n",
    "    \"quiet_hours_end\": \"08:00\",\n",
    "    \"preferred_language\": \"es-ES\"\n",
    "}\n",
    "\n",
    "try:\n",
    "    result = update_device(\n",
    "        client=client,\n",
    "        user_id=\"user_ios_001\",\n",
    "        device_token=ios_device_token,\n",
    "        device_type=\"ios\",\n",
    "        metadata=preference_metadata,\n",
    "        timestamp=datetime.now()\n",
    "    )\n",
    "    print(\"Device preferences updated\")\n",
    "except CustomerIOError as e:\n",
    "    print(f\"Error updating preferences: {e}\")"
   ]
  },
  {
   "cell_type": "markdown",
   "metadata": {},
   "source": [
    "## Multi-Device Management\n",
    "\n",
    "Handle users with multiple devices (phone, tablet, etc.)."
   ]
  },
  {
   "cell_type": "code",
   "metadata": {},
   "outputs": [],
   "source": "# Register multiple devices for one user\nuser_id = \"user_multi_001\"\ndevices = [\n    {\n        \"token\": \"iphone_token_abc123\",\n        \"type\": \"ios\",\n        \"metadata\": {\"device_name\": \"John's iPhone\", \"model\": \"iPhone 14 Pro\"}\n    },\n    {\n        \"token\": \"ipad_token_def456\",\n        \"type\": \"ios\",\n        \"metadata\": {\"device_name\": \"John's iPad\", \"model\": \"iPad Air\"}\n    },\n    {\n        \"token\": \"android_work_token_789\",\n        \"type\": \"android\",\n        \"metadata\": {\"device_name\": \"Work Phone\", \"model\": \"Pixel 7\"}\n    }\n]\n\n# First, ensure the user exists in Customer.IO\ntry:\n    identify_user(\n        client=client,\n        user_id=user_id,\n        traits={\"email\": f\"{user_id}@example.com\", \"name\": \"Multi Device User\"}\n    )\n    print(f\"User {user_id} identified successfully\")\nexcept CustomerIOError as e:\n    print(f\"Error identifying user: {e}\")\n\nfor device in devices:\n    try:\n        register_device(\n            client=client,\n            user_id=user_id,\n            device_token=device[\"token\"],\n            device_type=device[\"type\"],\n            metadata=device[\"metadata\"]\n        )\n        print(f\"Registered: {device['metadata']['device_name']}\")\n    except CustomerIOError as e:\n        print(f\"Error registering {device['metadata']['device_name']}: {e}\")"
  },
  {
   "cell_type": "markdown",
   "metadata": {},
   "source": [
    "## Deleting Devices\n",
    "\n",
    "Remove devices when users log out, uninstall the app, or revoke permissions."
   ]
  },
  {
   "cell_type": "code",
   "execution_count": null,
   "metadata": {},
   "outputs": [],
   "source": [
    "# Delete a device when user logs out\n",
    "try:\n",
    "    result = delete_device(\n",
    "        client=client,\n",
    "        user_id=\"user_ios_001\",\n",
    "        device_token=ios_device_token,\n",
    "        device_type=\"ios\"\n",
    "    )\n",
    "    print(\"Device removed successfully\")\n",
    "except CustomerIOError as e:\n",
    "    print(f\"Error deleting device: {e}\")"
   ]
  },
  {
   "cell_type": "code",
   "execution_count": null,
   "metadata": {},
   "outputs": [],
   "source": [
    "# Delete device with timestamp for audit trail\n",
    "deletion_time = datetime.now()\n",
    "\n",
    "try:\n",
    "    result = delete_device(\n",
    "        client=client,\n",
    "        user_id=\"user_android_001\",\n",
    "        device_token=android_device_token,\n",
    "        device_type=\"android\",\n",
    "        timestamp=deletion_time\n",
    "    )\n",
    "    print(f\"Device deleted at {deletion_time.isoformat()}\")\n",
    "except CustomerIOError as e:\n",
    "    print(f\"Error deleting device: {e}\")"
   ]
  },
  {
   "cell_type": "markdown",
   "metadata": {},
   "source": [
    "## Real-World Example: Mobile App Lifecycle\n",
    "\n",
    "Complete device management workflow for a mobile application."
   ]
  },
  {
   "cell_type": "code",
   "execution_count": null,
   "metadata": {},
   "outputs": [],
   "source": [
    "class DeviceManager:\n",
    "    \"\"\"Helper class for device lifecycle management.\"\"\"\n",
    "    \n",
    "    def __init__(self, client):\n",
    "        self.client = client\n",
    "    \n",
    "    def on_app_launch(self, user_id, device_token, device_type, app_version):\n",
    "        \"\"\"Called when app launches - update device info.\"\"\"\n",
    "        metadata = {\n",
    "            \"app_version\": app_version,\n",
    "            \"last_active\": datetime.now().isoformat(),\n",
    "            \"session_count\": 1  # In real app, increment existing count\n",
    "        }\n",
    "        \n",
    "        try:\n",
    "            register_device(\n",
    "                self.client,\n",
    "                user_id,\n",
    "                device_token,\n",
    "                device_type,\n",
    "                metadata\n",
    "            )\n",
    "            print(f\"Device active: {device_type} for user {user_id}\")\n",
    "            return True\n",
    "        except CustomerIOError as e:\n",
    "            print(f\"Failed to update device: {e}\")\n",
    "            return False\n",
    "    \n",
    "    def on_permission_granted(self, user_id, device_token, device_type, device_info):\n",
    "        \"\"\"Called when user grants push permission.\"\"\"\n",
    "        metadata = {\n",
    "            **device_info,\n",
    "            \"permission_granted_at\": datetime.now().isoformat(),\n",
    "            \"notification_enabled\": True\n",
    "        }\n",
    "        \n",
    "        try:\n",
    "            register_device(\n",
    "                self.client,\n",
    "                user_id,\n",
    "                device_token,\n",
    "                device_type,\n",
    "                metadata\n",
    "            )\n",
    "            print(\"Push notifications enabled\")\n",
    "            return True\n",
    "        except CustomerIOError as e:\n",
    "            print(f\"Failed to enable push: {e}\")\n",
    "            return False\n",
    "    \n",
    "    def on_logout(self, user_id, device_token, device_type):\n",
    "        \"\"\"Called when user logs out.\"\"\"\n",
    "        try:\n",
    "            delete_device(\n",
    "                self.client,\n",
    "                user_id,\n",
    "                device_token,\n",
    "                device_type\n",
    "            )\n",
    "            print(\"Device removed on logout\")\n",
    "            return True\n",
    "        except CustomerIOError as e:\n",
    "            print(f\"Failed to remove device: {e}\")\n",
    "            return False"
   ]
  },
  {
   "cell_type": "code",
   "execution_count": null,
   "metadata": {},
   "outputs": [],
   "source": [
    "# Example usage of DeviceManager\n",
    "device_mgr = DeviceManager(client)\n",
    "\n",
    "# Simulate app lifecycle\n",
    "user_id = \"user_lifecycle_001\"\n",
    "device_token = \"lifecycle_token_123\"\n",
    "device_type = \"ios\"\n",
    "\n",
    "# 1. App launch\n",
    "device_mgr.on_app_launch(user_id, device_token, device_type, \"3.0.0\")\n",
    "\n",
    "# 2. User grants permission\n",
    "device_info = {\n",
    "    \"model\": \"iPhone 15\",\n",
    "    \"os_version\": \"iOS 17.0\",\n",
    "    \"language\": \"en\"\n",
    "}\n",
    "device_mgr.on_permission_granted(user_id, device_token, device_type, device_info)\n",
    "\n",
    "# 3. Eventually user logs out\n",
    "device_mgr.on_logout(user_id, device_token, device_type)"
   ]
  },
  {
   "cell_type": "markdown",
   "metadata": {},
   "source": [
    "## Real-World Example: Push Notification Preferences\n",
    "\n",
    "Managing detailed push notification preferences per device."
   ]
  },
  {
   "cell_type": "code",
   "execution_count": null,
   "metadata": {},
   "outputs": [],
   "source": [
    "def update_push_preferences(client, user_id, device_token, device_type, preferences):\n",
    "    \"\"\"Update push notification preferences for a device.\"\"\"\n",
    "    \n",
    "    # Build preference metadata\n",
    "    metadata = {\n",
    "        \"push_enabled\": preferences.get(\"enabled\", True),\n",
    "        \"sound_enabled\": preferences.get(\"sound\", True),\n",
    "        \"vibration_enabled\": preferences.get(\"vibration\", True),\n",
    "        \"categories\": preferences.get(\"categories\", []),\n",
    "        \"quiet_hours\": preferences.get(\"quiet_hours\", {}),\n",
    "        \"frequency_cap\": preferences.get(\"frequency_cap\", \"unlimited\"),\n",
    "        \"preferences_updated_at\": datetime.now().isoformat()\n",
    "    }\n",
    "    \n",
    "    try:\n",
    "        update_device(\n",
    "            client,\n",
    "            user_id,\n",
    "            device_token,\n",
    "            device_type,\n",
    "            metadata\n",
    "        )\n",
    "        print(\"Push preferences updated successfully\")\n",
    "        return True\n",
    "    except CustomerIOError as e:\n",
    "        print(f\"Failed to update preferences: {e}\")\n",
    "        return False"
   ]
  },
  {
   "cell_type": "code",
   "execution_count": null,
   "metadata": {},
   "outputs": [],
   "source": [
    "# Example: Set detailed push preferences\n",
    "user_preferences = {\n",
    "    \"enabled\": True,\n",
    "    \"sound\": True,\n",
    "    \"vibration\": False,\n",
    "    \"categories\": [\n",
    "        \"order_updates\",\n",
    "        \"promotions\",\n",
    "        \"account_alerts\"\n",
    "    ],\n",
    "    \"quiet_hours\": {\n",
    "        \"enabled\": True,\n",
    "        \"start\": \"22:00\",\n",
    "        \"end\": \"08:00\",\n",
    "        \"timezone\": \"America/Los_Angeles\"\n",
    "    },\n",
    "    \"frequency_cap\": \"5_per_day\"\n",
    "}\n",
    "\n",
    "update_push_preferences(\n",
    "    client,\n",
    "    \"user_prefs_001\",\n",
    "    \"prefs_device_token\",\n",
    "    \"ios\",\n",
    "    user_preferences\n",
    ")"
   ]
  },
  {
   "cell_type": "markdown",
   "metadata": {},
   "source": [
    "## Error Handling and Validation\n",
    "\n",
    "Proper error handling for device operations."
   ]
  },
  {
   "cell_type": "code",
   "execution_count": null,
   "metadata": {},
   "outputs": [],
   "source": [
    "# Example: Validation errors\n",
    "invalid_operations = [\n",
    "    # Empty device token\n",
    "    lambda: register_device(client, \"user123\", \"\", \"ios\"),\n",
    "    # Invalid device type\n",
    "    lambda: register_device(client, \"user123\", \"token123\", \"windows\"),\n",
    "    # Invalid metadata type\n",
    "    lambda: register_device(client, \"user123\", \"token123\", \"ios\", \"not a dict\"),\n",
    "    # Missing user ID\n",
    "    lambda: register_device(client, \"\", \"token123\", \"android\")\n",
    "]\n",
    "\n",
    "for i, operation in enumerate(invalid_operations):\n",
    "    try:\n",
    "        operation()\n",
    "    except ValidationError as e:\n",
    "        print(f\"Validation error {i+1}: {e}\")"
   ]
  },
  {
   "cell_type": "markdown",
   "metadata": {},
   "source": [
    "## Device Token Rotation\n",
    "\n",
    "Handle device token updates (common with iOS)."
   ]
  },
  {
   "cell_type": "code",
   "execution_count": null,
   "metadata": {},
   "outputs": [],
   "source": [
    "def rotate_device_token(client, user_id, old_token, new_token, device_type):\n",
    "    \"\"\"Handle device token rotation.\"\"\"\n",
    "    \n",
    "    try:\n",
    "        # Delete old token\n",
    "        delete_device(client, user_id, old_token, device_type)\n",
    "        print(f\"Removed old token: {old_token[:10]}...\")\n",
    "        \n",
    "        # Register new token\n",
    "        register_device(\n",
    "            client,\n",
    "            user_id,\n",
    "            new_token,\n",
    "            device_type,\n",
    "            {\"token_rotated_at\": datetime.now().isoformat()}\n",
    "        )\n",
    "        print(f\"Registered new token: {new_token[:10]}...\")\n",
    "        return True\n",
    "        \n",
    "    except CustomerIOError as e:\n",
    "        print(f\"Token rotation failed: {e}\")\n",
    "        return False\n",
    "\n",
    "# Example usage\n",
    "rotate_device_token(\n",
    "    client,\n",
    "    \"user_rotation_001\",\n",
    "    \"old_token_abc123\",\n",
    "    \"new_token_xyz789\",\n",
    "    \"ios\"\n",
    ")"
   ]
  },
  {
   "cell_type": "markdown",
   "metadata": {},
   "source": [
    "## Best Practices\n",
    "\n",
    "### Token Management\n",
    "- Always validate tokens before registration\n",
    "- Handle token rotation gracefully\n",
    "- Clean up old/invalid tokens regularly\n",
    "\n",
    "### Metadata Usage\n",
    "- Track app version for targeted campaigns\n",
    "- Store device capabilities (sound, vibration)\n",
    "- Record user preferences per device\n",
    "- Include timezone for optimal send times\n",
    "\n",
    "### Security\n",
    "- Never log full device tokens\n",
    "- Validate tokens server-side\n",
    "- Remove tokens on logout/uninstall\n",
    "\n",
    "### Performance\n",
    "- Update devices asynchronously when possible\n",
    "- Batch device operations for multiple users\n",
    "- Cache device states locally to minimize API calls"
   ]
  },
  {
   "cell_type": "markdown",
   "metadata": {},
   "source": [
    "## Next Steps\n",
    "\n",
    "Now that you understand device management, explore:\n",
    "\n",
    "- **05_batch_operations.ipynb** - Bulk device registration and updates\n",
    "- **02_event_tracking.ipynb** - Track device-related events\n",
    "- **01_people_management.ipynb** - Link devices to user profiles"
   ]
  }
 ],
 "metadata": {
  "kernelspec": {
   "display_name": "Python 3",
   "language": "python",
   "name": "python3"
  },
  "language_info": {
   "codemirror_mode": {
    "name": "ipython",
    "version": 3
   },
   "file_extension": ".py",
   "mimetype": "text/x-python",
   "name": "python",
   "nbconvert_exporter": "python",
   "pygments_lexer": "ipython3",
   "version": "3.8.0"
  }
 },
 "nbformat": 4,
 "nbformat_minor": 4
}