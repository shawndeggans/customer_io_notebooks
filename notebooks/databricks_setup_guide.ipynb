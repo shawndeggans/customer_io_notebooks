{
 "cells": [
  {
   "cell_type": "markdown",
   "metadata": {},
   "source": [
    "# Databricks Setup Guide for Customer.IO Integration\n",
    "\n",
    "This notebook provides a complete walkthrough for setting up the Customer.IO API client library on a Databricks cluster. Follow these steps to get started with Customer.IO integration in your Databricks environment."
   ]
  },
  {
   "cell_type": "markdown",
   "metadata": {},
   "source": [
    "## Step 1: Library Installation\n",
    "\n",
    "First, let's install the required libraries. You have three options:"
   ]
  },
  {
   "cell_type": "code",
   "execution_count": null,
   "metadata": {},
   "outputs": [],
   "source": [
    "# Option 1: Install from a wheel file (if you've built and uploaded one)\n",
    "# %pip install /dbfs/libraries/customerio_api_client-1.0.0-py3-none-any.whl\n",
    "\n",
    "# Option 2: Install individual requirements (recommended for development)\n",
    "%pip install httpx>=0.25.0 pydantic>=2.0.0 pandas>=2.0.0 python-dotenv>=1.0.0 structlog>=24.0.0\n",
    "\n",
    "# Option 3: Install from git repository (if accessible)\n",
    "# %pip install git+https://github.com/your-org/customer_io_notebooks.git"
   ]
  },
  {
   "cell_type": "markdown",
   "metadata": {},
   "source": [
    "## Step 2: Restart Python Kernel\n",
    "\n",
    "After installing libraries, it's good practice to restart the Python kernel:"
   ]
  },
  {
   "cell_type": "code",
   "execution_count": null,
   "metadata": {},
   "outputs": [],
   "source": [
    "# Restart the Python kernel to ensure new libraries are loaded\n",
    "dbutils.library.restartPython()"
   ]
  },
  {
   "cell_type": "markdown",
   "metadata": {},
   "source": [
    "## Step 3: Verify Installation\n",
    "\n",
    "Let's verify that the libraries were installed correctly:"
   ]
  },
  {
   "cell_type": "code",
   "execution_count": null,
   "metadata": {},
   "outputs": [],
   "source": [
    "# Check installed packages\n",
    "import pkg_resources\n",
    "\n",
    "required_packages = ['httpx', 'pydantic', 'pandas', 'python-dotenv', 'structlog']\n",
    "\n",
    "for package in required_packages:\n",
    "    try:\n",
    "        version = pkg_resources.get_distribution(package).version\n",
    "        print(f\"✓ {package}: {version}\")\n",
    "    except:\n",
    "        print(f\"✗ {package}: NOT INSTALLED\")"
   ]
  },
  {
   "cell_type": "markdown",
   "metadata": {},
   "source": [
    "## Step 4: Set Up Databricks Secrets\n",
    "\n",
    "For security, we'll use Databricks secrets to store API credentials. First, let's check if the secret scope exists:"
   ]
  },
  {
   "cell_type": "code",
   "execution_count": null,
   "metadata": {},
   "outputs": [],
   "source": [
    "# List available secret scopes\n",
    "try:\n",
    "    scopes = dbutils.secrets.listScopes()\n",
    "    print(\"Available secret scopes:\")\n",
    "    for scope in scopes:\n",
    "        print(f\"  - {scope.name}\")\n",
    "    \n",
    "    # Check if customer-io scope exists\n",
    "    if any(scope.name == 'customer-io' for scope in scopes):\n",
    "        print(\"\\n✓ 'customer-io' scope exists\")\n",
    "    else:\n",
    "        print(\"\\n✗ 'customer-io' scope not found. Please create it using Databricks CLI:\")\n",
    "        print(\"  databricks secrets create-scope --scope customer-io\")\n",
    "except Exception as e:\n",
    "    print(f\"Error listing scopes: {e}\")"
   ]
  },
  {
   "cell_type": "code",
   "execution_count": null,
   "metadata": {},
   "outputs": [],
   "source": [
    "# List secrets in the customer-io scope\n",
    "try:\n",
    "    secrets = dbutils.secrets.list(\"customer-io\")\n",
    "    print(\"Secrets in 'customer-io' scope:\")\n",
    "    for secret in secrets:\n",
    "        print(f\"  - {secret.key}\")\n",
    "    \n",
    "    # Check for required secrets\n",
    "    required_secrets = ['api_key', 'region']\n",
    "    existing_keys = [s.key for s in secrets]\n",
    "    \n",
    "    for required in required_secrets:\n",
    "        if required in existing_keys:\n",
    "            print(f\"\\n✓ '{required}' secret exists\")\n",
    "        else:\n",
    "            print(f\"\\n✗ '{required}' secret missing. Add it using:\")\n",
    "            print(f\"  databricks secrets put --scope customer-io --key {required}\")\n",
    "            \n",
    "except Exception as e:\n",
    "    print(f\"Error accessing secrets: {e}\")\n",
    "    print(\"\\nTo create secrets, use the Databricks CLI:\")\n",
    "    print(\"  databricks secrets put --scope customer-io --key api_key\")\n",
    "    print(\"  databricks secrets put --scope customer-io --key region\")"
   ]
  },
  {
   "cell_type": "markdown",
   "metadata": {},
   "source": [
    "## Step 5: Test Module Imports\n",
    "\n",
    "Now let's test importing the Customer.IO modules. We'll handle both packaged and development scenarios:"
   ]
  },
  {
   "cell_type": "code",
   "execution_count": null,
   "metadata": {},
   "outputs": [],
   "source": [
    "import os\n",
    "import sys\n",
    "\n",
    "# For development: Add src directory to path if it exists\n",
    "# This is useful if you've uploaded the source code directly\n",
    "if os.path.exists('/Workspace/customer_io_notebooks/src'):\n",
    "    sys.path.insert(0, '/Workspace/customer_io_notebooks/src')\n",
    "    print(\"Added src directory to Python path\")\n",
    "\n",
    "# Try importing the modules\n",
    "try:\n",
    "    from pipelines_api.api_client import CustomerIOClient\n",
    "    from pipelines_api.people_manager import identify_user\n",
    "    print(\"✓ Successfully imported Customer.IO modules\")\n",
    "except ImportError as e:\n",
    "    print(f\"✗ Import error: {e}\")\n",
    "    print(\"\\nTroubleshooting steps:\")\n",
    "    print(\"1. Ensure you've installed the customerio-api-client package\")\n",
    "    print(\"2. Or upload the src/ directory to your workspace\")\n",
    "    print(\"3. Check the Python path:\")\n",
    "    print(f\"   Current sys.path: {sys.path[:3]}...\")"
   ]
  },
  {
   "cell_type": "markdown",
   "metadata": {},
   "source": [
    "## Step 6: Test API Connection\n",
    "\n",
    "Let's test the connection to Customer.IO API using the configured credentials:"
   ]
  },
  {
   "cell_type": "code",
   "execution_count": null,
   "metadata": {},
   "outputs": [],
   "source": [
    "# Load credentials from Databricks secrets\n",
    "try:\n",
    "    API_KEY = dbutils.secrets.get(scope=\"customer-io\", key=\"api_key\")\n",
    "    REGION = dbutils.secrets.get(scope=\"customer-io\", key=\"region\")\n",
    "    print(\"✓ Successfully loaded credentials from Databricks secrets\")\n",
    "    print(f\"  Region: {REGION}\")\n",
    "except Exception as e:\n",
    "    print(f\"✗ Error loading secrets: {e}\")\n",
    "    print(\"\\nFalling back to environment variables...\")\n",
    "    API_KEY = os.getenv('CUSTOMERIO_API_KEY', 'your-api-key-here')\n",
    "    REGION = os.getenv('CUSTOMERIO_REGION', 'us')"
   ]
  },
  {
   "cell_type": "code",
   "execution_count": null,
   "metadata": {},
   "outputs": [],
   "source": [
    "# Initialize the Customer.IO client\n",
    "try:\n",
    "    client = CustomerIOClient(\n",
    "        api_key=API_KEY,\n",
    "        region=REGION\n",
    "    )\n",
    "    print(\"✓ Customer.IO client initialized successfully\")\n",
    "    print(f\"  Base URL: {client.base_url}\")\n",
    "    print(f\"  Rate limit: {client.rate_limit_requests} requests per {client.rate_limit_window} seconds\")\n",
    "except Exception as e:\n",
    "    print(f\"✗ Error initializing client: {e}\")"
   ]
  },
  {
   "cell_type": "code",
   "execution_count": null,
   "metadata": {},
   "outputs": [],
   "source": [
    "# Test API connectivity with a simple operation\n",
    "from datetime import datetime\n",
    "\n",
    "test_user_id = f\"databricks_test_{int(datetime.now().timestamp())}\"\n",
    "test_traits = {\n",
    "    \"email\": \"databricks@example.com\",\n",
    "    \"name\": \"Databricks Test User\",\n",
    "    \"source\": \"databricks_setup\"\n",
    "}\n",
    "\n",
    "try:\n",
    "    response = identify_user(client, test_user_id, test_traits)\n",
    "    print(\"✓ API connection successful!\")\n",
    "    print(f\"  Test user created: {test_user_id}\")\n",
    "except Exception as e:\n",
    "    print(f\"✗ API connection failed: {e}\")\n",
    "    print(\"\\nPlease check:\")\n",
    "    print(\"1. Your API key is valid\")\n",
    "    print(\"2. The region setting is correct (us or eu)\")\n",
    "    print(\"3. Your network allows connections to Customer.IO\")"
   ]
  },
  {
   "cell_type": "markdown",
   "metadata": {},
   "source": [
    "## Step 7: Working with DBFS (Databricks File System)\n",
    "\n",
    "If you need to work with files, here's how to use DBFS paths:"
   ]
  },
  {
   "cell_type": "code",
   "execution_count": null,
   "metadata": {},
   "outputs": [],
   "source": [
    "# Example: List files in DBFS\n",
    "try:\n",
    "    # List root DBFS directory\n",
    "    files = dbutils.fs.ls('/')\n",
    "    print(\"DBFS root contents:\")\n",
    "    for file in files[:5]:  # Show first 5 items\n",
    "        print(f\"  - {file.path} ({'dir' if file.isDir() else 'file'})\")\n",
    "    \n",
    "    # Create a test directory for Customer.IO data\n",
    "    test_dir = '/customer_io_data'\n",
    "    dbutils.fs.mkdirs(test_dir)\n",
    "    print(f\"\\n✓ Created directory: {test_dir}\")\n",
    "    \n",
    "except Exception as e:\n",
    "    print(f\"Error with DBFS: {e}\")"
   ]
  },
  {
   "cell_type": "markdown",
   "metadata": {},
   "source": [
    "## Step 8: Verify Complete Setup\n",
    "\n",
    "Let's run a final check to ensure everything is configured correctly:"
   ]
  },
  {
   "cell_type": "code",
   "execution_count": null,
   "metadata": {},
   "outputs": [],
   "source": [
    "# Setup verification checklist\n",
    "print(\"Customer.IO Databricks Setup Checklist:\")\n",
    "print(\"=\" * 40)\n",
    "\n",
    "# Check 1: Libraries\n",
    "try:\n",
    "    import httpx\n",
    "    import pydantic\n",
    "    print(\"✓ Required libraries installed\")\n",
    "except:\n",
    "    print(\"✗ Missing required libraries\")\n",
    "\n",
    "# Check 2: Secrets\n",
    "try:\n",
    "    _ = dbutils.secrets.get(scope=\"customer-io\", key=\"api_key\")\n",
    "    _ = dbutils.secrets.get(scope=\"customer-io\", key=\"region\")\n",
    "    print(\"✓ Databricks secrets configured\")\n",
    "except:\n",
    "    print(\"✗ Databricks secrets not configured\")\n",
    "\n",
    "# Check 3: Module imports\n",
    "try:\n",
    "    from pipelines_api.api_client import CustomerIOClient\n",
    "    print(\"✓ Customer.IO modules importable\")\n",
    "except:\n",
    "    print(\"✗ Customer.IO modules not found\")\n",
    "\n",
    "# Check 4: API connectivity\n",
    "try:\n",
    "    if 'client' in locals():\n",
    "        print(\"✓ API client initialized\")\n",
    "    else:\n",
    "        print(\"✗ API client not initialized\")\n",
    "except:\n",
    "    print(\"✗ API client check failed\")\n",
    "\n",
    "print(\"\\n\" + \"=\" * 40)\n",
    "print(\"Setup complete! You can now run the Customer.IO notebooks.\")"
   ]
  },
  {
   "cell_type": "markdown",
   "metadata": {},
   "source": [
    "## Next Steps\n",
    "\n",
    "Now that your Databricks environment is set up, you can:\n",
    "\n",
    "1. **Run the example notebooks**:\n",
    "   - Start with `pipelines_api/00_setup_and_configuration.ipynb`\n",
    "   - Try `pipelines_api/01_people_management.ipynb` for user management\n",
    "   - Explore other notebooks for different API features\n",
    "\n",
    "2. **Create scheduled jobs** for regular data syncs\n",
    "\n",
    "3. **Build Delta tables** to store Customer.IO data\n",
    "\n",
    "4. **Integrate with your data pipeline**\n",
    "\n",
    "## Troubleshooting\n",
    "\n",
    "If you encounter issues:\n",
    "\n",
    "- **Import errors**: Ensure the library is installed and Python kernel is restarted\n",
    "- **Secret errors**: Verify the secret scope and keys exist\n",
    "- **API errors**: Check your credentials and network connectivity\n",
    "- **Path errors**: Use `/dbfs/` prefix for file operations\n",
    "\n",
    "For more details, see the `DATABRICKS_SETUP.md` documentation."
   ]
  }
 ],
 "metadata": {
  "kernelspec": {
   "display_name": "Python 3",
   "language": "python",
   "name": "python3"
  },
  "language_info": {
   "codemirror_mode": {
    "name": "ipython",
    "version": 3
   },
   "file_extension": ".py",
   "mimetype": "text/x-python",
   "name": "python",
   "nbconvert_exporter": "python",
   "pygments_lexer": "ipython3",
   "version": "3.9.0"
  }
 },
 "nbformat": 4,
 "nbformat_minor": 4
}