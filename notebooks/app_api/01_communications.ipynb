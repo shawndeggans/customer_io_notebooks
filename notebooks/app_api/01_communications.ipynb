{
 "cells": [
  {
   "cell_type": "markdown",
   "metadata": {},
   "source": [
    "# Customer.IO App API - Communications\n",
    "\n",
    "This notebook demonstrates how to use the Customer.IO App API for communications including transactional emails, broadcast campaigns, and push notifications.\n",
    "\n",
    "The App API focuses on direct message delivery and is separate from the Data Pipelines API which handles customer data management.\n",
    "\n",
    "## Setup\n",
    "\n",
    "First, let's import the necessary modules and set up authentication."
   ]
  },
  {
   "cell_type": "code",
   "execution_count": null,
   "metadata": {},
   "outputs": [],
   "source": [
    "import os\n",
    "import sys\n",
    "from dotenv import load_dotenv\n",
    "\n",
    "# For local development with src imports (backwards compatibility)\n",
    "# Add src directory to path if it exists\n",
    "notebook_dir = os.path.dirname(os.path.abspath(''))\n",
    "project_root = os.path.abspath(os.path.join(notebook_dir, '..', '..'))\n",
    "src_path = os.path.join(project_root, 'src')\n",
    "\n",
    "if os.path.exists(src_path):\n",
    "    sys.path.insert(0, src_path)\n",
    "    # Try importing from src (local development pattern)\n",
    "    try:\n",
    "        from src.app_api.auth import AppAPIAuth\n",
    "        from src.app_api.client import (\n",
    "            send_transactional,\n",
    "            trigger_broadcast,\n",
    "            send_push\n",
    "        )\n",
    "    except ImportError:\n",
    "        # Fall back to package imports\n",
    "        from app_api.auth import AppAPIAuth\n",
    "        from app_api.client import (\n",
    "            send_transactional,\n",
    "            trigger_broadcast,\n",
    "            send_push\n",
    "        )\n",
    "else:\n",
    "    # Databricks or package installation - use package imports\n",
    "    from app_api.auth import AppAPIAuth\n",
    "    from app_api.client import (\n",
    "        send_transactional,\n",
    "        trigger_broadcast,\n",
    "        send_push\n",
    "    )\n",
    "\n",
    "# Load environment variables\n",
    "load_dotenv()\n",
    "\n",
    "print(\"Customer.IO App API client library imported successfully\")"
   ]
  },
  {
   "cell_type": "markdown",
   "metadata": {},
   "source": [
    "## Databricks Environment Setup\n",
    "\n",
    "This section handles the installation of required libraries and configuration for Databricks clusters. Skip this section if running locally."
   ]
  },
  {
   "cell_type": "code",
   "execution_count": null,
   "metadata": {},
   "outputs": [],
   "source": [
    "# Databricks library installation\n",
    "# Uncomment the following lines when running on Databricks\n",
    "\n",
    "# %pip install customerio-api-client\n",
    "# OR if using a wheel file:\n",
    "# %pip install /dbfs/path/to/customerio_api_client-1.0.0-py3-none-any.whl\n",
    "\n",
    "# For development without packaging, install individual requirements:\n",
    "# %pip install httpx>=0.25.0 pydantic>=2.0.0 pandas>=2.0.0 python-dotenv>=1.0.0 structlog>=24.0.0\n",
    "\n",
    "# Restart kernel after installation if needed\n",
    "# import dbutils\n",
    "# dbutils.library.restartPython()"
   ]
  },
  {
   "cell_type": "markdown",
   "metadata": {},
   "source": [
    "## Configuration\n",
    "\n",
    "Configure your Customer.IO App API credentials. For security, credentials should be stored as environment variables rather than hardcoded in notebooks."
   ]
  },
  {
   "cell_type": "code",
   "execution_count": null,
   "metadata": {},
   "outputs": [],
   "source": [
    "# Configuration - Replace with your actual credentials\n",
    "# Recommended: Set these as environment variables\n",
    "API_TOKEN = os.getenv('CUSTOMERIO_APP_API_TOKEN', 'your-app-api-token-here')\n",
    "    REGION = dbutils.secrets.get(scope=\"customer-io\", key=\"region\")\n",
    "    print(\"Using Databricks secrets for credentials\")\n",
    "except:\n",
    "    # Fall back to environment variables\n",
    "    REGION = os.getenv('CUSTOMERIO_REGION', 'us')  # 'us' or 'eu'\n",
    "    print(\"Using environment variables for credentials\")\n",
    "\n",
    "print(f\"Configured for region: {REGION}\")\n",
    "print(f\"API token configured: {'Yes' if API_TOKEN != 'your-app-api-token-here' else 'No - using placeholder'}\")"
   ]
  },
  {
   "cell_type": "markdown",
   "metadata": {},
   "source": [
    "## Client Initialization\n",
    "\n",
    "Initialize the Customer.IO App API client with your credentials and region settings."
   ]
  },
  {
   "cell_type": "code",
   "execution_count": null,
   "metadata": {},
   "outputs": [],
   "source": [
    "# Initialize the Customer.IO App API client\n",
    "auth = AppAPIAuth(\n",
    "    api_token=API_TOKEN,\n",
    "    region=REGION\n",
    ")\n",
    "\n",
    "print(f\"App API client initialized successfully\")\n",
    "print(f\"Region: {auth.region}\")\n",
    "print(f\"Base URL: {auth.base_url}\")"
   ]
  },
  {
   "cell_type": "markdown",
   "metadata": {},
   "source": [
    "## Transactional Email Communication\n",
    "\n",
    "Transactional emails are triggered by specific user actions or events. They are highly personalized and time-sensitive messages like password resets, order confirmations, or welcome emails.\n",
    "\n",
    "### Email to Direct Address\n",
    "\n",
    "Send an email directly to an email address without requiring a customer profile:"
   ]
  },
  {
   "cell_type": "code",
   "execution_count": null,
   "metadata": {},
   "outputs": [],
   "source": [
    "# Send transactional email to a direct email address\n",
    "try:\n",
    "    response = send_transactional(\n",
    "        auth=auth,\n",
    "        transactional_message_id=1,  # Replace with your actual message ID\n",
    "        to=\"customer@example.com\",\n",
    "        message_data={\n",
    "            \"customer_name\": \"John Doe\",\n",
    "            \"order_number\": \"ORD-12345\",\n",
    "            \"order_total\": \"$99.99\",\n",
    "            \"delivery_date\": \"2024-01-15\"\n",
    "        }\n",
    "    )\n",
    "    \n",
    "    print(f\"Email sent successfully!\")\n",
    "    print(f\"Delivery ID: {response.get('delivery_id')}\")\n",
    "    \n",
    "except Exception as e:\n",
    "    print(f\"Error sending email: {e}\")\n",
    "    # Note: This will show an error unless you have a valid transactional_message_id"
   ]
  },
  {
   "cell_type": "markdown",
   "metadata": {},
   "source": [
    "### Email Using Customer Identifiers\n",
    "\n",
    "Send an email using customer identifiers (requires the customer to exist in your workspace):"
   ]
  },
  {
   "cell_type": "code",
   "execution_count": null,
   "metadata": {},
   "outputs": [],
   "source": [
    "# Send transactional email using customer identifiers\n",
    "try:\n",
    "    response = send_transactional(\n",
    "        auth=auth,\n",
    "        transactional_message_id=1,  # Replace with your actual message ID\n",
    "        identifiers={\n",
    "            \"email\": \"customer@example.com\"\n",
    "            # Can also use: {\"id\": \"customer_123\"} for internal ID\n",
    "        },\n",
    "        message_data={\n",
    "            \"subject_line\": \"Your Order Confirmation\",\n",
    "            \"product_name\": \"Customer.IO Integration Guide\",\n",
    "            \"download_link\": \"https://customer.io/docs\",\n",
    "            \"support_email\": \"support@example.com\"\n",
    "        }\n",
    "    )\n",
    "    \n",
    "    print(f\"Email sent using customer identifiers!\")\n",
    "    print(f\"Delivery ID: {response.get('delivery_id')}\")\n",
    "    \n",
    "except Exception as e:\n",
    "    print(f\"Error sending email: {e}\")"
   ]
  },
  {
   "cell_type": "markdown",
   "metadata": {},
   "source": [
    "## Broadcast Campaign Communication\n",
    "\n",
    "Broadcast campaigns are one-time messages sent to a segment of customers. They are typically used for marketing announcements, product launches, or newsletters.\n",
    "\n",
    "### Trigger API Broadcast\n",
    "\n",
    "Trigger a pre-configured broadcast campaign via the API:"
   ]
  },
  {
   "cell_type": "code",
   "execution_count": null,
   "metadata": {},
   "outputs": [],
   "source": [
    "# Trigger a broadcast campaign\n",
    "try:\n",
    "    response = trigger_broadcast(\n",
    "        auth=auth,\n",
    "        broadcast_id=1,  # Replace with your actual broadcast ID\n",
    "        data={\n",
    "            \"campaign_name\": \"Spring Sale 2024\",\n",
    "            \"discount_percentage\": 25,\n",
    "            \"sale_end_date\": \"2024-03-31\",\n",
    "            \"featured_products\": [\n",
    "                \"Premium Plan\",\n",
    "                \"Enterprise Solution\"\n",
    "            ]\n",
    "        },\n",
    "        recipients={\n",
    "            \"segment\": {\"id\": 1}  # Target specific segment\n",
    "        }\n",
    "    )\n",
    "    \n",
    "    print(f\"Broadcast triggered successfully!\")\n",
    "    print(f\"Trigger ID: {response.get('id')}\")\n",
    "    \n",
    "except Exception as e:\n",
    "    print(f\"Error triggering broadcast: {e}\")\n",
    "    # Note: This will show an error unless you have a valid broadcast_id"
   ]
  },
  {
   "cell_type": "markdown",
   "metadata": {},
   "source": [
    "### Broadcast with Advanced Targeting\n",
    "\n",
    "Trigger a broadcast with more sophisticated recipient targeting:"
   ]
  },
  {
   "cell_type": "code",
   "execution_count": null,
   "metadata": {},
   "outputs": [],
   "source": [
    "# Trigger broadcast with advanced targeting\n",
    "try:\n",
    "    response = trigger_broadcast(\n",
    "        auth=auth,\n",
    "        broadcast_id=2,  # Replace with your actual broadcast ID\n",
    "        data={\n",
    "            \"headline\": \"Exclusive Beta Access\",\n",
    "            \"feature_name\": \"Advanced Analytics Dashboard\",\n",
    "            \"beta_signup_url\": \"https://example.com/beta-signup\",\n",
    "            \"expiration_date\": \"2024-02-28\"\n",
    "        },\n",
    "        recipients={\n",
    "            \"emails\": [\n",
    "                \"beta-user1@example.com\",\n",
    "                \"beta-user2@example.com\"\n",
    "            ]\n",
    "        }\n",
    "    )\n",
    "    \n",
    "    print(f\"Targeted broadcast sent!\")\n",
    "    print(f\"Response: {response}\")\n",
    "    \n",
    "except Exception as e:\n",
    "    print(f\"Error sending targeted broadcast: {e}\")"
   ]
  },
  {
   "cell_type": "markdown",
   "metadata": {},
   "source": [
    "## Push Notification Communication\n",
    "\n",
    "Push notifications are real-time messages sent directly to users' mobile devices or browsers. They are excellent for urgent updates, reminders, and engagement.\n",
    "\n",
    "### Mobile Push Notification\n",
    "\n",
    "Send a push notification to mobile devices:"
   ]
  },
  {
   "cell_type": "code",
   "execution_count": null,
   "metadata": {},
   "outputs": [],
   "source": [
    "# Send push notification\n",
    "try:\n",
    "    response = send_push(\n",
    "        auth=auth,\n",
    "        identifiers={\n",
    "            \"email\": \"mobile-user@example.com\"\n",
    "        },\n",
    "        title=\"Order Status Update\",\n",
    "        message=\"Your order #12345 has been shipped and is on its way!\",\n",
    "        device_tokens=[\n",
    "            \"device_token_12345_ios\",\n",
    "            \"device_token_67890_android\"\n",
    "        ]\n",
    "    )\n",
    "    \n",
    "    print(f\"Push notification sent successfully!\")\n",
    "    print(f\"Delivery ID: {response.get('delivery_id')}\")\n",
    "    \n",
    "except Exception as e:\n",
    "    print(f\"Error sending push notification: {e}\")\n",
    "    # Note: Push notifications require proper setup and valid device tokens"
   ]
  },
  {
   "cell_type": "markdown",
   "metadata": {},
   "source": [
    "### Push Notification with Rich Content\n",
    "\n",
    "Send a push notification with additional payload data:"
   ]
  },
  {
   "cell_type": "code",
   "execution_count": null,
   "metadata": {},
   "outputs": [],
   "source": [
    "# Send rich push notification\n",
    "try:\n",
    "    response = send_push(\n",
    "        auth=auth,\n",
    "        identifiers={\n",
    "            \"id\": \"user_123\"\n",
    "        },\n",
    "        title=\"New Message\",\n",
    "        message=\"You have a new message from Customer.IO\",\n",
    "        device_tokens=[\"device_token_example\"],\n",
    "        # Additional push notification data\n",
    "        sound=\"notification.wav\",\n",
    "        badge=1,\n",
    "        data={\n",
    "            \"deep_link\": \"/messages/inbox\",\n",
    "            \"category\": \"social\",\n",
    "            \"action_url\": \"https://app.example.com/messages\"\n",
    "        }\n",
    "    )\n",
    "    \n",
    "    print(f\"Rich push notification sent!\")\n",
    "    print(f\"Response: {response}\")\n",
    "    \n",
    "except Exception as e:\n",
    "    print(f\"Error sending rich push notification: {e}\")"
   ]
  },
  {
   "cell_type": "markdown",
   "metadata": {},
   "source": [
    "## Error Handling and Best Practices\n",
    "\n",
    "Proper error handling is crucial when working with external APIs. Here are common error scenarios and how to handle them:\n",
    "\n",
    "### Authentication Errors"
   ]
  },
  {
   "cell_type": "code",
   "execution_count": null,
   "metadata": {},
   "outputs": [],
   "source": [
    "# Example of handling authentication errors\n",
    "try:\n",
    "    # This will demonstrate an authentication error with an invalid token\n",
    "    invalid_auth = AppAPIAuth(\n",
    "        api_token=\"invalid_token_example\",\n",
    "        region=\"us\"\n",
    "    )\n",
    "    \n",
    "    response = send_transactional(\n",
    "        auth=invalid_auth,\n",
    "        transactional_message_id=1,\n",
    "        to=\"test@example.com\"\n",
    "    )\n",
    "    \n",
    "except Exception as e:\n",
    "    error_message = str(e).lower()\n",
    "    \n",
    "    if \"401\" in error_message or \"unauthorized\" in error_message:\n",
    "        print(\"Authentication Error: Please check your API token\")\n",
    "        print(\"- Verify your token in Customer.IO dashboard\")\n",
    "        print(\"- Ensure you're using the App API token (not Pipelines API key)\")\n",
    "    else:\n",
    "        print(f\"Other error occurred: {e}\")"
   ]
  },
  {
   "cell_type": "markdown",
   "metadata": {},
   "source": [
    "### Validation Errors"
   ]
  },
  {
   "cell_type": "code",
   "execution_count": null,
   "metadata": {},
   "outputs": [],
   "source": [
    "# Example of handling validation errors\n",
    "try:\n",
    "    # This will demonstrate a validation error (missing required parameters)\n",
    "    response = send_push(\n",
    "        auth=auth,\n",
    "        identifiers={\"email\": \"test@example.com\"},\n",
    "        # Missing required title, message, and device_tokens\n",
    "    )\n",
    "    \n",
    "except ValueError as e:\n",
    "    print(f\"Validation Error: {e}\")\n",
    "    print(\"Please ensure all required parameters are provided\")\n",
    "    \n",
    "except Exception as e:\n",
    "    print(f\"API Error: {e}\")"
   ]
  },
  {
   "cell_type": "markdown",
   "metadata": {},
   "source": [
    "### Resource Not Found Errors"
   ]
  },
  {
   "cell_type": "code",
   "execution_count": null,
   "metadata": {},
   "outputs": [],
   "source": [
    "# Example of handling resource not found errors\n",
    "try:\n",
    "    # This will demonstrate a 404 error with non-existent message ID\n",
    "    response = send_transactional(\n",
    "        auth=auth,\n",
    "        transactional_message_id=99999999,  # Non-existent message ID\n",
    "        to=\"test@example.com\"\n",
    "    )\n",
    "    \n",
    "except Exception as e:\n",
    "    error_message = str(e).lower()\n",
    "    \n",
    "    if \"404\" in error_message or \"not found\" in error_message:\n",
    "        print(\"Resource Not Found Error:\")\n",
    "        print(\"- Check that your transactional message ID exists\")\n",
    "        print(\"- Verify broadcast ID is correct\")\n",
    "        print(\"- Ensure customer exists for identifier-based sending\")\n",
    "    elif \"403\" in error_message or \"forbidden\" in error_message:\n",
    "        print(\"Permission Error:\")\n",
    "        print(\"- Your API token may not have sufficient permissions\")\n",
    "        print(\"- Check your workspace settings\")\n",
    "    else:\n",
    "        print(f\"Other error occurred: {e}\")"
   ]
  },
  {
   "cell_type": "markdown",
   "metadata": {},
   "source": [
    "## Summary\n",
    "\n",
    "This notebook demonstrated the three main communication channels available through the Customer.IO App API:\n",
    "\n",
    "1. **Transactional Emails**: Personalized, triggered emails for user actions\n",
    "2. **Broadcast Campaigns**: Marketing messages sent to customer segments\n",
    "3. **Push Notifications**: Real-time mobile and browser notifications\n",
    "\n",
    "### Key Points:\n",
    "\n",
    "- **Authentication**: Use Bearer token authentication with AppAPIAuth\n",
    "- **Rate Limiting**: The client automatically handles API rate limits\n",
    "- **Error Handling**: Always wrap API calls in try-catch blocks\n",
    "- **Test Data**: Use valid message IDs and broadcast IDs from your Customer.IO workspace\n",
    "- **Direct vs Identifier**: You can send to email addresses directly or use customer identifiers\n",
    "\n",
    "### Next Steps:\n",
    "\n",
    "1. Set up your transactional messages and broadcasts in the Customer.IO dashboard\n",
    "2. Configure your API credentials in the `.env` file\n",
    "3. Test with your actual message IDs and customer data\n",
    "4. Implement proper error handling in your production code\n",
    "\n",
    "For data management operations (customer creation, event tracking), use the Data Pipelines API notebooks in the `pipelines_api/` directory."
   ]
  }
 ],
 "metadata": {
  "kernelspec": {
   "display_name": "customer_io_notebooks",
   "language": "python",
   "name": "python3"
  },
  "language_info": {
   "codemirror_mode": {
    "name": "ipython",
    "version": 3
   },
   "file_extension": ".py",
   "mimetype": "text/x-python",
   "name": "python",
   "nbconvert_exporter": "python",
   "pygments_lexer": "ipython3",
   "version": "3.13.5"
  }
 },
 "nbformat": 4,
 "nbformat_minor": 4
}
