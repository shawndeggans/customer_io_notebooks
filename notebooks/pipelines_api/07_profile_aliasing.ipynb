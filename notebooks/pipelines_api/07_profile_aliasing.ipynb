{
 "cells": [
  {
   "cell_type": "markdown",
   "metadata": {},
   "source": [
    "# Customer.IO Profile Aliasing\n",
    "\n",
    "This notebook demonstrates how to use profile aliasing in Customer.IO to link user identities.\n",
    "Aliasing is essential for connecting anonymous users to identified users when they sign up or log in."
   ]
  },
  {
   "cell_type": "markdown",
   "metadata": {},
   "source": [
    "## Setup and Imports\n",
    "\n",
    "Import the alias management functions and initialize the API client."
   ]
  },
  {
   "cell_type": "code",
   "metadata": {},
   "outputs": [],
   "source": "# Setup and imports\nimport os\nfrom datetime import datetime\nfrom utils.api_client import CustomerIOClient\nfrom utils.people_manager import identify_user\nfrom utils.event_manager import track_event\nfrom utils.alias_manager import create_alias, merge_profiles\nfrom utils.exceptions import CustomerIOError, ValidationError\n\n# Initialize client\nAPI_KEY = os.getenv('CUSTOMERIO_API_KEY', 'your-api-key-here')\nclient = CustomerIOClient(api_key=API_KEY, region='us')\n\nprint(\"Customer.IO profile aliasing functions loaded successfully\")"
  },
  {
   "cell_type": "markdown",
   "metadata": {},
   "source": [
    "## Understanding Profile Aliasing\n",
    "\n",
    "Profile aliasing in Customer.IO:\n",
    "- **Links** different user identifiers to the same person\n",
    "- **Merges** anonymous activity with identified user profiles\n",
    "- **Consolidates** user data from multiple sources or sessions\n",
    "- **Maintains** complete user journey history\n",
    "\n",
    "Common scenarios:\n",
    "- Anonymous user signs up or logs in\n",
    "- User logs in with different email/username\n",
    "- Merging data from multiple systems\n",
    "- Consolidating cross-device activity"
   ]
  },
  {
   "cell_type": "markdown",
   "metadata": {},
   "source": [
    "## Basic Aliasing Operations\n",
    "\n",
    "Create aliases to link user identities."
   ]
  },
  {
   "cell_type": "code",
   "metadata": {},
   "outputs": [],
   "source": "# Example: Anonymous user signs up\nanonymous_id = \"anon_abc123\"\nuser_id = \"user_signed_up_001\"\n\n# First, identify the user to ensure they exist\ntry:\n    identify_user(\n        client=client,\n        user_id=user_id,\n        traits={\"email\": f\"{user_id}@example.com\", \"name\": \"Signed Up User\"}\n    )\n    print(f\"User {user_id} identified successfully\")\nexcept CustomerIOError as e:\n    print(f\"Error identifying user: {e}\")\n\ntry:\n    result = create_alias(\n        client=client,\n        user_id=user_id,\n        previous_id=anonymous_id\n    )\n    print(f\"Successfully linked anonymous user {anonymous_id} to {user_id}\")\nexcept CustomerIOError as e:\n    print(f\"Error creating alias: {e}\")"
  },
  {
   "cell_type": "code",
   "metadata": {},
   "outputs": [],
   "source": "# Example: User logs in with different identifier\nemail_id = \"user@example.com\"\ndatabase_id = \"db_user_12345\"\n\n# First, identify the user to ensure they exist\ntry:\n    identify_user(\n        client=client,\n        user_id=database_id,\n        traits={\"email\": email_id, \"name\": \"Database User\"}\n    )\n    print(f\"User {database_id} identified successfully\")\nexcept CustomerIOError as e:\n    print(f\"Error identifying user: {e}\")\n\ntry:\n    result = create_alias(\n        client=client,\n        user_id=database_id,\n        previous_id=email_id,\n        timestamp=datetime.now()\n    )\n    print(f\"Linked email {email_id} to database ID {database_id}\")\nexcept CustomerIOError as e:\n    print(f\"Error: {e}\")"
  },
  {
   "cell_type": "markdown",
   "metadata": {},
   "source": [
    "## Real-World Example: User Registration Flow\n",
    "\n",
    "Complete workflow for handling user registration and identity consolidation."
   ]
  },
  {
   "cell_type": "code",
   "metadata": {},
   "outputs": [],
   "source": "class UserRegistrationFlow:\n    \"\"\"Handle user registration with proper aliasing.\"\"\"\n    \n    def __init__(self, client):\n        self.client = client\n    \n    def handle_signup(self, anonymous_id, user_email, user_traits):\n        \"\"\"Process user signup and create proper aliases.\"\"\"\n        \n        # Step 1: Create alias linking anonymous to email\n        try:\n            create_alias(\n                self.client,\n                user_id=user_email,\n                previous_id=anonymous_id\n            )\n            print(f\"SUCCESS: Linked anonymous {anonymous_id[:8]}... to {user_email}\")\n        except CustomerIOError as e:\n            print(f\"ERROR: Alias creation failed: {e}\")\n            return False\n        \n        # Step 2: Update user profile with registration data\n        try:\n            identify_user(\n                client=self.client,\n                user_id=user_email,\n                traits={\n                    **user_traits,\n                    \"registration_date\": datetime.now().isoformat(),\n                    \"user_status\": \"registered\"\n                }\n            )\n            print(f\"SUCCESS: Updated profile for {user_email}\")\n        except CustomerIOError as e:\n            print(f\"ERROR: Profile update failed: {e}\")\n            return False\n        \n        # Step 3: Track registration event\n        try:\n            track_event(\n                client=self.client,\n                user_id=user_email,\n                event=\"User Registered\",\n                properties={\n                    \"registration_method\": \"email_signup\",\n                    \"had_anonymous_activity\": True,\n                    \"previous_anonymous_id\": anonymous_id\n                }\n            )\n            print(f\"SUCCESS: Tracked registration event for {user_email}\")\n            return True\n        except CustomerIOError as e:\n            print(f\"ERROR: Event tracking failed: {e}\")\n            return False"
  },
  {
   "cell_type": "code",
   "metadata": {},
   "outputs": [],
   "source": "# Example: Process user registration\nregistration_flow = UserRegistrationFlow(client)\n\n# Simulate anonymous user becoming registered\nanonymous_visitor = \"anon_visitor_xyz789\"\nnew_user_email = \"newuser@example.com\"\nuser_data = {\n    \"email\": new_user_email,\n    \"name\": \"Jane Smith\",\n    \"plan\": \"free\",\n    \"source\": \"organic_search\"\n}\n\nsuccess = registration_flow.handle_signup(\n    anonymous_visitor, \n    new_user_email, \n    user_data\n)\n\nif success:\n    print(\"\\nSUCCESS: User registration completed successfully!\")\nelse:\n    print(\"\\nERROR: User registration failed.\")"
  },
  {
   "cell_type": "markdown",
   "metadata": {},
   "source": [
    "## Profile Merging\n",
    "\n",
    "Merge profiles when users have multiple identities that need to be consolidated."
   ]
  },
  {
   "cell_type": "code",
   "metadata": {},
   "outputs": [],
   "source": "# Example: Merge user profiles\nprimary_user_id = \"user_primary_001\"\nsecondary_user_id = \"user_secondary_001\"\n\n# First, ensure both users exist\ntry:\n    identify_user(\n        client=client,\n        user_id=primary_user_id,\n        traits={\"email\": f\"{primary_user_id}@example.com\", \"name\": \"Primary User\"}\n    )\n    print(f\"Primary user {primary_user_id} identified successfully\")\nexcept CustomerIOError as e:\n    print(f\"Error identifying primary user: {e}\")\n\ntry:\n    identify_user(\n        client=client,\n        user_id=secondary_user_id,\n        traits={\"email\": f\"{secondary_user_id}@example.com\", \"name\": \"Secondary User\"}\n    )\n    print(f\"Secondary user {secondary_user_id} identified successfully\")\nexcept CustomerIOError as e:\n    print(f\"Error identifying secondary user: {e}\")\n\ntry:\n    result = merge_profiles(\n        client=client,\n        primary_user_id=primary_user_id,\n        secondary_user_id=secondary_user_id,\n        merge_reason=\"duplicate_detection\",\n        merge_source=\"data_cleanup\"\n    )\n    print(f\"Merged {secondary_user_id} into {primary_user_id}\")\nexcept CustomerIOError as e:\n    print(f\"Error merging profiles: {e}\")"
  },
  {
   "cell_type": "markdown",
   "metadata": {},
   "source": [
    "## Cross-Platform Identity Management\n",
    "\n",
    "Handle users across multiple platforms and devices."
   ]
  },
  {
   "cell_type": "code",
   "metadata": {},
   "outputs": [],
   "source": "def consolidate_cross_platform_user(client, identities):\n    \"\"\"Consolidate user across multiple platforms.\"\"\"\n    \n    # Use email as primary identifier\n    primary_id = identities[\"email\"]\n    \n    # Create aliases for all other identifiers\n    for platform, identifier in identities.items():\n        if platform != \"email\" and identifier:\n            try:\n                create_alias(\n                    client,\n                    user_id=primary_id,\n                    previous_id=identifier\n                )\n                print(f\"SUCCESS: Linked {platform} ID: {identifier}\")\n            except CustomerIOError as e:\n                print(f\"ERROR: Failed to link {platform}: {e}\")\n    \n    return primary_id\n\n# Example: User with multiple platform identities\nuser_identities = {\n    \"email\": \"multiplatform@example.com\",\n    \"mobile_app\": \"mobile_user_abc\",\n    \"web_anonymous\": \"web_anon_123\",\n    \"social_login\": \"google_oauth_xyz\",\n    \"legacy_system\": \"legacy_id_456\"\n}\n\nprimary_identity = consolidate_cross_platform_user(client, user_identities)\nprint(f\"\\nPrimary identity: {primary_identity}\")"
  },
  {
   "cell_type": "markdown",
   "metadata": {},
   "source": [
    "## Advanced Aliasing Scenarios\n",
    "\n",
    "Handle complex identity management situations."
   ]
  },
  {
   "cell_type": "code",
   "metadata": {},
   "outputs": [],
   "source": "# Example: Email change handling\ndef handle_email_change(client, user_id, old_email, new_email):\n    \"\"\"Handle user email address changes.\"\"\"\n    \n    # First ensure user exists\n    try:\n        identify_user(\n            client=client,\n            user_id=user_id,\n            traits={\"email\": old_email, \"name\": \"User Before Email Change\"}\n        )\n        print(f\"User {user_id} identified with old email\")\n    except CustomerIOError as e:\n        print(f\"Error identifying user: {e}\")\n        return False\n    \n    try:\n        # Create alias from new email to current user ID\n        create_alias(\n            client,\n            user_id=user_id,\n            previous_id=new_email\n        )\n        \n        # Update user profile with new email\n        identify_user(\n            client=client,\n            user_id=user_id,\n            traits={\n                \"email\": new_email,\n                \"previous_email\": old_email,\n                \"email_changed_at\": datetime.now().isoformat()\n            }\n        )\n        \n        # Track email change event\n        track_event(\n            client=client,\n            user_id=user_id,\n            event=\"Email Changed\",\n            properties={\n                \"old_email\": old_email,\n                \"new_email\": new_email\n            }\n        )\n        \n        print(f\"SUCCESS: Email updated from {old_email} to {new_email}\")\n        return True\n        \n    except CustomerIOError as e:\n        print(f\"ERROR: Email change failed: {e}\")\n        return False\n\n# Example usage\nhandle_email_change(\n    client,\n    \"user_email_change_001\",\n    \"oldname@example.com\",\n    \"newname@example.com\"\n)"
  },
  {
   "cell_type": "code",
   "metadata": {},
   "outputs": [],
   "source": "# Example: Account migration between systems\ndef migrate_user_account(client, old_system_id, new_system_id, migration_data):\n    \"\"\"Migrate user from old system to new system.\"\"\"\n    \n    try:\n        # Create alias linking old to new system\n        create_alias(\n            client,\n            user_id=new_system_id,\n            previous_id=old_system_id,\n            context={\n                \"migration\": {\n                    \"source_system\": migration_data[\"source\"],\n                    \"target_system\": migration_data[\"target\"],\n                    \"migration_date\": datetime.now().isoformat()\n                }\n            }\n        )\n        \n        # Update profile with migration info\n        identify_user(\n            client=client,\n            user_id=new_system_id,\n            traits={\n                **migration_data[\"user_traits\"],\n                \"migrated_from\": old_system_id,\n                \"migration_completed\": True\n            }\n        )\n        \n        # Track migration event\n        track_event(\n            client=client,\n            user_id=new_system_id,\n            event=\"Account Migrated\",\n            properties={\n                \"from_system\": migration_data[\"source\"],\n                \"to_system\": migration_data[\"target\"],\n                \"data_preserved\": True\n            }\n        )\n        \n        print(f\"SUCCESS: Migrated {old_system_id} to {new_system_id}\")\n        return True\n        \n    except CustomerIOError as e:\n        print(f\"ERROR: Migration failed: {e}\")\n        return False\n\n# Example migration\nmigration_info = {\n    \"source\": \"legacy_crm\",\n    \"target\": \"new_platform\",\n    \"user_traits\": {\n        \"email\": \"migrated@example.com\",\n        \"name\": \"Migrated User\",\n        \"account_type\": \"premium\"\n    }\n}\n\nmigrate_user_account(\n    client,\n    \"legacy_user_789\",\n    \"new_platform_user_789\",\n    migration_info\n)"
  },
  {
   "cell_type": "markdown",
   "metadata": {},
   "source": [
    "## Error Handling and Validation\n",
    "\n",
    "Handle aliasing errors and validation issues."
   ]
  },
  {
   "cell_type": "code",
   "execution_count": null,
   "metadata": {},
   "outputs": [],
   "source": [
    "# Example: Common aliasing errors\n",
    "invalid_alias_operations = [\n",
    "    # Empty user ID\n",
    "    lambda: create_alias(client, \"\", \"previous_123\"),\n",
    "    # Same user ID and previous ID\n",
    "    lambda: create_alias(client, \"user_123\", \"user_123\"),\n",
    "    # Empty previous ID\n",
    "    lambda: create_alias(client, \"user_123\", \"\"),\n",
    "    # Invalid context type\n",
    "    lambda: create_alias(client, \"user_123\", \"prev_123\", context=\"not a dict\")\n",
    "]\n",
    "\n",
    "for i, operation in enumerate(invalid_alias_operations):\n",
    "    try:\n",
    "        operation()\n",
    "    except ValidationError as e:\n",
    "        print(f\"Validation error {i+1}: {e}\")\n",
    "    except CustomerIOError as e:\n",
    "        print(f\"API error {i+1}: {e}\")"
   ]
  },
  {
   "cell_type": "markdown",
   "metadata": {},
   "source": [
    "## Best Practices\n",
    "\n",
    "### Identity Strategy\n",
    "- **Use email as primary identifier** when possible\n",
    "- **Create aliases immediately** when users sign up or log in\n",
    "- **Track identity changes** with events for audit trails\n",
    "- **Handle anonymous-to-identified transitions** smoothly\n",
    "\n",
    "### Data Integrity\n",
    "- **Validate identifiers** before creating aliases\n",
    "- **Avoid circular aliases** (A->B->A)\n",
    "- **Document identity mapping** strategy for your team\n",
    "- **Test identity flows** thoroughly\n",
    "\n",
    "### Performance\n",
    "- **Batch alias operations** when possible\n",
    "- **Cache identity mappings** to reduce API calls\n",
    "- **Use consistent identifier formats** across systems\n",
    "- **Monitor alias success rates** for troubleshooting\n",
    "\n",
    "### Privacy and Compliance\n",
    "- **Handle PII carefully** in alias operations\n",
    "- **Support identity deletion** for GDPR compliance\n",
    "- **Log identity changes** for audit requirements\n",
    "- **Secure identity data** in transit and storage"
   ]
  },
  {
   "cell_type": "markdown",
   "metadata": {},
   "source": [
    "## Next Steps\n",
    "\n",
    "Now that you understand profile aliasing, explore:\n",
    "\n",
    "- **01_people_management.ipynb** - Manage user profiles and identification\n",
    "- **02_event_tracking.ipynb** - Track events for aliased users\n",
    "- **05_batch_operations.ipynb** - Bulk alias operations for data migrations"
   ]
  }
 ],
 "metadata": {
  "kernelspec": {
   "display_name": "Python 3",
   "language": "python",
   "name": "python3"
  },
  "language_info": {
   "codemirror_mode": {
    "name": "ipython",
    "version": 3
   },
   "file_extension": ".py",
   "mimetype": "text/x-python",
   "name": "python",
   "nbconvert_exporter": "python",
   "pygments_lexer": "ipython3",
   "version": "3.8.0"
  }
 },
 "nbformat": 4,
 "nbformat_minor": 4
}