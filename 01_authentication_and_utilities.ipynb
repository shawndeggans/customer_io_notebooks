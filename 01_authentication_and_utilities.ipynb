{
 "cells": [
  {
   "cell_type": "markdown",
   "metadata": {},
   "source": "# Customer.IO Data Pipelines API - Authentication and Utilities\n\n## Purpose\n\nThis notebook demonstrates how to authenticate with Customer.IO's Data Pipelines API and use the utility modules for API operations. It covers authentication management, connection testing, request validation, and core utility functions.\n\n## Prerequisites\n\n- Complete setup from `00_setup_and_configuration.ipynb`\n- Customer.IO API key configured in Databricks secrets\n- Utility modules (`utils/`) available in the Python path\n\n## Key Topics Covered\n\n1. **Authentication Management** - Secure API client initialization and configuration\n2. **Connection Testing** - Health checks and connection validation\n3. **Rate Limiting** - Understanding and managing API rate limits\n4. **Request Validation** - Using Pydantic models for type-safe requests\n5. **Data Transformation** - Converting between Spark DataFrames and API formats\n6. **Error Handling** - Retry patterns and graceful error management\n7. **Batch Operations** - Optimizing requests for bulk data operations",
   "outputs": []
  },
  {
   "cell_type": "markdown",
   "metadata": {},
   "source": [
    "## Setup and Imports"
   ]
  },
  {
   "cell_type": "code",
   "metadata": {},
   "outputs": [],
   "source": "# Essential imports for authentication and utilities\nimport sys\nimport os\nimport json\nimport time\nfrom datetime import datetime, timezone, timedelta\nfrom typing import Dict, List, Optional, Any\nimport warnings\n\n# Suppress warnings for cleaner output\nwarnings.filterwarnings('ignore')\n\n# Databricks and Spark imports\nfrom pyspark.sql import SparkSession\nfrom pyspark.sql import functions as F\nfrom delta.tables import DeltaTable\n\n# Import validation and logging\nimport structlog\nfrom pydantic import ValidationError as PydanticValidationError\n\n# Add utils directory to Python path\nsys.path.append(os.path.join(os.getcwd(), 'utils'))\n\n# Import Customer.IO utilities\nfrom api_client import CustomerIOClient\nfrom authentication_manager import AuthenticationManager, AuthenticationConfig, ConnectionStatus\nfrom validators import IdentifyRequest, TrackRequest, GroupRequest, validate_request_size, create_context\nfrom transformers import CustomerTransformer, EventTransformer, BatchTransformer, ContextTransformer\nfrom error_handlers import CustomerIOError, RateLimitError, ValidationError, NetworkError, retry_on_error, ErrorContext\n\n# Initialize logger\nlogger = structlog.get_logger(\"customerio_demo\")\n\nprint(\"SUCCESS: Authentication and utilities imports loaded\")"
  },
  {
   "cell_type": "code",
   "execution_count": null,
   "metadata": {},
   "outputs": [],
   "source": [
    "# Import Customer.IO API utilities\n",
    "from utils.api_client import CustomerIOClient\n",
    "from utils.validators import (\n",
    "    IdentifyRequest, \n",
    "    TrackRequest, \n",
    "    GroupRequest,\n",
    "    validate_request_size,\n",
    "    create_context\n",
    ")\n",
    "\n",
    "print(\"SUCCESS: Customer.IO API utilities imported\")"
   ]
  },
  {
   "cell_type": "code",
   "execution_count": null,
   "metadata": {},
   "outputs": [],
   "source": [
    "# Import error handling utilities\n",
    "from utils.error_handlers import (\n",
    "    CustomerIOError,\n",
    "    RateLimitError,\n",
    "    ValidationError,\n",
    "    NetworkError,\n",
    "    retry_on_error,\n",
    "    ErrorContext\n",
    ")\n",
    "\n",
    "print(\"SUCCESS: Error handling utilities imported\")"
   ]
  },
  {
   "cell_type": "code",
   "execution_count": null,
   "metadata": {},
   "outputs": [],
   "source": [
    "# Import validation and logging\n",
    "import structlog\n",
    "from pydantic import ValidationError as PydanticValidationError\n",
    "\n",
    "# Initialize logger\n",
    "logger = structlog.get_logger(\"customerio_demo\")\n",
    "\n",
    "print(\"SUCCESS: Validation and logging initialized\")"
   ]
  },
  {
   "cell_type": "code",
   "execution_count": null,
   "metadata": {},
   "outputs": [],
   "source": [
    "# Configuration from setup notebook (secure approach)\n",
    "# SECURITY: Get configuration from previous notebook, not from widgets in this notebook\n",
    "\n",
    "try:\n",
    "    # Try to get configuration from previous notebook's widgets\n",
    "    CUSTOMERIO_REGION = dbutils.widgets.get(\"customerio_region\") or \"us\"\n",
    "    DATABASE_NAME = dbutils.widgets.get(\"database_name\") or \"customerio_demo\"\n",
    "    CATALOG_NAME = dbutils.widgets.get(\"catalog_name\") or \"main\"\n",
    "    ENVIRONMENT = dbutils.widgets.get(\"environment\") or \"test\"\n",
    "    \n",
    "    print(f\"Configuration loaded from setup notebook:\")\n",
    "    print(f\"  Region: {CUSTOMERIO_REGION}\")\n",
    "    print(f\"  Database: {CATALOG_NAME}.{DATABASE_NAME}\")\n",
    "    print(f\"  Environment: {ENVIRONMENT}\")\n",
    "    \n",
    "except Exception as e:\n",
    "    print(f\"WARNING: Could not load configuration from setup notebook: {str(e)}\")\n",
    "    print(\"INFO: Using fallback configuration\")\n",
    "    CUSTOMERIO_REGION = \"us\"\n",
    "    DATABASE_NAME = \"customerio_demo\"\n",
    "    CATALOG_NAME = \"main\"\n",
    "    ENVIRONMENT = \"test\"\n",
    "\n",
    "# Use current database\n",
    "spark.sql(f\"USE {CATALOG_NAME}.{DATABASE_NAME}\")\n",
    "print(\"SUCCESS: Configuration loaded and database selected\")"
   ]
  },
  {
   "cell_type": "code",
   "execution_count": null,
   "metadata": {},
   "outputs": [],
   "source": [
    "# Load configuration from setup notebook (secure approach)\n",
    "# SECURITY: Get configuration from previous notebook, not from widgets in this notebook\n",
    "\n",
    "try:\n",
    "    # Try to get configuration from previous notebook's widgets\n",
    "    CUSTOMERIO_REGION = dbutils.widgets.get(\"customerio_region\") or \"us\"\n",
    "    DATABASE_NAME = dbutils.widgets.get(\"database_name\") or \"customerio_demo\"\n",
    "    CATALOG_NAME = dbutils.widgets.get(\"catalog_name\") or \"main\"\n",
    "    ENVIRONMENT = dbutils.widgets.get(\"environment\") or \"test\"\n",
    "    \n",
    "    print(f\"Configuration loaded from setup notebook:\")\n",
    "    print(f\"  Region: {CUSTOMERIO_REGION}\")\n",
    "    print(f\"  Database: {CATALOG_NAME}.{DATABASE_NAME}\")\n",
    "    print(f\"  Environment: {ENVIRONMENT}\")\n",
    "    \n",
    "except Exception as e:\n",
    "    print(f\"WARNING: Could not load configuration from setup notebook: {str(e)}\")\n",
    "    print(\"INFO: Using fallback configuration\")\n",
    "    CUSTOMERIO_REGION = \"us\"\n",
    "    DATABASE_NAME = \"customerio_demo\"\n",
    "    CATALOG_NAME = \"main\"\n",
    "    ENVIRONMENT = \"test\""
   ]
  },
  {
   "cell_type": "code",
   "execution_count": null,
   "metadata": {},
   "outputs": [],
   "source": [
    "# Configure Spark to use the specified database\n",
    "spark.sql(f\"USE {CATALOG_NAME}.{DATABASE_NAME}\")\n",
    "print(\"SUCCESS: Configuration loaded and database selected\")"
   ]
  },
  {
   "cell_type": "markdown",
   "metadata": {},
   "source": "## Configuration and Authentication Setup",
   "outputs": []
  },
  {
   "cell_type": "code",
   "metadata": {},
   "outputs": [],
   "source": "# Load configuration from setup notebook\ntry:\n    CUSTOMERIO_REGION = dbutils.widgets.get(\"customerio_region\") or \"us\"\n    DATABASE_NAME = dbutils.widgets.get(\"database_name\") or \"customerio_demo\"\n    CATALOG_NAME = dbutils.widgets.get(\"catalog_name\") or \"main\"\n    ENVIRONMENT = dbutils.widgets.get(\"environment\") or \"test\"\n    \n    print(f\"Configuration loaded from setup notebook:\")\n    print(f\"  Region: {CUSTOMERIO_REGION}\")\n    print(f\"  Database: {CATALOG_NAME}.{DATABASE_NAME}\")\n    print(f\"  Environment: {ENVIRONMENT}\")\n    \nexcept Exception as e:\n    print(f\"WARNING: Could not load configuration from setup notebook: {str(e)}\")\n    print(\"INFO: Using fallback configuration\")\n    CUSTOMERIO_REGION = \"us\"\n    DATABASE_NAME = \"customerio_demo\"\n    CATALOG_NAME = \"main\"\n    ENVIRONMENT = \"test\"\n\n# Use current database\nspark.sql(f\"USE {CATALOG_NAME}.{DATABASE_NAME}\")\nprint(\"SUCCESS: Database selected\")"
  },
  {
   "cell_type": "code",
   "metadata": {},
   "outputs": [],
   "source": "## Initialize Authentication Manager"
  },
  {
   "cell_type": "code",
   "metadata": {},
   "outputs": [],
   "source": "# Get API key from secure storage\ntry:\n    if ENVIRONMENT == \"test\":\n        CUSTOMERIO_API_KEY = \"test_key_demo_12345\"\n        print(\"INFO: Using test API key\")\n    else:\n        CUSTOMERIO_API_KEY = dbutils.secrets.get(\"customerio\", \"api_key\")\n        print(\"SUCCESS: Customer.IO API key retrieved from secure storage\")\nexcept Exception as e:\n    print(f\"WARNING: Could not retrieve API key: {str(e)}\")\n    print(\"INFO: Using test mode\")\n    CUSTOMERIO_API_KEY = \"test_key_demo_12345\"\n    ENVIRONMENT = \"test\""
  },
  {
   "cell_type": "code",
   "source": "# Create authentication configuration\nauth_config = AuthenticationConfig(\n    api_key=CUSTOMERIO_API_KEY,\n    region=CUSTOMERIO_REGION,\n    environment=ENVIRONMENT,\n    timeout=30,\n    max_retries=3,\n    retry_backoff_factor=2.0,\n    enable_logging=True,\n    enable_metrics=True\n)\n\nprint(\"SUCCESS: Authentication configuration created\")\nprint(f\"  Method: {auth_config.method.value}\")\nprint(f\"  Region: {auth_config.region}\")\nprint(f\"  Environment: {auth_config.environment}\")\nprint(f\"  Timeout: {auth_config.timeout}s\")\nprint(f\"  Max retries: {auth_config.max_retries}\")",
   "metadata": {},
   "outputs": []
  },
  {
   "cell_type": "code",
   "source": "# Initialize authentication manager\nauth_manager = AuthenticationManager(auth_config, spark)\n\n# Establish connection\ntry:\n    client = auth_manager.connect()\n    print(\"SUCCESS: Connected to Customer.IO API\")\n    \n    # Display connection details\n    metrics = auth_manager.get_metrics()\n    print(f\"  Connection status: {metrics['connection_status']}\")\n    print(f\"  Rate limit: {metrics['rate_limit_status']['max_requests']} requests per {metrics['rate_limit_status']['window_seconds']}s\")\n    \nexcept CustomerIOError as e:\n    print(f\"ERROR: Failed to connect: {str(e)}\")\n    if ENVIRONMENT != \"test\":\n        raise",
   "metadata": {},
   "outputs": []
  },
  {
   "cell_type": "markdown",
   "metadata": {},
   "source": [
    "## Data Transformation Examples"
   ]
  },
  {
   "cell_type": "code",
   "metadata": {},
   "outputs": [],
   "source": "# Perform comprehensive health check\nprint(\"Testing API connection with health check...\")\n\nhealth_result = auth_manager.health_check()\n\nprint(f\"Health Check Results:\")\nprint(f\"  Status: {health_result.status.value}\")\nprint(f\"  Is Healthy: {health_result.is_healthy}\")\nprint(f\"  API Reachable: {health_result.api_reachable}\")\nprint(f\"  Auth Valid: {health_result.auth_valid}\")\nprint(f\"  Rate Limit OK: {health_result.rate_limit_ok}\")\n\nif health_result.response_time_ms:\n    print(f\"  Response Time: {health_result.response_time_ms:.2f}ms\")\n\nif health_result.error_message:\n    print(f\"  Error: {health_result.error_message}\")\n\nif ENVIRONMENT == \"test\":\n    print(\"INFO: Running in test mode - some checks may be simulated\")"
  },
  {
   "cell_type": "markdown",
   "source": "## Request Validation Examples\n\nThe Customer.IO API requires properly formatted requests. We use Pydantic models to ensure type safety and validation.",
   "metadata": {}
  },
  {
   "cell_type": "code",
   "execution_count": null,
   "metadata": {},
   "outputs": [],
   "source": [
    "# Test 4: Invalid track request (empty event name)\n",
    "print(\"4. Invalid Track Request (empty event name):\")\n",
    "\n",
    "try:\n",
    "    invalid_track = TrackRequest(\n",
    "        userId=\"user_12345\",\n",
    "        event=\"\",  # Empty event name\n",
    "        properties={\"test\": \"value\"}\n",
    "    )\n",
    "    print(f\"SUCCESS: Request created: {invalid_track.dict()}\")\n",
    "except PydanticValidationError as e:\n",
    "    print(f\"ERROR: Expected validation error: {e}\")"
   ]
  },
  {
   "cell_type": "code",
   "metadata": {},
   "outputs": [],
   "source": "# Example 1: Valid identify request\nprint(\"=== Testing Request Validation ===\")\nprint(\"\\n1. Valid Identify Request:\")\n\ntry:\n    valid_identify = IdentifyRequest(\n        userId=\"user_12345\",\n        traits={\n            \"email\": \"user@example.com\",\n            \"first_name\": \"John\",\n            \"last_name\": \"Doe\",\n            \"plan\": \"premium\",\n            \"signup_date\": \"2024-01-15\"\n        },\n        timestamp=datetime.now(timezone.utc)\n    )\n    print(f\"SUCCESS: Valid request created\")\n    print(f\"  User ID: {valid_identify.userId}\")\n    print(f\"  Email: {valid_identify.traits['email']}\")\nexcept PydanticValidationError as e:\n    print(f\"ERROR: Validation error: {e}\")"
  },
  {
   "cell_type": "code",
   "source": "# Example 2: Invalid identify request (missing user identification)\nprint(\"\\n2. Invalid Identify Request (missing user ID):\")\n\ntry:\n    invalid_identify = IdentifyRequest(\n        traits={\"email\": \"user@example.com\"}\n    )\n    print(f\"SUCCESS: Request created: {invalid_identify.dict()}\")\nexcept PydanticValidationError as e:\n    print(f\"ERROR: Expected validation error: {e}\")",
   "metadata": {},
   "outputs": []
  },
  {
   "cell_type": "code",
   "source": "# Example 4: Invalid track request (empty event name)\nprint(\"\\n4. Invalid Track Request (empty event name):\")\n\ntry:\n    invalid_track = TrackRequest(\n        userId=\"user_12345\",\n        event=\"\",  # Empty event name\n        properties={\"test\": \"value\"}\n    )\n    print(f\"SUCCESS: Request created: {invalid_track.dict()}\")\nexcept PydanticValidationError as e:\n    print(f\"ERROR: Expected validation error: {e}\")",
   "metadata": {},
   "outputs": []
  },
  {
   "cell_type": "code",
   "execution_count": null,
   "metadata": {},
   "outputs": [],
   "source": [
    "# Display sample identify requests\n",
    "for i, request in enumerate(identify_requests[:2]):  # Show first 2\n",
    "    print(f\"  Request {i+1}: {json.dumps(request, indent=2, default=str)}\")"
   ]
  },
  {
   "cell_type": "code",
   "execution_count": null,
   "metadata": {},
   "outputs": [],
   "source": [
    "# Transform events to track requests\n",
    "track_requests = EventTransformer.spark_to_track_requests(\n",
    "    df=sample_events,\n",
    "    user_id_col=\"user_id\",\n",
    "    event_name_col=\"event_name\",\n",
    "    properties_cols=[\"properties\"],  # Use the map column as properties\n",
    "    timestamp_col=\"timestamp\"\n",
    ")\n",
    "\n",
    "print(f\"Generated {len(track_requests)} track requests:\")"
   ]
  },
  {
   "cell_type": "code",
   "execution_count": null,
   "metadata": {},
   "outputs": [],
   "source": [
    "# Create ecommerce events using transformers\n",
    "print(\"=== Creating Specialized Events ===\")\n",
    "print(\"\\n1. Ecommerce Events:\")\n",
    "\n",
    "# Product viewed event\n",
    "product_viewed = EventTransformer.create_ecommerce_event(\n",
    "    event_name=\"Product Viewed\",\n",
    "    user_id=\"user_demo_001\",\n",
    "    product_id=\"prod_widget_123\",\n",
    "    price=29.99,\n",
    "    quantity=1,\n",
    "    currency=\"USD\",\n",
    "    # Additional properties\n",
    "    product_name=\"Amazing Widget\",\n",
    "    category=\"electronics\",\n",
    "    brand=\"WidgetCorp\",\n",
    "    sku=\"WDG-123-RED\"\n",
    ")\n",
    "\n",
    "print(\"Product Viewed Event:\")\n",
    "print(json.dumps(product_viewed, indent=2))\n",
    "\n",
    "# Order completed event\n",
    "order_completed = EventTransformer.create_ecommerce_event(\n",
    "    event_name=\"Order Completed\",\n",
    "    user_id=\"user_demo_001\",\n",
    "    order_id=\"order_789\",\n",
    "    price=89.97,  # Total order value\n",
    "    currency=\"USD\",\n",
    "    # Additional properties\n",
    "    products=[\n",
    "        {\"product_id\": \"prod_widget_123\", \"quantity\": 3, \"price\": 29.99}\n",
    "    ],\n",
    "    payment_method=\"credit_card\",\n",
    "    shipping_method=\"standard\"\n",
    ")\n",
    "\n",
    "print(\"\\nOrder Completed Event:\")\n",
    "print(json.dumps(order_completed, indent=2))"
   ]
  },
  {
   "cell_type": "code",
   "execution_count": null,
   "metadata": {},
   "outputs": [],
   "source": [
    "# Create mobile app events\n",
    "print(\"\\n2. Mobile App Events:\")\n",
    "\n",
    "# Application opened event\n",
    "app_opened = EventTransformer.create_mobile_app_event(\n",
    "    event_name=\"Application Opened\",\n",
    "    user_id=\"user_mobile_001\",\n",
    "    app_version=\"2.1.0\",\n",
    "    os_version=\"iOS 17.2\",\n",
    "    device_model=\"iPhone 15 Pro\",\n",
    "    # Additional properties\n",
    "    session_id=\"session_abc123\",\n",
    "    from_push_notification=False,\n",
    "    app_build=\"2100\"\n",
    ")\n",
    "\n",
    "print(\"Application Opened Event:\")\n",
    "print(json.dumps(app_opened, indent=2))\n",
    "\n",
    "# Screen viewed event\n",
    "screen_viewed = EventTransformer.create_mobile_app_event(\n",
    "    event_name=\"Screen Viewed\",\n",
    "    user_id=\"user_mobile_001\",\n",
    "    app_version=\"2.1.0\",\n",
    "    # Additional properties\n",
    "    screen_name=\"Product Details\",\n",
    "    screen_category=\"ecommerce\",\n",
    "    product_id=\"prod_widget_123\"\n",
    ")\n",
    "\n",
    "print(\"\\nScreen Viewed Event:\")\n",
    "print(json.dumps(screen_viewed, indent=2))"
   ]
  },
  {
   "cell_type": "markdown",
   "metadata": {},
   "source": [
    "## Context Creation Examples"
   ]
  },
  {
   "cell_type": "code",
   "execution_count": null,
   "metadata": {},
   "outputs": [],
   "source": [
    "# Create context objects for different platforms\n",
    "print(\"=== Context Creation Examples ===\")\n",
    "print(\"\\n1. Web Context:\")\n",
    "\n",
    "web_context = ContextTransformer.create_web_context(\n",
    "    ip=\"192.168.1.100\",\n",
    "    user_agent=\"Mozilla/5.0 (Macintosh; Intel Mac OS X 10_15_7) AppleWebKit/537.36\",\n",
    "    url=\"https://example.com/products/widget-123\",\n",
    "    referrer=\"https://google.com/search\",\n",
    "    locale=\"en-US\",\n",
    "    timezone=\"America/New_York\"\n",
    ")\n",
    "\n",
    "print(json.dumps(web_context, indent=2))\n",
    "\n",
    "print(\"\\n2. Mobile Context:\")\n",
    "\n",
    "mobile_context = ContextTransformer.create_mobile_context(\n",
    "    app_name=\"CustomerIO Demo App\",\n",
    "    app_version=\"2.1.0\",\n",
    "    os_name=\"iOS\",\n",
    "    os_version=\"17.2\",\n",
    "    device_model=\"iPhone 15 Pro\",\n",
    "    device_id=\"device_12345\",\n",
    "    locale=\"en-US\",\n",
    "    timezone=\"America/Los_Angeles\"\n",
    ")\n",
    "\n",
    "print(json.dumps(mobile_context, indent=2))"
   ]
  },
  {
   "cell_type": "markdown",
   "metadata": {},
   "source": [
    "## Batch Operations and Size Optimization"
   ]
  },
  {
   "cell_type": "code",
   "execution_count": null,
   "metadata": {},
   "outputs": [],
   "source": [
    "# Create batch requests and optimize sizes\n",
    "print(\"=== Batch Operations ===\")\n",
    "print(\"\\n1. Creating batch requests:\")\n",
    "\n",
    "# Create multiple requests\n",
    "sample_identify = [\n",
    "    {\n",
    "        \"userId\": f\"user_batch_{i}\",\n",
    "        \"traits\": {\n",
    "            \"email\": f\"user{i}@example.com\",\n",
    "            \"plan\": \"premium\" if i % 2 == 0 else \"basic\",\n",
    "            \"signup_date\": \"2024-01-15\"\n",
    "        }\n",
    "    }\n",
    "    for i in range(5)\n",
    "]\n",
    "\n",
    "sample_track = [\n",
    "    {\n",
    "        \"userId\": f\"user_batch_{i}\",\n",
    "        \"event\": \"Page Viewed\",\n",
    "        \"properties\": {\n",
    "            \"page_name\": \"Home\",\n",
    "            \"url\": f\"https://example.com/page-{i}\"\n",
    "        }\n",
    "    }\n",
    "    for i in range(3)\n",
    "]\n",
    "\n",
    "# Create batch request\n",
    "batch_requests = BatchTransformer.create_batch_request(\n",
    "    identify_requests=sample_identify,\n",
    "    track_requests=sample_track,\n",
    "    max_batch_size=10\n",
    ")\n",
    "\n",
    "print(f\"Created {len(batch_requests)} batch(es)\")\n",
    "for i, batch in enumerate(batch_requests):\n",
    "    batch_size = BatchTransformer.estimate_batch_size(batch[\"batch\"])\n",
    "    print(f\"  Batch {i+1}: {len(batch['batch'])} requests, ~{batch_size} bytes\")\n",
    "\n",
    "# Show first batch structure\n",
    "if batch_requests:\n",
    "    print(f\"\\nFirst batch preview (first 2 requests):\")\n",
    "    preview_batch = {\"batch\": batch_requests[0][\"batch\"][:2]}\n",
    "    print(json.dumps(preview_batch, indent=2, default=str))"
   ]
  },
  {
   "cell_type": "code",
   "execution_count": null,
   "metadata": {},
   "outputs": [],
   "source": [
    "# Demonstrate batch size optimization\n",
    "print(\"\\n2. Batch size optimization:\")\n",
    "\n",
    "# Create requests with varying sizes\n",
    "large_requests = []\n",
    "for i in range(20):\n",
    "    # Create request with large properties to test size limits\n",
    "    large_request = {\n",
    "        \"userId\": f\"user_large_{i}\",\n",
    "        \"event\": \"Data Import\",\n",
    "        \"properties\": {\n",
    "            \"large_data\": \"x\" * 1000,  # 1KB of data per request\n",
    "            \"import_id\": f\"import_{i}\",\n",
    "            \"batch_number\": i // 5\n",
    "        }\n",
    "    }\n",
    "    large_requests.append(large_request)\n",
    "\n",
    "# Optimize batch sizes to stay within limits\n",
    "optimized_batches = BatchTransformer.optimize_batch_sizes(\n",
    "    requests=large_requests,\n",
    "    max_size_bytes=10 * 1024  # 10KB limit for demo (normally 500KB)\n",
    ")\n",
    "\n",
    "print(f\"Optimized into {len(optimized_batches)} batches:\")\n",
    "for i, batch in enumerate(optimized_batches):\n",
    "    batch_size = BatchTransformer.estimate_batch_size(batch)\n",
    "    print(f\"  Optimized Batch {i+1}: {len(batch)} requests, {batch_size} bytes\")"
   ]
  },
  {
   "cell_type": "markdown",
   "metadata": {},
   "source": [
    "## Error Handling Demonstrations"
   ]
  },
  {
   "cell_type": "code",
   "execution_count": null,
   "metadata": {},
   "outputs": [],
   "source": [
    "# Demonstrate error handling patterns\n",
    "print(\"=== Error Handling Demonstrations ===\")\n",
    "print(\"\\n1. Error Context Manager:\")\n",
    "\n",
    "# Example of graceful error handling\n",
    "with ErrorContext(\n",
    "    operation_name=\"demo_api_call\",\n",
    "    logger=logger,\n",
    "    raise_on_error=False,\n",
    "    default_return={\"status\": \"failed\", \"message\": \"Operation failed gracefully\"}\n",
    ") as error_ctx:\n",
    "    # Simulate an operation that might fail\n",
    "    if ENVIRONMENT == \"test\":\n",
    "        # Simulate a controlled error for demonstration\n",
    "        raise CustomerIOError(\"Simulated API error for demonstration\")\n",
    "    else:\n",
    "        print(\"Real API call would happen here\")\n",
    "\n",
    "# Check if error occurred and get default result\n",
    "if error_ctx.error:\n",
    "    result = error_ctx.get_result()\n",
    "    print(f\"Error handled gracefully: {result}\")\n",
    "else:\n",
    "    print(\"Operation completed successfully\")"
   ]
  },
  {
   "cell_type": "code",
   "execution_count": null,
   "metadata": {},
   "outputs": [],
   "source": [
    "# Demonstrate retry decorator\n",
    "print(\"\\n2. Retry Decorator Example:\")\n",
    "\n",
    "@retry_on_error(max_retries=2, backoff_factor=1.5)\n",
    "def demo_api_call_with_retry(should_fail: bool = False):\n",
    "    \"\"\"Demo function that can be configured to fail for testing.\"\"\"\n",
    "    print(f\"  Attempting API call (fail={should_fail})...\")\n",
    "    \n",
    "    if should_fail:\n",
    "        # Simulate different types of failures\n",
    "        import random\n",
    "        error_type = random.choice([\"network\", \"server\", \"rate_limit\"])\n",
    "        \n",
    "        if error_type == \"network\":\n",
    "            raise NetworkError(\"Simulated network error\")\n",
    "        elif error_type == \"server\":\n",
    "            raise CustomerIOError(\"Simulated server error\", status_code=500)\n",
    "        else:\n",
    "            raise RateLimitError(\"Simulated rate limit error\", retry_after=1)\n",
    "    \n",
    "    return {\"status\": \"success\", \"message\": \"API call completed\"}\n",
    "\n",
    "# Test successful call\n",
    "try:\n",
    "    result = demo_api_call_with_retry(should_fail=False)\n",
    "    print(f\"SUCCESS: Success: {result}\")\n",
    "except Exception as e:\n",
    "    print(f\"ERROR: Failed: {str(e)}\")\n",
    "\n",
    "# Test failing call (will retry)\n",
    "try:\n",
    "    result = demo_api_call_with_retry(should_fail=True)\n",
    "    print(f\"SUCCESS: Success after retries: {result}\")\n",
    "except Exception as e:\n",
    "    print(f\"ERROR: Failed after retries: {str(e)}\")"
   ]
  },
  {
   "cell_type": "markdown",
   "metadata": {},
   "source": [
    "## Rate Limiting Demonstration"
   ]
  },
  {
   "cell_type": "code",
   "execution_count": null,
   "metadata": {},
   "outputs": [],
   "source": [
    "# Demonstrate rate limiting behavior\n",
    "print(\"=== Rate Limiting Demonstration ===\")\n",
    "\n",
    "# Check current rate limit status\n",
    "print(f\"Rate limit configuration:\")\n",
    "print(f\"  Max requests: {client.rate_limit.max_requests}\")\n",
    "print(f\"  Window: {client.rate_limit.window_seconds} seconds\")\n",
    "print(f\"  Current requests: {client.rate_limit.current_requests}\")\n",
    "print(f\"  Window start: {client.rate_limit.window_start}\")\n",
    "\n",
    "# Simulate rate limit checking\n",
    "print(f\"\\nRate limit status:\")\n",
    "print(f\"  Can make request: {client.rate_limit.can_make_request()}\")\n",
    "print(f\"  Time until reset: {client.rate_limit.time_until_reset():.2f} seconds\")\n",
    "\n",
    "# Simulate some requests to show rate limiting in action\n",
    "print(f\"\\nSimulating request tracking:\")\n",
    "for i in range(5):\n",
    "    if client.rate_limit.can_make_request():\n",
    "        client.rate_limit.record_request()\n",
    "        print(f\"  Request {i+1}: SUCCESS: Allowed (total: {client.rate_limit.current_requests})\")\n",
    "    else:\n",
    "        print(f\"  Request {i+1}: ERROR: Rate limited\")\n",
    "        break"
   ]
  },
  {
   "cell_type": "markdown",
   "metadata": {},
   "source": [
    "## Request Size Validation"
   ]
  },
  {
   "cell_type": "code",
   "execution_count": null,
   "metadata": {},
   "outputs": [],
   "source": [
    "# Demonstrate request size validation\n",
    "print(\"=== Request Size Validation ===\")\n",
    "\n",
    "# Test normal-sized request\n",
    "normal_request = {\n",
    "    \"userId\": \"user_123\",\n",
    "    \"event\": \"Page Viewed\",\n",
    "    \"properties\": {\n",
    "        \"page_name\": \"Home\",\n",
    "        \"url\": \"https://example.com\"\n",
    "    }\n",
    "}\n",
    "\n",
    "is_valid_size = validate_request_size(normal_request)\n",
    "print(f\"Normal request size valid: {is_valid_size}\")\n",
    "print(f\"  Request size: ~{len(json.dumps(normal_request).encode())} bytes\")\n",
    "\n",
    "# Test oversized request\n",
    "oversized_request = {\n",
    "    \"userId\": \"user_123\",\n",
    "    \"event\": \"Large Data Import\",\n",
    "    \"properties\": {\n",
    "        \"large_payload\": \"x\" * (33 * 1024),  # 33KB - exceeds 32KB limit\n",
    "        \"import_id\": \"large_import_001\"\n",
    "    }\n",
    "}\n",
    "\n",
    "is_oversized_valid = validate_request_size(oversized_request)\n",
    "print(f\"\\nOversized request size valid: {is_oversized_valid}\")\n",
    "print(f\"  Request size: ~{len(json.dumps(oversized_request).encode())} bytes\")\n",
    "print(f\"  Limit: {32 * 1024} bytes (32KB)\")"
   ]
  },
  {
   "cell_type": "markdown",
   "metadata": {},
   "source": [
    "## Clean Up and Summary"
   ]
  },
  {
   "cell_type": "code",
   "metadata": {},
   "outputs": [],
   "source": "# Clean up resources\nprint(\"=== Clean Up ===\")\n\n# Disconnect authentication manager\nauth_manager.disconnect()\nprint(\"SUCCESS: API connection closed\")\n\n# Display final metrics\nfinal_metrics = auth_manager.get_metrics()\nprint(f\"\\nSession Metrics:\")\nprint(f\"  Total requests: {final_metrics['total_requests']}\")\nprint(f\"  Success rate: {final_metrics['success_rate']:.1f}%\")\nprint(f\"  Average response time: {final_metrics['average_response_time']:.2f}ms\")\n\nprint(\"\\nCOMPLETED: Authentication and utilities demonstration complete!\")"
  }
 ],
 "metadata": {
  "kernelspec": {
   "display_name": "Python 3",
   "language": "python",
   "name": "python3"
  },
  "language_info": {
   "codemirror_mode": {
    "name": "ipython",
    "version": 3
   },
   "file_extension": ".py",
   "mimetype": "text/x-python",
   "name": "python",
   "nbconvert_exporter": "python",
   "pygments_lexer": "ipython3",
   "version": "3.8.0"
  }
 },
 "nbformat": 4,
 "nbformat_minor": 4
}