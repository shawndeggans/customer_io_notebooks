{
 "cells": [
  {
   "cell_type": "code",
   "id": "wdpfw4tjlo",
   "source": "print(\"Webhook Analytics Data Models\")\nprint(\"=\" * 50)\n\nprint(\"Data models available in: data_models/11_webhook_events.sql\")\n\n# Show the Delta Lake table structure\nwebhook_tables = {\n    \"webhook_raw_events\": \"Raw audit trail of all webhook events\",\n    \"webhook_email_events\": \"Email delivery and engagement events\", \n    \"webhook_customer_events\": \"Customer subscription and preference events\",\n    \"webhook_sms_events\": \"SMS delivery and engagement events\",\n    \"webhook_push_events\": \"Push notification events\",\n    \"webhook_in_app_events\": \"In-app message events\",\n    \"webhook_slack_events\": \"Slack message events\",\n    \"webhook_webhook_events\": \"Webhook delivery tracking events\"\n}\n\nprint(\"\\nDelta Lake Tables:\")\nfor table, description in webhook_tables.items():\n    print(f\"   {table}\")\n    print(f\"      {description}\")\n\nprint(\"\\nAnalytics Views Available:\")\nanalytics_views = [\n    \"daily_email_engagement - Daily email performance metrics\",\n    \"campaign_performance - Campaign-level analytics\", \n    \"customer_engagement_summary - Cross-channel customer engagement\",\n    \"webhook_error_summary - Error monitoring and alerts\",\n    \"journey_performance - Journey and flow analytics\"\n]\n\nfor view in analytics_views:\n    print(f\"   {view}\")\n\nprint(\"\\nExample Analytics Queries:\")\n\n# Email engagement rates\nprint(\"\\nEmail Engagement Rates:\")\nemail_query = '''\nSELECT \n    event_date,\n    SUM(CASE WHEN metric = 'delivered' THEN 1 ELSE 0 END) as emails_delivered,\n    SUM(CASE WHEN metric = 'opened' THEN 1 ELSE 0 END) as emails_opened,\n    SUM(CASE WHEN metric = 'clicked' THEN 1 ELSE 0 END) as emails_clicked,\n    ROUND(SUM(CASE WHEN metric = 'opened' THEN 1 ELSE 0 END) * 100.0 / \n          SUM(CASE WHEN metric = 'delivered' THEN 1 ELSE 0 END), 2) as open_rate,\n    ROUND(SUM(CASE WHEN metric = 'clicked' THEN 1 ELSE 0 END) * 100.0 / \n          SUM(CASE WHEN metric = 'delivered' THEN 1 ELSE 0 END), 2) as click_rate\nFROM webhook_email_events\nWHERE event_date >= CURRENT_DATE() - INTERVAL 7 DAYS\nGROUP BY event_date\nORDER BY event_date DESC\n'''\nprint(email_query)\n\n# Customer engagement summary\nprint(\"\\nCustomer Engagement Summary:\")\ncustomer_query = '''\nSELECT \n    customer_id,\n    COUNT(DISTINCT object_type) as channels_used,\n    SUM(CASE WHEN metric IN ('opened', 'clicked') THEN 1 ELSE 0 END) as engagement_events,\n    MAX(event_date) as last_interaction_date\nFROM (\n    SELECT customer_id, object_type, metric, event_date FROM webhook_email_events\n    UNION ALL\n    SELECT customer_id, object_type, metric, event_date FROM webhook_sms_events  \n    UNION ALL\n    SELECT customer_id, object_type, metric, event_date FROM webhook_push_events\n) all_events\nWHERE customer_id IS NOT NULL\nGROUP BY customer_id\nHAVING engagement_events > 0\nORDER BY engagement_events DESC\nLIMIT 10\n'''\nprint(customer_query)\n\nprint(\"\\nKey Analytics Use Cases:\")\nprint(\"SUCCESS: Real-time delivery monitoring\")\nprint(\"SUCCESS: Campaign performance optimization\") \nprint(\"SUCCESS: Customer engagement scoring\")\nprint(\"SUCCESS: Channel effectiveness analysis\")\nprint(\"SUCCESS: Journey and flow analytics\")\nprint(\"SUCCESS: Error monitoring and alerting\")\nprint(\"SUCCESS: Conversion attribution\")\nprint(\"SUCCESS: Customer lifecycle analysis\")\n\nprint(\"\\nFor complete data model documentation:\")\nprint(\"   See: data_models/README.md\")\nprint(\"   Schema: data_models/11_webhook_events.sql\")",
   "metadata": {},
   "outputs": []
  },
  {
   "cell_type": "markdown",
   "id": "74eoqoqv20p",
   "source": "## Analytics and Reporting\n\nThe webhook events are stored in Delta Lake tables for comprehensive analytics.",
   "metadata": {}
  },
  {
   "cell_type": "code",
   "id": "2rt3fo8l3rp",
   "source": "print(\"Databricks App Deployment Guide\")\nprint(\"=\" * 50)\n\nprint(\"The webhook processor is available as a complete Databricks App in:\")\nprint(\"databricks_app/\")\nprint(\"   ├── app.py                    # Main Flask application\")\nprint(\"   ├── config.py                 # Configuration and secrets\")\nprint(\"   ├── requirements.txt          # Dependencies\") \nprint(\"   ├── databricks.yml            # Deployment configuration\")\nprint(\"   ├── test_webhook.py           # Testing utilities\")\nprint(\"   └── README.md                 # Complete documentation\")\n\nprint(\"\\nDeployment Steps:\")\nprint(\"1. Set up webhook signing secret in Databricks:\")\nprint(\"   databricks secrets create-scope --scope customerio\")\nprint(\"   databricks secrets put --scope customerio --key webhook_signing_key\")\n\nprint(\"\\n2. Deploy the app:\")\nprint(\"   cd databricks_app\")\nprint(\"   databricks apps deploy --config databricks.yml\")\n\nprint(\"\\n3. Get the app URL:\")\nprint(\"   databricks apps list\")\nprint(\"   # Use the URL for webhook configuration\")\n\nprint(\"\\n4. Test the deployment:\")\nprint(\"   export CUSTOMERIO_WEBHOOK_SECRET='your_signing_key'\")\nprint(\"   export WEBHOOK_BASE_URL='https://your-app-url'\")\nprint(\"   python test_webhook.py\")\n\nprint(\"\\nApp Features:\")\nprint(\"SUCCESS: HMAC-SHA256 signature verification\")\nprint(\"SUCCESS: All 7 Customer.IO event types supported\")\nprint(\"SUCCESS: Delta Lake storage integration\")\nprint(\"SUCCESS: Health check endpoints\")\nprint(\"SUCCESS: Comprehensive error handling\")\nprint(\"SUCCESS: Production-ready logging\")\n\nprint(\"\\nMonitoring:\")\nprint(\"Health endpoint: /health\")\nprint(\"Event processing logs in Databricks\")\nprint(\"Raw events stored in: /mnt/customerio/webhook_landing/\")\nprint(\"Processed events in: /mnt/customerio/processed_events/\")\n\nprint(\"\\nSecurity:\")\nprint(\"SUCCESS: Signature verification (prevents unauthorized access)\")\nprint(\"SUCCESS: Timestamp validation (prevents replay attacks)\")\nprint(\"SUCCESS: Secrets stored in Databricks secret scope\")\nprint(\"SUCCESS: No hardcoded credentials in code\")\n\nprint(\"\\nFor complete deployment instructions, see:\")\nprint(\"   databricks_app/README.md\")",
   "metadata": {},
   "outputs": []
  },
  {
   "cell_type": "markdown",
   "id": "8d2rrtydpw4",
   "source": "## Databricks App Deployment\n\nDeploy the webhook receiver as a Databricks App for production use.",
   "metadata": {}
  },
  {
   "cell_type": "code",
   "id": "tghi476aaho",
   "source": "# Webhook Configuration Example\n# Note: This requires actual Customer.IO App API credentials\n\n# Example configuration (replace with your actual values)\nCUSTOMERIO_APP_API_TOKEN = \"your_app_api_token_here\"\nDATABRICKS_WEBHOOK_URL = \"https://your-databricks-app.cloud.databricks.com/webhook/customerio\"\n\nprint(\"Webhook Configuration Manager\")\nprint(\"=\" * 50)\n\n# Initialize webhook manager\nwebhook_manager = CustomerIOWebhookManager(\n    api_token=CUSTOMERIO_APP_API_TOKEN,\n    region=\"us\"  # or \"eu\"\n)\n\nprint(f\"SUCCESS: Webhook manager initialized\")\nprint(f\"Region: US\")\nprint(f\"Target URL: {DATABRICKS_WEBHOOK_URL}\")\n\n# Example webhook events to subscribe to\nwebhook_events = [\n    # Email events (most common)\n    \"email_sent\", \"email_delivered\", \"email_opened\", \"email_clicked\",\n    \"email_bounced\", \"email_unsubscribed\",\n    \n    # Customer events\n    \"customer_subscribed\", \"customer_unsubscribed\",\n    \n    # SMS events\n    \"sms_sent\", \"sms_delivered\", \"sms_clicked\",\n    \n    # Push events\n    \"push_sent\", \"push_delivered\", \"push_opened\"\n]\n\nprint(f\"\\nWebhook Events Configuration:\")\nprint(f\"   Total events: {len(webhook_events)}\")\nprint(f\"   Email events: {len([e for e in webhook_events if e.startswith('email')])}\")\nprint(f\"   Customer events: {len([e for e in webhook_events if e.startswith('customer')])}\")\nprint(f\"   SMS events: {len([e for e in webhook_events if e.startswith('sms')])}\")\nprint(f\"   Push events: {len([e for e in webhook_events if e.startswith('push')])}\")\n\n# Simulated webhook creation (requires real API token)\nprint(f\"\\nWebhook Setup Instructions:\")\nprint(f\"1. Set your Customer.IO App API token\")\nprint(f\"2. Deploy the Databricks App\")\nprint(f\"3. Get the webhook URL from Databricks\")\nprint(f\"4. Run: setup_databricks_webhook(api_token, webhook_url)\")\nprint(f\"5. Save the webhook signing secret for authentication\")\n\n# Example of what the setup would return\nwebhook_config_example = {\n    \"id\": \"webhook_12345\",\n    \"name\": \"Databricks Analytics Webhook\", \n    \"endpoint\": DATABRICKS_WEBHOOK_URL,\n    \"events\": webhook_events,\n    \"disabled\": False,\n    \"full_resolution\": True,\n    \"with_content\": True\n}\n\nprint(f\"\\nExample Webhook Configuration:\")\nfor key, value in webhook_config_example.items():\n    if key == \"events\":\n        print(f\"   {key}: {len(value)} events subscribed\")\n    else:\n        print(f\"   {key}: {value}\")\n\nprint(f\"\\nIMPORTANT:\")\nprint(f\"   Save the webhook signing secret for signature verification!\")\nprint(f\"   Store it securely in Databricks secrets or environment variables.\")",
   "metadata": {},
   "outputs": []
  },
  {
   "cell_type": "markdown",
   "id": "8ql2h7dyzwh",
   "source": "## Webhook Configuration Management\n\nSet up and manage Customer.IO webhooks using the configuration manager.",
   "metadata": {}
  },
  {
   "cell_type": "markdown",
   "id": "intro",
   "metadata": {},
   "source": "# Customer.IO Webhook Processing\n\nThis notebook demonstrates how to process Customer.IO webhooks using the complete webhook implementation, including:\n\n- **Webhook Authentication**: HMAC-SHA256 signature verification per Customer.IO specification\n- **Event Processing**: Handling all 7 Customer.IO event types (email, SMS, push, in-app, customer, Slack, webhook)\n- **Databricks App Integration**: Setting up webhook endpoints for real-time event processing\n- **Analytics Integration**: Processing events into Delta Lake for analytics and reporting\n\n## Architecture Overview\n\n```\nCustomer.IO → Webhook → Databricks App → Event Handlers → Delta Lake → Analytics\n```\n\n## Setup\n\nFirst, let's import the complete webhook processing utilities.",
   "outputs": []
  },
  {
   "cell_type": "code",
   "id": "setup",
   "metadata": {},
   "outputs": [],
   "source": "# Import webhook processing modules\nfrom src.webhooks import (\n    verify_signature,\n    parse_event, \n    get_event_type,\n    validate_webhook_headers,\n    route_webhook_event,\n    get_event_handler,\n    CustomerIOWebhookManager,\n    setup_databricks_webhook\n)\nimport json\nimport time\nimport hmac\nimport hashlib\n\nprint(\"SUCCESS: Customer.IO Webhook processing utilities imported successfully\")\nprint(\"SUCCESS: Event handlers for all 7 object types available\")\nprint(\"SUCCESS: Webhook configuration manager ready\")\nprint(\"SUCCESS: Ready for webhook processing!\")"
  },
  {
   "cell_type": "markdown",
   "id": "signature-verification",
   "metadata": {},
   "source": "## Webhook Signature Verification\n\nCustomer.IO uses HMAC-SHA256 with the format `v0:timestamp:body` for webhook authentication.",
   "outputs": []
  },
  {
   "cell_type": "code",
   "id": "verify-signature",
   "metadata": {},
   "outputs": [],
   "source": "# Example webhook payload from Customer.IO\nwebhook_payload = json.dumps({\n    \"event_id\": \"01E4C4CT6YDC7Y5M7FE1GWWPQJ\",\n    \"object_type\": \"email\",\n    \"metric\": \"opened\",\n    \"timestamp\": int(time.time()),\n    \"data\": {\n        \"customer_id\": \"12345\",\n        \"delivery_id\": \"RPILAgUBcRhIBqSfeiIwdIYJKxTY\",\n        \"campaign_id\": 123,\n        \"action_id\": 456,\n        \"subject\": \"Test Email Subject\",\n        \"recipient\": \"test@example.com\",\n        \"identifiers\": {\n            \"id\": \"12345\",\n            \"email\": \"test@example.com\",\n            \"cio_id\": \"cio_03000001\"\n        }\n    }\n})\n\n# Webhook configuration\nwebhook_secret = \"your_webhook_secret_here\"\ntimestamp = str(int(time.time()))\n\n# Generate Customer.IO signature (v0:timestamp:body format)\nsignature_string = f\"v0:{timestamp}:{webhook_payload}\"\nsignature_hash = hmac.new(\n    webhook_secret.encode('utf-8'),\n    signature_string.encode('utf-8'),\n    hashlib.sha256\n).hexdigest()\nwebhook_signature = f\"v0={signature_hash}\"\n\nprint(f\"Webhook payload: {len(webhook_payload)} characters\")\nprint(f\"Generated signature: {webhook_signature}\")\nprint(f\"Timestamp: {timestamp}\")\n\n# Verify the signature using our utility\nis_valid = verify_signature(\n    payload=webhook_payload,\n    signature=webhook_signature,\n    timestamp=timestamp,\n    secret=webhook_secret\n)\n\nprint(f\"\\n{'SUCCESS' if is_valid else 'ERROR'}: Webhook signature valid: {is_valid}\")\n\n# Test with invalid signature\ninvalid_signature = \"v0=invalid_signature_hash\"\nis_invalid = verify_signature(webhook_payload, invalid_signature, timestamp, webhook_secret)\nprint(f\"{'SUCCESS' if not is_invalid else 'ERROR'}: Invalid signature correctly rejected: {not is_invalid}\")"
  },
  {
   "cell_type": "markdown",
   "id": "event-parsing",
   "metadata": {},
   "source": "## Event Parsing and Routing\n\nCustomer.IO uses `object_type` as the discriminator and `metric` for specific event types.",
   "outputs": []
  },
  {
   "cell_type": "code",
   "id": "parse-events",
   "metadata": {},
   "outputs": [],
   "source": "# Parse the webhook event\nevent_data = parse_event(webhook_payload)\nprint(f\"Parsed event data:\")\nprint(f\"   Event ID: {event_data.get('event_id')}\")\nprint(f\"   Object Type: {event_data.get('object_type')}\")\nprint(f\"   Metric: {event_data.get('metric')}\")\nprint(f\"   Customer ID: {event_data.get('data', {}).get('customer_id')}\")\n\n# Get the event type using Customer.IO format\nobject_type, metric = get_event_type(event_data)\nprint(f\"\\nEvent analysis:\")\nprint(f\"   Object Type: {object_type}\")\nprint(f\"   Metric: {metric}\")\n\n# Route the event\nrouted_event = route_webhook_event(event_data)\nprint(f\"\\nEvent routing:\")\nprint(f\"   Routed to: {routed_event['object_type']} handler\")\nprint(f\"   Metric: {routed_event['metric']}\")\nprint(f\"   Handler available: {'SUCCESS' if routed_event['object_type'] in ['email', 'customer', 'sms', 'push', 'in_app', 'slack', 'webhook'] else 'ERROR'}\")\n\n# Demonstrate header validation\nheaders = {\n    \"X-CIO-Timestamp\": timestamp,\n    \"X-CIO-Signature\": webhook_signature,\n    \"Content-Type\": \"application/json\"\n}\n\ntry:\n    validated_timestamp, validated_signature = validate_webhook_headers(headers)\n    print(f\"\\nHeader validation:\")\n    print(f\"   Timestamp: {validated_timestamp}\")\n    print(f\"   Signature: {validated_signature[:20]}...\")\n    print(f\"   SUCCESS: Headers valid\")\nexcept ValueError as e:\n    print(f\"   ERROR: Header validation failed: {e}\")"
  },
  {
   "cell_type": "markdown",
   "id": "event-processing",
   "metadata": {},
   "source": "## Event Processing with Handlers\n\nDemonstrate processing different types of Customer.IO webhook events using our event handlers.",
   "outputs": []
  },
  {
   "cell_type": "code",
   "id": "complete-workflow",
   "metadata": {},
   "outputs": [],
   "source": "# Example 1: Email Opened Event\nprint(\"Processing Email Opened Event\")\nprint(\"=\" * 50)\n\nemail_handler = get_event_handler(\"email\")\nprocessed_email = email_handler.handle_event(event_data)\n\nprint(f\"Event ID: {processed_email['event_id']}\")\nprint(f\"Customer: {processed_email['customer_id']}\")\nprint(f\"Email: {processed_email['email_address']}\")\nprint(f\"Subject: {processed_email['subject']}\")\nprint(f\"Campaign: {processed_email['campaign_id']}\")\nprint(f\"Processed At: {processed_email['processed_at']}\")\n\n# Example 2: Customer Subscription Event\nprint(\"\\nProcessing Customer Subscription Event\")\nprint(\"=\" * 50)\n\ncustomer_event = {\n    \"event_id\": \"01E4C4CT6YDC7Y5M7FE1GWWPQJ\",\n    \"object_type\": \"customer\",\n    \"metric\": \"subscribed\",\n    \"timestamp\": int(time.time()),\n    \"data\": {\n        \"customer_id\": \"12345\",\n        \"email_address\": \"test@example.com\",\n        \"identifiers\": {\n            \"id\": \"12345\",\n            \"email\": \"test@example.com\",\n            \"cio_id\": \"cio_03000001\"\n        }\n    }\n}\n\ncustomer_handler = get_event_handler(\"customer\")\nprocessed_customer = customer_handler.handle_event(customer_event)\n\nprint(f\"Event ID: {processed_customer['event_id']}\")\nprint(f\"Customer: {processed_customer['customer_id']}\")\nprint(f\"Email: {processed_customer['email_address']}\")\nprint(f\"Metric: {processed_customer['metric']}\")\n\n# Example 3: SMS Clicked Event\nprint(\"\\nProcessing SMS Clicked Event\")\nprint(\"=\" * 50)\n\nsms_event = {\n    \"event_id\": \"01E4C4CT6YDC7Y5M7FE1GWWPQJ\",\n    \"object_type\": \"sms\",\n    \"metric\": \"clicked\",\n    \"timestamp\": int(time.time()),\n    \"data\": {\n        \"customer_id\": \"12345\",\n        \"delivery_id\": \"sms_123\",\n        \"recipient\": \"+1234567890\",\n        \"href\": \"https://example.com/promo\",\n        \"link_id\": \"link_456\",\n        \"identifiers\": {\"id\": \"12345\"}\n    }\n}\n\nsms_handler = get_event_handler(\"sms\")\nprocessed_sms = sms_handler.handle_event(sms_event)\n\nprint(f\"Event ID: {processed_sms['event_id']}\")\nprint(f\"Customer: {processed_sms['customer_id']}\")\nprint(f\"Phone: {processed_sms['recipient']}\")\nprint(f\"Link: {processed_sms['href']}\")\nprint(f\"Link ID: {processed_sms['link_id']}\")\n\n# Example 4: Push Notification Event\nprint(\"\\nProcessing Push Notification Event\")\nprint(\"=\" * 50)\n\npush_event = {\n    \"event_id\": \"01E4C4CT6YDC7Y5M7FE1GWWPQJ\",\n    \"object_type\": \"push\",\n    \"metric\": \"opened\",\n    \"timestamp\": int(time.time()),\n    \"data\": {\n        \"customer_id\": \"12345\",\n        \"delivery_id\": \"push_123\",\n        \"recipients\": [\n            {\"device_id\": \"device_abc\", \"device_platform\": \"ios\"},\n            {\"device_id\": \"device_xyz\", \"device_platform\": \"android\"}\n        ],\n        \"identifiers\": {\"id\": \"12345\"}\n    }\n}\n\npush_handler = get_event_handler(\"push\")\nprocessed_push = push_handler.handle_event(push_event)\n\nprint(f\"Event ID: {processed_push['event_id']}\")\nprint(f\"Customer: {processed_push['customer_id']}\")\nprint(f\"Primary Device: {processed_push['primary_device_id']}\")\nprint(f\"Total Recipients: {len(json.loads(processed_push['recipients']))}\")\n\nprint(\"\\nSUCCESS: All webhook events processed successfully!\")\nprint(\"Events are ready for storage in Delta Lake tables\")"
  }
 ],
 "metadata": {
  "kernelspec": {
   "display_name": "Python 3",
   "language": "python",
   "name": "python3"
  },
  "language_info": {
   "codemirror_mode": {
    "name": "ipython",
    "version": 3
   },
   "file_extension": ".py",
   "mimetype": "text/x-python",
   "name": "python",
   "nbconvert_exporter": "python",
   "pygments_lexer": "ipython3",
   "version": "3.8.0"
  }
 },
 "nbformat": 4,
 "nbformat_minor": 5
}