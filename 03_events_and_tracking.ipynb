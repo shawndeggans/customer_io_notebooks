{
 "cells": [
  {
   "cell_type": "markdown",
   "metadata": {},
   "source": [
    "# Customer.IO Data Pipelines API - Events and Tracking\n",
    "\n",
    "## Purpose\n",
    "\n",
    "This notebook demonstrates comprehensive event tracking with Customer.IO's Data Pipelines API.\n",
    "It covers standard events, custom events, semantic events, and advanced tracking patterns with proper validation and error handling.\n",
    "\n",
    "## Prerequisites\n",
    "\n",
    "- Complete setup from `00_setup_and_configuration.ipynb`\n",
    "- Complete authentication setup from `01_authentication_and_utilities.ipynb`\n",
    "- Customer.IO API key configured in Databricks secrets\n",
    "- Sample data available in Delta tables\n",
    "\n",
    "## Key Concepts\n",
    "\n",
    "- **Event Tracking**: Recording user actions and behaviors\n",
    "- **Semantic Events**: Standardized events with consistent schemas\n",
    "- **Custom Properties**: Flexible event attributes for business logic\n",
    "- **Event Validation**: Type-safe event creation and validation\n",
    "- **Batch Event Processing**: Efficient bulk event submission\n",
    "- **Event Context**: Rich contextual data for better targeting\n",
    "\n",
    "## Event Categories Covered\n",
    "\n",
    "1. **Standard Events**: Basic tracking events (page views, clicks, etc.)\n",
    "2. **Ecommerce Events**: Product views, cart actions, purchases\n",
    "3. **Engagement Events**: Content interaction, feature usage\n",
    "4. **Lifecycle Events**: Onboarding, activation, churn signals\n",
    "5. **Custom Events**: Business-specific tracking events"
   ]
  },
  {
   "cell_type": "markdown",
   "metadata": {},
   "source": [
    "## Setup and Imports"
   ]
  },
  {
   "cell_type": "code",
   "execution_count": null,
   "metadata": {},
   "outputs": [],
   "source": [
    "# Standard library imports\n",
    "import sys\n",
    "import os\n",
    "from datetime import datetime, timezone, timedelta\n",
    "from typing import Dict, List, Optional, Any, Union\n",
    "import json\n",
    "import uuid\n",
    "from decimal import Decimal\n",
    "\n",
    "print(\"SUCCESS: Standard libraries imported\")"
   ]
  },
  {
   "cell_type": "code",
   "execution_count": null,
   "metadata": {},
   "outputs": [],
   "source": [
    "# Add utils directory to Python path\n",
    "sys.path.append('/Workspace/Repos/customer_io_notebooks/utils')\n",
    "print(\"SUCCESS: Utils directory added to Python path\")"
   ]
  },
  {
   "cell_type": "code",
   "execution_count": null,
   "metadata": {},
   "outputs": [],
   "source": [
    "# Import Customer.IO API utilities\n",
    "from utils.api_client import CustomerIOClient\n",
    "from utils.validators import (\n",
    "    TrackRequest,\n",
    "    EcommerceEventProperties,\n",
    "    OrderCompletedProperties,\n",
    "    ProductViewedProperties,\n",
    "    EmailEventProperties,\n",
    "    MobileAppEventProperties,\n",
    "    VideoEventProperties,\n",
    "    validate_request_size,\n",
    "    create_context\n",
    ")\n",
    "\n",
    "print(\"SUCCESS: Customer.IO API utilities imported\")"
   ]
  },
  {
   "cell_type": "code",
   "execution_count": null,
   "metadata": {},
   "outputs": [],
   "source": [
    "# Import transformation utilities\n",
    "from utils.transformers import (\n",
    "    EventTransformer,\n",
    "    BatchTransformer,\n",
    "    ContextTransformer\n",
    ")\n",
    "\n",
    "print(\"SUCCESS: Transformation utilities imported\")"
   ]
  },
  {
   "cell_type": "code",
   "execution_count": null,
   "metadata": {},
   "outputs": [],
   "source": [
    "# Import error handling utilities\n",
    "from utils.error_handlers import (\n",
    "    CustomerIOError,\n",
    "    RateLimitError,\n",
    "    ValidationError,\n",
    "    NetworkError,\n",
    "    retry_on_error,\n",
    "    ErrorContext\n",
    ")\n",
    "\n",
    "print(\"SUCCESS: Error handling utilities imported\")"
   ]
  },
  {
   "cell_type": "code",
   "execution_count": null,
   "metadata": {},
   "outputs": [],
   "source": [
    "# Import Databricks and Spark utilities\n",
    "from pyspark.sql import SparkSession\n",
    "from pyspark.sql import functions as F\n",
    "from pyspark.sql.types import *\n",
    "from delta.tables import DeltaTable\n",
    "\n",
    "print(\"SUCCESS: Databricks and Spark utilities imported\")"
   ]
  },
  {
   "cell_type": "code",
   "execution_count": null,
   "metadata": {},
   "outputs": [],
   "source": [
    "# Import validation and logging\n",
    "import structlog\n",
    "from pydantic import ValidationError as PydanticValidationError, BaseModel, Field\n",
    "\n",
    "# Import EventManager for advanced event handling\n",
    "from utils.event_manager import EventManager, EventTemplate, EventCategory, EventPriority, EventSession\n",
    "\n",
    "# Initialize logger\n",
    "logger = structlog.get_logger(\"events_tracking\")\n",
    "\n",
    "print(\"SUCCESS: Validation, logging, and EventManager imported\")"
   ]
  },
  {
   "cell_type": "markdown",
   "metadata": {},
   "source": [
    "## Configuration and Client Setup"
   ]
  },
  {
   "cell_type": "code",
   "execution_count": null,
   "metadata": {},
   "outputs": [],
   "source": [
    "# Load configuration from setup notebook (secure approach)\n",
    "try:\n",
    "    CUSTOMERIO_REGION = dbutils.widgets.get(\"customerio_region\") or \"us\"\n",
    "    DATABASE_NAME = dbutils.widgets.get(\"database_name\") or \"customerio_demo\"\n",
    "    CATALOG_NAME = dbutils.widgets.get(\"catalog_name\") or \"main\"\n",
    "    ENVIRONMENT = dbutils.widgets.get(\"environment\") or \"test\"\n",
    "    \n",
    "    print(f\"Configuration loaded from setup notebook:\")\n",
    "    print(f\"  Region: {CUSTOMERIO_REGION}\")\n",
    "    print(f\"  Database: {CATALOG_NAME}.{DATABASE_NAME}\")\n",
    "    print(f\"  Environment: {ENVIRONMENT}\")\n",
    "    \n",
    "except Exception as e:\n",
    "    print(f\"WARNING: Could not load configuration from setup notebook: {str(e)}\")\n",
    "    print(\"INFO: Using fallback configuration\")\n",
    "    CUSTOMERIO_REGION = \"us\"\n",
    "    DATABASE_NAME = \"customerio_demo\"\n",
    "    CATALOG_NAME = \"main\"\n",
    "    ENVIRONMENT = \"test\""
   ]
  },
  {
   "cell_type": "code",
   "execution_count": null,
   "metadata": {},
   "outputs": [],
   "source": [
    "# Get Customer.IO API key from secure storage\n",
    "CUSTOMERIO_API_KEY = dbutils.secrets.get(\"customerio\", \"api_key\")\n",
    "print(\"SUCCESS: Customer.IO API key retrieved from secure storage\")"
   ]
  },
  {
   "cell_type": "code",
   "execution_count": null,
   "metadata": {},
   "outputs": [],
   "source": [
    "# Configure Spark to use the specified database\n",
    "spark.sql(f\"USE {CATALOG_NAME}.{DATABASE_NAME}\")\n",
    "print(\"SUCCESS: Database configured\")"
   ]
  },
  {
   "cell_type": "code",
   "execution_count": null,
   "metadata": {},
   "outputs": [],
   "source": [
    "# Initialize the Customer.IO client\n",
    "try:\n",
    "    client = CustomerIOClient(\n",
    "        api_key=CUSTOMERIO_API_KEY,\n",
    "        region=CUSTOMERIO_REGION,\n",
    "        timeout=30,\n",
    "        max_retries=3,\n",
    "        retry_backoff_factor=2.0,\n",
    "        enable_logging=True,\n",
    "        spark_session=spark\n",
    "    )\n",
    "    print(\"SUCCESS: Customer.IO client initialized for event tracking\")\n",
    "    \n",
    "except Exception as e:\n",
    "    print(f\"ERROR: Failed to initialize Customer.IO client: {str(e)}\")\n",
    "    raise"
   ]
  },
  {
   "cell_type": "code",
   "execution_count": null,
   "metadata": {},
   "outputs": [],
   "source": [
    "# Initialize the EventManager with the Customer.IO client\n",
    "event_manager = EventManager(client)\n",
    "print(\"SUCCESS: EventManager initialized with default templates\")\n",
    "print(f\"Available templates: {list(event_manager.templates.keys())}\")"
   ]
  },
  {
   "cell_type": "markdown",
   "metadata": {},
   "source": [
    "## Test-Driven Development: Event Validation Functions"
   ]
  },
  {
   "cell_type": "code",
   "metadata": {},
   "outputs": [],
   "source": "# Test basic event validation using EventManager\n\ndef test_basic_event_validation():\n    \"\"\"Test that basic events have required fields and pass validation.\"\"\"\n    \n    valid_event = {\n        \"userId\": \"user_123\",\n        \"event\": \"Page Viewed\",\n        \"properties\": {\n            \"page_name\": \"Home\",\n            \"url\": \"https://example.com\"\n        },\n        \"timestamp\": datetime.now(timezone.utc)\n    }\n    \n    try:\n        track_request = TrackRequest(**valid_event)\n        assert track_request.userId == \"user_123\"\n        assert track_request.event == \"Page Viewed\"\n        print(\"SUCCESS: Basic event validation test passed\")\n        return True\n    except Exception as e:\n        print(f\"ERROR: Basic event validation test failed: {str(e)}\")\n        return False\n\n# Run the test\ntest_basic_event_validation()"
  },
  {
   "cell_type": "code",
   "source": "# Run comprehensive test suite\n\ndef run_all_tests():\n    \"\"\"Run all tests and return overall result.\"\"\"\n    print(\"STARTING: Running comprehensive event validation test suite...\\n\")\n    \n    tests = [\n        test_basic_event_validation,\n        test_ecommerce_event_validation,\n        test_event_size_validation\n    ]\n    \n    passed = 0\n    for test in tests:\n        if test():\n            passed += 1\n        print()\n    \n    print(f\"DATA: Test Results: {passed}/{len(tests)} tests passed\")\n    \n    if passed == len(tests):\n        print(\"COMPLETED: All tests passed! Ready to proceed.\")\n        return True\n    else:\n        print(\"ERROR: Some tests failed. Please fix issues before proceeding.\")\n        return False\n\n# Run tests\nif not run_all_tests():\n    print(\"WARNING: Some tests failed, but continuing with demonstrations...\")",
   "metadata": {},
   "outputs": []
  },
  {
   "cell_type": "code",
   "source": "# Test event size validation\n\ndef test_event_size_validation():\n    \"\"\"Test that events respect size limits and validation.\"\"\"\n    \n    normal_event = {\n        \"userId\": \"user_123\",\n        \"event\": \"Feature Used\",\n        \"properties\": {\n            \"feature_name\": \"search\",\n            \"search_query\": \"test product\"\n        }\n    }\n    \n    if not validate_request_size(normal_event):\n        print(\"ERROR: Normal event failed size validation\")\n        return False\n    \n    print(\"SUCCESS: Normal event passed size validation\")\n    \n    oversized_event = {\n        \"userId\": \"user_123\",\n        \"event\": \"Large Data Event\",\n        \"properties\": {\n            \"large_payload\": \"x\" * (33 * 1024)  # 33KB - exceeds limit\n        }\n    }\n    \n    if validate_request_size(oversized_event):\n        print(\"ERROR: Oversized event incorrectly passed validation\")\n        return False\n    \n    print(\"SUCCESS: Oversized event correctly failed size validation\")\n    return True\n\n# Run the test\ntest_event_size_validation()",
   "metadata": {},
   "outputs": []
  },
  {
   "cell_type": "code",
   "source": "# Test ecommerce event validation\n\ndef test_ecommerce_event_validation():\n    \"\"\"Test that ecommerce events validate correctly with proper schemas.\"\"\"\n    \n    try:\n        product_viewed = ProductViewedProperties(\n            product_id=\"prod_123\",\n            name=\"Test Product\",\n            price=29.99,\n            currency=\"USD\"\n        )\n        assert product_viewed.product_id == \"prod_123\"\n        assert product_viewed.price == 29.99\n        print(\"SUCCESS: Product viewed validation test passed\")\n    except Exception as e:\n        print(f\"ERROR: Product viewed validation test failed: {str(e)}\")\n        return False\n    \n    try:\n        order_completed = OrderCompletedProperties(\n            order_id=\"order_456\",\n            total=89.97,\n            currency=\"USD\",\n            products=[\n                {\"product_id\": \"prod_123\", \"quantity\": 3, \"price\": 29.99}\n            ]\n        )\n        assert order_completed.order_id == \"order_456\"\n        assert order_completed.total == 89.97\n        print(\"SUCCESS: Order completed validation test passed\")\n        return True\n    except Exception as e:\n        print(f\"ERROR: Order completed validation test failed: {str(e)}\")\n        return False\n\n# Run the test\ntest_ecommerce_event_validation()",
   "metadata": {},
   "outputs": []
  },
  {
   "cell_type": "code",
   "metadata": {},
   "outputs": [],
   "source": "# Create basic tracking event using EventManager\n\nsample_event = event_manager.create_event(\n    user_id=\"demo_user_001\",\n    template_name=\"page_viewed\",\n    properties={\n        \"page_name\": \"Product Catalog\",\n        \"url\": \"https://example.com/products\",\n        \"referrer\": \"https://google.com\",\n        \"page_load_time\": 1.25\n    }\n)\n\nprint(\"Basic event created using EventManager:\")\nprint(json.dumps(sample_event, indent=2, default=str))"
  },
  {
   "cell_type": "code",
   "metadata": {},
   "outputs": [],
   "source": "# Send single event using EventManager\n\nif ENVIRONMENT == \"test\":\n    result = event_manager.send_event_with_fallback(sample_event)\n    print(f\"Event send result: {result}\")\nelse:\n    try:\n        result = event_manager.send_event(sample_event)\n        print(f\"Event sent successfully: {result}\")\n    except Exception as e:\n        print(f\"Error sending event: {str(e)}\")"
  },
  {
   "cell_type": "markdown",
   "metadata": {},
   "source": [
    "## Standard Event Tracking Implementation"
   ]
  },
  {
   "cell_type": "code",
   "metadata": {},
   "outputs": [],
   "source": "# Create product viewed event using EventManager\n\nproduct_event = event_manager.create_ecommerce_event(\n    user_id=\"demo_user_001\",\n    event_type=\"product_viewed\",\n    product_data={\n        \"product_id\": \"prod_widget_premium_001\",\n        \"name\": \"Premium Widget Pro\",\n        \"price\": 149.99,\n        \"currency\": \"USD\"\n    },\n    category=\"Electronics\",\n    brand=\"WidgetCorp\",\n    sku=\"WCP-PRO-001\"\n)\n\nprint(\"Product Viewed event created using EventManager:\")\nprint(json.dumps(product_event, indent=2, default=str))"
  },
  {
   "cell_type": "code",
   "metadata": {},
   "outputs": [],
   "source": "# Create order completed event using EventManager\n\norder_event = event_manager.create_ecommerce_event(\n    user_id=\"demo_user_001\",\n    event_type=\"order_completed\",\n    product_data={\n        \"order_id\": \"order_premium_001\",\n        \"total\": 179.98,\n        \"currency\": \"USD\",\n        \"products\": [\n            {\n                \"product_id\": \"prod_widget_premium_001\",\n                \"name\": \"Premium Widget Pro\",\n                \"quantity\": 1,\n                \"price\": 149.99\n            },\n            {\n                \"product_id\": \"shipping_standard\",\n                \"name\": \"Standard Shipping\",\n                \"quantity\": 1,\n                \"price\": 9.99\n            }\n        ]\n    },\n    payment_method=\"credit_card\",\n    shipping_method=\"standard\",\n    discount_amount=0.00\n)\n\nprint(\"Order Completed event created using EventManager:\")\nprint(json.dumps(order_event, indent=2, default=str))"
  },
  {
   "cell_type": "markdown",
   "metadata": {},
   "source": [
    "## Ecommerce Event Tracking"
   ]
  },
  {
   "cell_type": "code",
   "execution_count": null,
   "metadata": {},
   "outputs": [],
   "source": [
    "# Implementation: Create product viewed event using EventManager\n",
    "product_event = event_manager.create_ecommerce_event(\n",
    "    user_id=\"demo_user_001\",\n",
    "    event_type=\"product_viewed\",\n",
    "    product_data={\n",
    "        \"product_id\": \"prod_widget_premium_001\",\n",
    "        \"name\": \"Premium Widget Pro\",\n",
    "        \"price\": 149.99,\n",
    "        \"currency\": \"USD\"\n",
    "    },\n",
    "    category=\"Electronics\",\n",
    "    brand=\"WidgetCorp\",\n",
    "    sku=\"WCP-PRO-001\"\n",
    ")\n",
    "\n",
    "print(\"Product Viewed event created using EventManager:\")\n",
    "print(json.dumps(product_event, indent=2, default=str))"
   ]
  },
  {
   "cell_type": "code",
   "execution_count": null,
   "metadata": {},
   "outputs": [],
   "source": [
    "# Implementation: Create order completed event using EventManager\n",
    "order_event = event_manager.create_ecommerce_event(\n",
    "    user_id=\"demo_user_001\",\n",
    "    event_type=\"order_completed\",\n",
    "    product_data={\n",
    "        \"order_id\": \"order_premium_001\",\n",
    "        \"total\": 179.98,\n",
    "        \"currency\": \"USD\",\n",
    "        \"products\": [\n",
    "            {\n",
    "                \"product_id\": \"prod_widget_premium_001\",\n",
    "                \"name\": \"Premium Widget Pro\",\n",
    "                \"quantity\": 1,\n",
    "                \"price\": 149.99\n",
    "            },\n",
    "            {\n",
    "                \"product_id\": \"shipping_standard\",\n",
    "                \"name\": \"Standard Shipping\",\n",
    "                \"quantity\": 1,\n",
    "                \"price\": 9.99\n",
    "            }\n",
    "        ]\n",
    "    },\n",
    "    payment_method=\"credit_card\",\n",
    "    shipping_method=\"standard\",\n",
    "    discount_amount=0.00\n",
    ")\n",
    "\n",
    "print(\"Order Completed event created using EventManager:\")\n",
    "print(json.dumps(order_event, indent=2, default=str))"
   ]
  },
  {
   "cell_type": "markdown",
   "metadata": {},
   "source": [
    "## Custom Event Types and Templates"
   ]
  },
  {
   "cell_type": "code",
   "metadata": {},
   "outputs": [],
   "source": "# Create user session events for batch processing\n\ndef create_user_session_events(user_id: str, session_id: str) -> List[Dict[str, Any]]:\n    \"\"\"Create a realistic user session with multiple events.\"\"\"\n    \n    events = []\n    base_time = datetime.now(timezone.utc)\n    \n    # Session start\n    events.append({\n        \"userId\": user_id,\n        \"event\": \"Session Started\",\n        \"properties\": {\n            \"session_id\": session_id,\n            \"platform\": \"web\",\n            \"referrer\": \"https://google.com\"\n        },\n        \"timestamp\": base_time\n    })\n    \n    # Page views\n    pages = [\n        {\"name\": \"Home\", \"url\": \"/\", \"time_offset\": 5},\n        {\"name\": \"Products\", \"url\": \"/products\", \"time_offset\": 30},\n        {\"name\": \"Product Detail\", \"url\": \"/products/widget-pro\", \"time_offset\": 45},\n        {\"name\": \"Cart\", \"url\": \"/cart\", \"time_offset\": 120}\n    ]\n    \n    for page in pages:\n        events.append({\n            \"userId\": user_id,\n            \"event\": \"Page Viewed\",\n            \"properties\": {\n                \"session_id\": session_id,\n                \"page_name\": page[\"name\"],\n                \"url\": page[\"url\"],\n                \"page_load_time\": 1.2 + (page[\"time_offset\"] * 0.01)\n            },\n            \"timestamp\": base_time + timedelta(seconds=page[\"time_offset\"])\n        })\n    \n    return events\n\n# Create sample session events\nsession_events = create_user_session_events(\n    user_id=\"demo_user_002\",\n    session_id=f\"session_{uuid.uuid4().hex[:8]}\"\n)\n\nprint(f\"Created {len(session_events)} events for user session:\")"
  },
  {
   "cell_type": "code",
   "source": "# Batch event submission using EventManager\n\nbatch_results = event_manager.send_events_batch(\n    events=session_events,\n    optimize_batches=True\n)\n\nprint(\"\\nBatch submission results using EventManager:\")\nfor result in batch_results:\n    status_msg = f\"Batch {result['batch_id']}: {result['status']} ({result['count']} events)\"\n    if result['status'] == 'failed':\n        status_msg += f\" - Error: {result.get('error', 'Unknown error')}\"\n    print(f\"  {status_msg}\")",
   "metadata": {},
   "outputs": []
  },
  {
   "cell_type": "code",
   "execution_count": null,
   "metadata": {},
   "outputs": [],
   "source": [
    "# Implementation: User engagement tracking using EventManager\n",
    "engagement_event = event_manager.create_event(\n",
    "    user_id=\"demo_user_001\",\n",
    "    template_name=\"content_engaged\",\n",
    "    properties={\n",
    "        \"content_type\": \"blog_post\",\n",
    "        \"content_id\": \"post_advanced_widgets_guide\",\n",
    "        \"engagement_type\": \"read_completion\",\n",
    "        \"read_percentage\": 95,\n",
    "        \"time_spent_seconds\": 285,\n",
    "        \"scroll_depth\": 100,\n",
    "        \"shares\": 0,\n",
    "        \"likes\": 1\n",
    "    }\n",
    ")\n",
    "\n",
    "print(\"Content Engagement event created using EventManager:\")\n",
    "print(json.dumps(engagement_event, indent=2, default=str))"
   ]
  },
  {
   "cell_type": "markdown",
   "metadata": {},
   "source": [
    "## Batch Event Processing"
   ]
  },
  {
   "cell_type": "code",
   "metadata": {},
   "outputs": [],
   "source": "# Register custom event templates\n\nnewsletter_template = EventTemplate(\n    name=\"Newsletter Signup\",\n    category=EventCategory.ENGAGEMENT,\n    priority=EventPriority.HIGH,\n    required_properties=[\"newsletter_type\", \"signup_source\"],\n    default_properties={\"platform\": \"web\"}\n)\n\npush_notification_template = EventTemplate(\n    name=\"Push Notification Opened\",\n    category=EventCategory.ENGAGEMENT,\n    priority=EventPriority.NORMAL,\n    required_properties=[\"notification_id\", \"action_taken\"],\n    default_properties={\"platform\": \"mobile\"}\n)\n\n# Register templates with EventManager\nevent_manager.register_template(newsletter_template)\nevent_manager.register_template(push_notification_template)\n\nprint(\"Custom event templates registered:\")\nprint(f\"  Newsletter Signup: {newsletter_template.required_properties}\")\nprint(f\"  Push Notification Opened: {push_notification_template.required_properties}\")"
  },
  {
   "cell_type": "code",
   "metadata": {},
   "outputs": [],
   "source": "# Create enriched web event using EventManager\n\nenriched_web_event = event_manager.create_enriched_event(\n    user_id=\"demo_user_003\",\n    template_name=\"newsletter_signup\",\n    properties={\n        \"newsletter_type\": \"weekly_product_updates\",\n        \"signup_source\": \"product_page_footer\",\n        \"email\": \"demo@example.com\"\n    },\n    platform=\"web\",\n    ip=\"192.168.1.100\",\n    user_agent=\"Mozilla/5.0 (Macintosh; Intel Mac OS X 10_15_7) AppleWebKit/537.36\",\n    url=\"https://example.com/products\",\n    referrer=\"https://google.com/search\",\n    locale=\"en-US\",\n    timezone=\"America/New_York\"\n)\n\nprint(\"Enriched Web Event using EventManager:\")\nprint(json.dumps(enriched_web_event, indent=2, default=str))"
  },
  {
   "cell_type": "markdown",
   "metadata": {},
   "source": "# Create enriched mobile event using EventManager\n\nenriched_mobile_event = event_manager.create_enriched_event(\n    user_id=\"demo_user_003\",\n    template_name=\"push_notification_opened\",\n    properties={\n        \"notification_id\": \"notif_promo_001\",\n        \"campaign_name\": \"Weekend Sale Alert\",\n        \"action_taken\": \"opened_app\",\n        \"time_to_open_seconds\": 45\n    },\n    platform=\"mobile\",\n    app_name=\"Customer IO Demo App\",\n    app_version=\"2.1.0\",\n    os_name=\"iOS\",\n    os_version=\"17.2\",\n    device_model=\"iPhone 15 Pro\",\n    device_id=\"device_demo_001\",\n    locale=\"en-US\",\n    timezone=\"America/Los_Angeles\"\n)\n\nprint(\"Enriched Mobile Event using EventManager:\")\nprint(json.dumps(enriched_mobile_event, indent=2, default=str))",
   "outputs": []
  },
  {
   "cell_type": "markdown",
   "metadata": {},
   "source": [
    "## Custom Event Templates"
   ]
  },
  {
   "cell_type": "code",
   "metadata": {},
   "outputs": [],
   "source": "# Load sample data for event generation\n\nprint(\"=== Data-Driven Event Generation ===\")\n\ncustomers_sample = spark.table(f\"{CATALOG_NAME}.{DATABASE_NAME}.customers\").limit(3)\nevents_sample = spark.table(f\"{CATALOG_NAME}.{DATABASE_NAME}.events\").limit(5)\n\nprint(\"Sample customers:\")\ncustomers_sample.select(\"user_id\", \"email\", \"is_active\", \"created_at\").show()\n\nprint(\"Sample events:\")\nevents_sample.select(\"user_id\", \"event_name\", \"timestamp\").show()"
  },
  {
   "cell_type": "code",
   "metadata": {},
   "outputs": [],
   "source": "# Transform Spark data to Customer.IO events\n\nprint(\"Transforming Spark data to Customer.IO events:\")\n\ntrack_requests = EventTransformer.spark_to_track_requests(\n    df=events_sample,\n    user_id_col=\"user_id\",\n    event_name_col=\"event_name\",\n    properties_cols=[\"properties\"],\n    timestamp_col=\"timestamp\"\n)\n\nprint(f\"Generated {len(track_requests)} track requests from Spark data\")\n\nif track_requests:\n    print(\"\\nSample transformed event:\")\n    print(json.dumps(track_requests[0], indent=2, default=str))"
  },
  {
   "cell_type": "code",
   "metadata": {},
   "outputs": [],
   "source": "# Process transformed events using EventManager\n\nif track_requests:\n    print(\"Processing transformed events using EventManager batch:\")\n    \n    spark_batch_results = event_manager.send_events_batch(\n        events=track_requests,\n        optimize_batches=True\n    )\n    \n    print(\"\\nSpark-to-Customer.IO batch results using EventManager:\")\n    for result in spark_batch_results:\n        status_msg = f\"Batch {result['batch_id']}: {result['status']} ({result['count']} events)\"\n        if result['status'] == 'failed':\n            status_msg += f\" - Error: {result.get('error', 'Unknown error')}\"\n        print(f\"  {status_msg}\")\nelse:\n    print(\"No events to process from Spark data\")"
  },
  {
   "cell_type": "markdown",
   "metadata": {},
   "source": [
    "## Data-Driven Event Generation from Spark"
   ]
  },
  {
   "cell_type": "code",
   "metadata": {},
   "outputs": [],
   "source": "# Display event tracking metrics using EventManager\n\ndef track_event_metrics():\n    \"\"\"Display current event tracking performance metrics.\"\"\"\n    \n    print(\"=== Event Tracking Metrics ===\")\n    \n    manager_metrics = event_manager.get_metrics()\n    \n    # Template information\n    print(f\"Event Templates:\")\n    print(f\"  Registered templates: {manager_metrics['templates']['registered_count']}\")\n    print(f\"  Available templates: {', '.join(manager_metrics['templates']['template_names'])}\")\n    \n    # Rate limiting status\n    rate_limit = manager_metrics['client']['rate_limit']\n    print(f\"\\nRate Limiting:\")\n    print(f\"  Current requests: {rate_limit['current_requests']}\")\n    print(f\"  Max requests: {rate_limit['max_requests']}\")\n    print(f\"  Can make request: {rate_limit['can_make_request']}\")\n    \n    # Client configuration\n    print(f\"\\nClient Configuration:\")\n    print(f\"  Base URL: {manager_metrics['client']['base_url']}\")\n    print(f\"  Max retries: {manager_metrics['client']['max_retries']}\")\n    \n    return manager_metrics\n\n# Display metrics\nmetrics = track_event_metrics()"
  },
  {
   "cell_type": "code",
   "execution_count": null,
   "metadata": {},
   "outputs": [],
   "source": [
    "# Transform Spark data to Customer.IO events\n",
    "print(\"Transforming Spark data to Customer.IO events:\")\n",
    "\n",
    "# Transform events using the EventTransformer\n",
    "track_requests = EventTransformer.spark_to_track_requests(\n",
    "    df=events_sample,\n",
    "    user_id_col=\"user_id\",\n",
    "    event_name_col=\"event_name\",\n",
    "    properties_cols=[\"properties\"],\n",
    "    timestamp_col=\"timestamp\"\n",
    ")\n",
    "\n",
    "print(f\"Generated {len(track_requests)} track requests from Spark data\")\n",
    "\n",
    "# Show sample transformed event\n",
    "if track_requests:\n",
    "    print(\"\\nSample transformed event:\")\n",
    "    print(json.dumps(track_requests[0], indent=2, default=str))"
   ]
  },
  {
   "cell_type": "code",
   "metadata": {},
   "outputs": [],
   "source": "# Test robust event sending using EventManager\n\ntest_event = {\n    \"userId\": \"demo_user_resilience\",\n    \"event\": \"Error Handling Test\",\n    \"properties\": {\n        \"test_type\": \"retry_mechanism\",\n        \"timestamp\": datetime.now(timezone.utc).isoformat()\n    },\n    \"timestamp\": datetime.now(timezone.utc)\n}\n\ntry:\n    result = event_manager.send_event(test_event)\n    print(f\"Event sent using EventManager: {result}\")\nexcept Exception as e:\n    print(f\"Event failed: {str(e)}\")"
  },
  {
   "cell_type": "markdown",
   "metadata": {},
   "source": "# Test graceful error handling with fallback\n\nfallback_result = event_manager.send_event_with_fallback(\n    event_data=test_event,\n    save_failed_events=True\n)\nprint(f\"Event with fallback using EventManager: {fallback_result}\")",
   "outputs": []
  },
  {
   "cell_type": "code",
   "execution_count": null,
   "metadata": {},
   "outputs": [],
   "source": [
    "# Implementation: Event tracking metrics using EventManager\n",
    "def track_event_metrics():\n",
    "    \"\"\"Display current event tracking performance metrics.\"\"\"\n",
    "    \n",
    "    print(\"=== Event Tracking Metrics ===\")\n",
    "    \n",
    "    # Get EventManager metrics\n",
    "    manager_metrics = event_manager.get_metrics()\n",
    "    \n",
    "    # Template information\n",
    "    print(f\"Event Templates:\")\n",
    "    print(f\"  Registered templates: {manager_metrics['templates']['registered_count']}\")\n",
    "    print(f\"  Available templates: {', '.join(manager_metrics['templates']['template_names'])}\")\n",
    "    \n",
    "    # Rate limiting status\n",
    "    rate_limit = manager_metrics['client']['rate_limit']\n",
    "    print(f\"\\nRate Limiting:\")\n",
    "    print(f\"  Current requests: {rate_limit['current_requests']}\")\n",
    "    print(f\"  Max requests: {rate_limit['max_requests']}\")\n",
    "    print(f\"  Can make request: {rate_limit['can_make_request']}\")\n",
    "    \n",
    "    # Client configuration\n",
    "    print(f\"\\nClient Configuration:\")\n",
    "    print(f\"  Base URL: {manager_metrics['client']['base_url']}\")\n",
    "    print(f\"  Max retries: {manager_metrics['client']['max_retries']}\")\n",
    "    \n",
    "    return manager_metrics\n",
    "\n",
    "# Display metrics\n",
    "metrics = track_event_metrics()"
   ]
  },
  {
   "cell_type": "markdown",
   "metadata": {},
   "source": "# Final event tracking summary\n\nprint(\"=== Final Event Tracking Summary ===\")\n\nfinal_metrics = track_event_metrics()\n\nprint(\"\\n=== Events Created in This Session ===\")\nprint(\"SUCCESS: Basic page view event using EventManager\")\nprint(\"SUCCESS: Product viewed semantic event using EventManager\")\nprint(\"SUCCESS: Order completed semantic event using EventManager\")\nprint(\"SUCCESS: Feature usage tracking event using EventManager\")\nprint(\"SUCCESS: Content engagement event using EventManager\")\nprint(\"SUCCESS: User session events (batch) using EventManager\")\nprint(\"SUCCESS: Enriched events with context using EventManager\")\nprint(\"SUCCESS: Data-driven events from Spark using EventManager\")\nprint(\"SUCCESS: Error handling and retry patterns using EventManager\")\n\nprint(\"\\n=== Key Capabilities Demonstrated ===\")\nprint(\"SUCCESS: Type-safe event creation with EventManager templates\")\nprint(\"SUCCESS: Semantic event schemas for ecommerce tracking\")\nprint(\"SUCCESS: Batch processing with intelligent optimization\")\nprint(\"SUCCESS: Rich context integration (web and mobile)\")\nprint(\"SUCCESS: Data transformation from Spark to Customer.IO\")\nprint(\"SUCCESS: Comprehensive error handling and recovery\")\nprint(\"SUCCESS: Rate limiting protection\")\nprint(\"SUCCESS: Performance monitoring and metrics\")",
   "outputs": []
  },
  {
   "cell_type": "code",
   "metadata": {},
   "outputs": [],
   "source": "# Close API client connection\n\nclient.close()\nprint(\"SUCCESS: API client connection closed\")\n\nprint(\"\\nCOMPLETED: Event tracking notebook finished successfully!\")\nprint(\"Ready for objects and relationships management in the next notebook.\")"
  },
  {
   "cell_type": "code",
   "execution_count": null,
   "metadata": {},
   "outputs": [],
   "source": [
    "# Implementation: Graceful error handling using EventManager fallback\n",
    "fallback_result = event_manager.send_event_with_fallback(\n",
    "    event_data=test_event,\n",
    "    save_failed_events=True\n",
    ")\n",
    "print(f\"Event with fallback using EventManager: {fallback_result}\")"
   ]
  },
  {
   "cell_type": "markdown",
   "metadata": {},
   "source": [
    "## Clean Up and Summary"
   ]
  },
  {
   "cell_type": "code",
   "execution_count": null,
   "metadata": {},
   "outputs": [],
   "source": [
    "# Final metrics and cleanup\n",
    "print(\"=== Final Event Tracking Summary ===\")\n",
    "\n",
    "# Display final metrics\n",
    "final_metrics = track_event_metrics()\n",
    "\n",
    "print(\"\\n=== Events Created in This Session ===\")\n",
    "print(\"SUCCESS: Basic page view event\")\n",
    "print(\"SUCCESS: Product viewed semantic event\")\n",
    "print(\"SUCCESS: Order completed semantic event\")\n",
    "print(\"SUCCESS: Feature usage tracking event\")\n",
    "print(\"SUCCESS: Content engagement event\")\n",
    "print(\"SUCCESS: User session events (batch)\")\n",
    "print(\"SUCCESS: Enriched events with context\")\n",
    "print(\"SUCCESS: Data-driven events from Spark\")\n",
    "print(\"SUCCESS: Error handling and retry patterns\")\n",
    "\n",
    "print(\"\\n=== Key Capabilities Demonstrated ===\")\n",
    "print(\"SUCCESS: Type-safe event creation with Pydantic validation\")\n",
    "print(\"SUCCESS: Semantic event schemas for ecommerce tracking\")\n",
    "print(\"SUCCESS: Batch processing with size optimization\")\n",
    "print(\"SUCCESS: Rich context integration (web and mobile)\")\n",
    "print(\"SUCCESS: Data transformation from Spark to Customer.IO\")\n",
    "print(\"SUCCESS: Comprehensive error handling and recovery\")\n",
    "print(\"SUCCESS: Rate limiting protection\")\n",
    "print(\"SUCCESS: Performance monitoring and metrics\")"
   ]
  },
  {
   "cell_type": "code",
   "execution_count": null,
   "metadata": {},
   "outputs": [],
   "source": [
    "# Close the API client connection\n",
    "client.close()\n",
    "print(\"SUCCESS: API client connection closed\")\n",
    "\n",
    "print(\"\\nCOMPLETED: Event tracking notebook finished successfully!\")\n",
    "print(\"Ready for people management operations in the next notebook.\")"
   ]
  }
 ],
 "metadata": {
  "kernelspec": {
   "display_name": "Python 3",
   "language": "python",
   "name": "python3"
  },
  "language_info": {
   "codemirror_mode": {
    "name": "ipython",
    "version": 3
   },
   "file_extension": ".py",
   "mimetype": "text/x-python",
   "name": "python",
   "nbconvert_exporter": "python",
   "pygments_lexer": "ipython3",
   "version": "3.8.5"
  }
 },
 "nbformat": 4,
 "nbformat_minor": 4
}