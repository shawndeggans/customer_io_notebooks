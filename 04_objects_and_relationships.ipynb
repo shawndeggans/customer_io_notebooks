{
 "cells": [
  {
   "cell_type": "markdown",
   "metadata": {},
   "source": [
    "# Customer.IO Data Pipelines API - Objects and Relationships\n",
    "\n",
    "## Purpose\n",
    "\n",
    "This notebook demonstrates comprehensive object management and relationship tracking with Customer.IO's Data Pipelines API.\n",
    "It covers groups (companies/organizations), object relationships, hierarchies, and advanced relationship patterns with proper validation and error handling.\n",
    "\n",
    "## Prerequisites\n",
    "\n",
    "- Complete setup from `00_setup_and_configuration.ipynb`\n",
    "- Complete authentication setup from `01_authentication_and_utilities.ipynb`\n",
    "- Customer.IO API key configured in Databricks secrets\n",
    "- Sample data available in Delta tables\n",
    "\n",
    "## Key Concepts\n",
    "\n",
    "- **Groups/Objects**: Organizations, companies, accounts, or any business entity\n",
    "- **Relationships**: Connections between users and groups (membership, ownership, etc.)\n",
    "- **Hierarchies**: Parent-child relationships between objects\n",
    "- **Attributes**: Custom properties for groups and relationships\n",
    "- **Type Safety**: Validated object creation and management\n",
    "- **Batch Operations**: Efficient bulk object and relationship management\n",
    "\n",
    "## Object Types Covered\n",
    "\n",
    "1. **Companies/Organizations**: Business entities with users\n",
    "2. **Teams/Departments**: Sub-units within organizations\n",
    "3. **Projects/Workspaces**: Collaborative spaces\n",
    "4. **Custom Objects**: Business-specific entities\n",
    "5. **Relationship Types**: Member, Admin, Owner, Custom roles"
   ]
  },
  {
   "cell_type": "markdown",
   "metadata": {},
   "source": [
    "## Setup and Imports"
   ]
  },
  {
   "cell_type": "code",
   "execution_count": null,
   "metadata": {},
   "outputs": [],
   "source": [
    "# Standard library imports\n",
    "import sys\n",
    "import os\n",
    "from datetime import datetime, timezone, timedelta\n",
    "from typing import Dict, List, Optional, Any, Union, Set\n",
    "import json\n",
    "import uuid\n",
    "from enum import Enum\n",
    "from dataclasses import dataclass\n",
    "\n",
    "print(\"SUCCESS: Standard libraries imported\")"
   ]
  },
  {
   "cell_type": "code",
   "execution_count": null,
   "metadata": {},
   "outputs": [],
   "source": [
    "# Add utils directory to Python path\n",
    "sys.path.append('/Workspace/Repos/customer_io_notebooks/utils')\n",
    "print(\"SUCCESS: Utils directory added to Python path\")"
   ]
  },
  {
   "cell_type": "code",
   "execution_count": null,
   "metadata": {},
   "outputs": [],
   "source": [
    "# Import Customer.IO API utilities\n",
    "from utils.api_client import CustomerIOClient\n",
    "from utils.validators import (\n",
    "    GroupRequest,\n",
    "    validate_request_size,\n",
    "    create_context\n",
    ")\n",
    "\n",
    "print(\"SUCCESS: Customer.IO API utilities imported\")"
   ]
  },
  {
   "cell_type": "code",
   "execution_count": null,
   "metadata": {},
   "outputs": [],
   "source": [
    "# Import transformation utilities\n",
    "from utils.transformers import (\n",
    "    CustomerTransformer,\n",
    "    EventTransformer,\n",
    "    BatchTransformer,\n",
    "    ContextTransformer\n",
    ")\n",
    "\n",
    "print(\"SUCCESS: Transformation utilities imported\")"
   ]
  },
  {
   "cell_type": "code",
   "execution_count": null,
   "metadata": {},
   "outputs": [],
   "source": [
    "# Import error handling utilities\n",
    "from utils.error_handlers import (\n",
    "    CustomerIOError,\n",
    "    RateLimitError,\n",
    "    ValidationError,\n",
    "    NetworkError,\n",
    "    retry_on_error,\n",
    "    ErrorContext\n",
    ")\n",
    "\n",
    "print(\"SUCCESS: Error handling utilities imported\")"
   ]
  },
  {
   "cell_type": "code",
   "execution_count": null,
   "metadata": {},
   "outputs": [],
   "source": [
    "# Import Databricks and Spark utilities\n",
    "from pyspark.sql import SparkSession\n",
    "from pyspark.sql import functions as F\n",
    "from pyspark.sql.types import *\n",
    "from delta.tables import DeltaTable\n",
    "\n",
    "print(\"SUCCESS: Databricks and Spark utilities imported\")"
   ]
  },
  {
   "cell_type": "code",
   "execution_count": null,
   "metadata": {},
   "outputs": [],
   "source": [
    "# Import validation and logging\n",
    "import structlog\n",
    "from pydantic import ValidationError as PydanticValidationError, BaseModel, Field, validator\n",
    "\n",
    "# Import GroupManager for advanced object and relationship handling\n",
    "from utils.group_manager import (\n",
    "    GroupManager, \n",
    "    GroupTraits, \n",
    "    UserGroupRelationship, \n",
    "    ObjectHierarchy,\n",
    "    ObjectType, \n",
    "    RelationshipRole, \n",
    "    RelationshipStatus,\n",
    "    PermissionSet\n",
    ")\n",
    "\n",
    "# Initialize logger\n",
    "logger = structlog.get_logger(\"objects_relationships\")\n",
    "\n",
    "print(\"SUCCESS: Validation, logging, and GroupManager imported\")"
   ]
  },
  {
   "cell_type": "markdown",
   "metadata": {},
   "source": [
    "## Configuration and Client Setup"
   ]
  },
  {
   "cell_type": "code",
   "execution_count": null,
   "metadata": {},
   "outputs": [],
   "source": [
    "# Load configuration from setup notebook (secure approach)\n",
    "try:\n",
    "    CUSTOMERIO_REGION = dbutils.widgets.get(\"customerio_region\") or \"us\"\n",
    "    DATABASE_NAME = dbutils.widgets.get(\"database_name\") or \"customerio_demo\"\n",
    "    CATALOG_NAME = dbutils.widgets.get(\"catalog_name\") or \"main\"\n",
    "    ENVIRONMENT = dbutils.widgets.get(\"environment\") or \"test\"\n",
    "    \n",
    "    print(f\"Configuration loaded from setup notebook:\")\n",
    "    print(f\"  Region: {CUSTOMERIO_REGION}\")\n",
    "    print(f\"  Database: {CATALOG_NAME}.{DATABASE_NAME}\")\n",
    "    print(f\"  Environment: {ENVIRONMENT}\")\n",
    "    \n",
    "except Exception as e:\n",
    "    print(f\"WARNING: Could not load configuration from setup notebook: {str(e)}\")\n",
    "    print(\"INFO: Using fallback configuration\")\n",
    "    CUSTOMERIO_REGION = \"us\"\n",
    "    DATABASE_NAME = \"customerio_demo\"\n",
    "    CATALOG_NAME = \"main\"\n",
    "    ENVIRONMENT = \"test\""
   ]
  },
  {
   "cell_type": "code",
   "execution_count": null,
   "metadata": {},
   "outputs": [],
   "source": [
    "# Get Customer.IO API key from secure storage\n",
    "CUSTOMERIO_API_KEY = dbutils.secrets.get(\"customerio\", \"api_key\")\n",
    "print(\"SUCCESS: Customer.IO API key retrieved from secure storage\")"
   ]
  },
  {
   "cell_type": "code",
   "execution_count": null,
   "metadata": {},
   "outputs": [],
   "source": [
    "# Configure Spark to use the specified database\n",
    "spark.sql(f\"USE {CATALOG_NAME}.{DATABASE_NAME}\")\n",
    "print(\"SUCCESS: Database configured\")"
   ]
  },
  {
   "cell_type": "code",
   "execution_count": null,
   "metadata": {},
   "outputs": [],
   "source": [
    "# Initialize the Customer.IO client\n",
    "try:\n",
    "    client = CustomerIOClient(\n",
    "        api_key=CUSTOMERIO_API_KEY,\n",
    "        region=CUSTOMERIO_REGION,\n",
    "        timeout=30,\n",
    "        max_retries=3,\n",
    "        retry_backoff_factor=2.0,\n",
    "        enable_logging=True,\n",
    "        spark_session=spark\n",
    "    )\n",
    "    print(\"SUCCESS: Customer.IO client initialized for object management\")\n",
    "    \n",
    "except Exception as e:\n",
    "    print(f\"ERROR: Failed to initialize Customer.IO client: {str(e)}\")\n",
    "    raise"
   ]
  },
  {
   "cell_type": "code",
   "execution_count": null,
   "metadata": {},
   "outputs": [],
   "source": [
    "# Initialize the GroupManager with the Customer.IO client\n",
    "group_manager = GroupManager(client)\n",
    "print(\"SUCCESS: GroupManager initialized for object and relationship management\")"
   ]
  },
  {
   "cell_type": "markdown",
   "metadata": {},
   "source": [
    "## Test-Driven Development: Object and Relationship Validation"
   ]
  },
  {
   "cell_type": "code",
   "metadata": {},
   "outputs": [],
   "source": "# Test basic group validation using GroupManager models\n\ndef test_basic_group_validation():\n    \"\"\"Test that basic groups have required fields and pass validation.\"\"\"\n    \n    valid_group = {\n        \"userId\": \"user_123\",\n        \"groupId\": \"company_456\",\n        \"traits\": {\n            \"name\": \"Acme Corporation\",\n            \"industry\": \"Technology\",\n            \"size\": \"100-500\"\n        },\n        \"timestamp\": datetime.now(timezone.utc)\n    }\n    \n    try:\n        group_request = GroupRequest(**valid_group)\n        assert group_request.userId == \"user_123\"\n        assert group_request.groupId == \"company_456\"\n        print(\"SUCCESS: Basic group validation test passed\")\n        return True\n    except Exception as e:\n        print(f\"ERROR: Basic group validation test failed: {str(e)}\")\n        return False\n\n# Run the test\ntest_basic_group_validation()"
  },
  {
   "cell_type": "code",
   "metadata": {},
   "outputs": [],
   "source": "# Test relationship validation using GroupManager models\n\ndef test_relationship_validation():\n    \"\"\"Test that relationship data structures are properly validated using GroupManager.\"\"\"\n    \n    try:\n        relationship = UserGroupRelationship(\n            user_id=\"user_123\",\n            group_id=\"company_456\",\n            role=RelationshipRole.ADMIN,\n            status=RelationshipStatus.ACTIVE,\n            permissions=[\"users.manage\", \"billing.view\"]\n        )\n        \n        assert relationship.user_id == \"user_123\"\n        assert relationship.group_id == \"company_456\"\n        assert relationship.role == \"admin\"\n        assert relationship.status == \"active\"\n        print(\"SUCCESS: Relationship validation test passed\")\n        return True\n    except Exception as e:\n        print(f\"ERROR: Relationship validation test failed: {str(e)}\")\n        return False\n\n# Run the test\ntest_relationship_validation()"
  },
  {
   "cell_type": "code",
   "execution_count": null,
   "metadata": {},
   "outputs": [],
   "source": [
    "# Test object types and enumerations from GroupManager\n",
    "print(\\\"Available object types:\\\")\\nfor obj_type in ObjectType:\\n    print(f\\\"  - {obj_type.value}\\\")\\n\\nprint(\\\"\\\\nAvailable relationship roles:\\\")\\nfor role in RelationshipRole:\\n    print(f\\\"  - {role.value}\\\")\\n\\nprint(\\\"\\\\nAvailable relationship statuses:\\\")\\nfor status in RelationshipStatus:\\n    print(f\\\"  - {status.value}\\\")\\n\\nprint(\\\"\\\\nSUCCESS: Object types and enumerations are available from GroupManager\\\")\""
   ]
  },
  {
   "cell_type": "code",
   "execution_count": null,
   "metadata": {},
   "outputs": [],
   "source": [
    "# Test type-safe group traits from GroupManager\\nsample_company_traits = GroupTraits(\\n    name=\\\"TechCorp Solutions\\\",\\n    type=ObjectType.COMPANY,\\n    industry=\\\"Software\\\",\\n    size=\\\"50-100\\\",\\n    website=\\\"techcorp.com\\\",\\n    plan=\\\"enterprise\\\",\\n    monthly_spend=4999.99,\\n    employee_count=75\\n)\\n\\nprint(\\\"GroupTraits model test:\\\")\\nprint(f\\\"  Name: {sample_company_traits.name}\\\")\\nprint(f\\\"  Type: {sample_company_traits.type}\\\")\\nprint(f\\\"  Website: {sample_company_traits.website}\\\")  # Should auto-add https://\\nprint(f\\\"  Employee Count: {sample_company_traits.employee_count}\\\")\\nprint(\\\"SUCCESS: GroupTraits model working with validation\\\")\""
   ]
  },
  {
   "cell_type": "code",
   "execution_count": null,
   "metadata": {},
   "outputs": [],
   "source": [
    "# Test relationship model from GroupManager\\nsample_relationship = UserGroupRelationship(\\n    user_id=\\\"user_admin_001\\\",\\n    group_id=\\\"company_techcorp_001\\\",\\n    role=RelationshipRole.ADMIN,\\n    status=RelationshipStatus.ACTIVE,\\n    permissions=[\\\"users.manage\\\", \\\"billing.view\\\", \\\"settings.edit\\\"],\\n    metadata={\\n        \\\"department\\\": \\\"Engineering\\\",\\n        \\\"title\\\": \\\"VP of Engineering\\\"\\n    }\\n)\\n\\nprint(\\\"UserGroupRelationship model test:\\\")\\nprint(f\\\"  User ID: {sample_relationship.user_id}\\\")\\nprint(f\\\"  Group ID: {sample_relationship.group_id}\\\")\\nprint(f\\\"  Role: {sample_relationship.role}\\\")\\nprint(f\\\"  Status: {sample_relationship.status}\\\")\\nprint(f\\\"  Permissions: {sample_relationship.permissions}\\\")\\nprint(f\\\"  Joined at: {sample_relationship.joined_at}\\\")\\nprint(\\\"SUCCESS: UserGroupRelationship model working with validation\\\")\""
   ]
  },
  {
   "cell_type": "code",
   "execution_count": null,
   "metadata": {},
   "outputs": [],
   "source": [
    "# Test hierarchy model from GroupManager\\nsample_hierarchy = ObjectHierarchy(\\n    parent_id=\\\"company_techcorp_001\\\",\\n    child_id=\\\"team_engineering_001\\\",\\n    relationship_type=\\\"contains\\\",\\n    level=1,\\n    path=\\\"/company_techcorp_001/team_engineering_001\\\"\\n)\\n\\nprint(\\\"ObjectHierarchy model test:\\\")\\nprint(f\\\"  Parent ID: {sample_hierarchy.parent_id}\\\")\\nprint(f\\\"  Child ID: {sample_hierarchy.child_id}\\\")\\nprint(f\\\"  Relationship Type: {sample_hierarchy.relationship_type}\\\")\\nprint(f\\\"  Level: {sample_hierarchy.level}\\\")\\nprint(f\\\"  Path: {sample_hierarchy.path}\\\")\\nprint(f\\\"  Created at: {sample_hierarchy.created_at}\\\")\\nprint(\\\"SUCCESS: ObjectHierarchy model working with validation\\\")\""
   ]
  },
  {
   "cell_type": "code",
   "metadata": {},
   "outputs": [],
   "source": "# Test group creation using GroupManager\n\nif ENVIRONMENT == \"test\":\n    print(\"INFO: Running in test mode - group not actually sent\")\n    result = {\"status\": \"test_success\", \"message\": \"Group validated successfully\"}\nelse:\n    result = group_manager.create_group(\n        user_id=\"user_founder_001\",\n        group_id=\"company_techcorp_001\",\n        group_traits=sample_company_traits\n    )\n\nprint(\"Group created using GroupManager:\")\nprint(json.dumps({\"traits\": sample_company_traits.dict()}, indent=2, default=str))\nprint(f\"Result: {result}\")"
  },
  {
   "cell_type": "code",
   "metadata": {},
   "outputs": [],
   "source": "# Test permission system from GroupManager\n\nprint(\"Available default permissions by role:\")\nfor role in RelationshipRole:\n    permissions = PermissionSet.get_permissions(role)\n    print(f\"  {role.value}: {permissions}\")\n\nprint(\"\\nTesting permission checking:\")\nadmin_perms = PermissionSet.get_permissions(RelationshipRole.ADMIN)\nprint(f\"Admin has 'users.manage': {PermissionSet.has_permission(admin_perms, 'users.manage')}\")\nprint(f\"Admin has 'users.delete': {PermissionSet.has_permission(admin_perms, 'users.delete')}\")\n\nprint(\"SUCCESS: Permission system from GroupManager working correctly\")"
  },
  {
   "cell_type": "code",
   "metadata": {},
   "outputs": [],
   "source": "# Test hierarchy validation using GroupManager models\n\ndef test_hierarchy_validation():\n    \"\"\"Test that hierarchy models are properly validated.\"\"\"\n    \n    try:\n        hierarchy = ObjectHierarchy(\n            parent_id=\"company_techcorp_001\",\n            child_id=\"team_engineering_001\",\n            relationship_type=\"contains\",\n            level=1,\n            path=\"/company_techcorp_001/team_engineering_001\"\n        )\n        \n        assert hierarchy.parent_id == \"company_techcorp_001\"\n        assert hierarchy.child_id == \"team_engineering_001\"\n        assert hierarchy.level == 1\n        print(\"SUCCESS: Hierarchy validation test passed\")\n        return True\n    except Exception as e:\n        print(f\"ERROR: Hierarchy validation test failed: {str(e)}\")\n        return False\n\n# Run the test\ntest_hierarchy_validation()"
  },
  {
   "cell_type": "markdown",
   "metadata": {},
   "source": [
    "## Group/Object Management Implementation"
   ]
  },
  {
   "cell_type": "code",
   "metadata": {},
   "outputs": [],
   "source": "# Test group creation with GroupTraits\n\nsample_company = GroupTraits(\n    name=\"TechCorp Solutions\",\n    type=ObjectType.COMPANY,\n    industry=\"Software\",\n    size=\"50-100\",\n    website=\"techcorp.com\",\n    plan=\"enterprise\",\n    monthly_spend=4999.99,\n    employee_count=75\n)\n\nprint(\"Created GroupTraits for TechCorp Solutions:\")\nprint(f\"  Name: {sample_company.name}\")\nprint(f\"  Type: {sample_company.type}\")\nprint(f\"  Website: {sample_company.website}\")  # Should auto-add https://\nprint(f\"  Employee Count: {sample_company.employee_count}\")\nprint(\"SUCCESS: GroupTraits creation and validation working\")"
  },
  {
   "cell_type": "code",
   "metadata": {},
   "outputs": [],
   "source": "# Send group using GroupManager\n\nif ENVIRONMENT == \"test\":\n    print(\"INFO: Running in test mode - group not actually sent\")\n    result = {\"status\": \"test_success\", \"message\": \"Group validated successfully\"}\nelse:\n    result = group_manager.create_group(\n        user_id=\"user_founder_001\",\n        group_id=\"company_techcorp_001\",\n        group_traits=sample_company\n    )\n\nprint(f\"Group creation result: {result}\")\nprint(\"SUCCESS: Group created using GroupManager\")"
  },
  {
   "cell_type": "markdown",
   "metadata": {},
   "source": [
    "## Relationship Management"
   ]
  },
  {
   "cell_type": "code",
   "metadata": {},
   "outputs": [],
   "source": "# Create user-group relationship using GroupManager\n\nadmin_relationship = UserGroupRelationship(\n    user_id=\"user_admin_001\",\n    group_id=\"company_techcorp_001\",\n    role=RelationshipRole.ADMIN,\n    status=RelationshipStatus.ACTIVE,\n    permissions=[\"users.manage\", \"billing.view\", \"settings.edit\"],\n    metadata={\n        \"department\": \"Engineering\",\n        \"title\": \"VP of Engineering\"\n    }\n)\n\nif ENVIRONMENT == \"test\":\n    print(\"INFO: Running in test mode - relationship not actually sent\")\n    result = {\"status\": \"test_success\", \"message\": \"Relationship validated successfully\"}\nelse:\n    result = group_manager.create_relationship(admin_relationship)\n\nprint(\"Admin relationship created:\")\nprint(f\"  User: {admin_relationship.user_id}\")\nprint(f\"  Group: {admin_relationship.group_id}\")\nprint(f\"  Role: {admin_relationship.role}\")\nprint(f\"  Permissions: {admin_relationship.permissions}\")\nprint(f\"Result: {result}\")"
  },
  {
   "cell_type": "code",
   "metadata": {},
   "outputs": [],
   "source": "# Update relationship status using GroupManager\n\nif ENVIRONMENT == \"test\":\n    print(\"INFO: Running in test mode - status update not actually sent\")\n    result = {\"status\": \"test_success\", \"message\": \"Status update validated successfully\"}\nelse:\n    result = group_manager.update_relationship_status(\n        user_id=\"user_member_002\",\n        group_id=\"company_techcorp_001\",\n        new_status=RelationshipStatus.SUSPENDED,\n        previous_status=RelationshipStatus.ACTIVE,\n        reason=\"Payment failure\"\n    )\n\nprint(\"Relationship status update:\")\nprint(f\"  User: user_member_002\")\nprint(f\"  Group: company_techcorp_001\")\nprint(f\"  New Status: suspended\")\nprint(f\"  Reason: Payment failure\")\nprint(f\"Result: {result}\")"
  },
  {
   "cell_type": "markdown",
   "metadata": {},
   "source": [
    "## Hierarchical Relationships"
   ]
  },
  {
   "cell_type": "code",
   "metadata": {},
   "outputs": [],
   "source": "# Create object hierarchy using GroupManager\n\nengineering_team = GroupTraits(\n    name=\"Engineering Team\",\n    type=ObjectType.TEAM,\n    size=\"10-20\",\n    created_at=datetime.now(timezone.utc)\n)\n\n# Create the team group first\nif ENVIRONMENT == \"test\":\n    print(\"INFO: Running in test mode - team group not actually sent\")\n    team_result = {\"status\": \"test_success\"}\nelse:\n    team_result = group_manager.create_group(\n        user_id=\"user_team_lead_001\",\n        group_id=\"team_engineering_001\",\n        group_traits=engineering_team\n    )\n\nprint(f\"Engineering team created: {team_result}\")\n\n# Create hierarchy relationship\nteam_hierarchy = ObjectHierarchy(\n    parent_id=\"company_techcorp_001\",\n    child_id=\"team_engineering_001\",\n    relationship_type=\"contains\",\n    level=1,\n    path=\"/company_techcorp_001/team_engineering_001\"\n)\n\n# Create hierarchy events using GroupManager\nhierarchy_events = group_manager.create_hierarchy(\n    hierarchy=team_hierarchy,\n    parent_type=ObjectType.COMPANY,\n    child_type=ObjectType.TEAM\n)\n\nprint(f\"\\nCreated {len(hierarchy_events)} hierarchy events:\")\nfor event in hierarchy_events:\n    print(f\"  - {event['event']} for {event['userId']}\")"
  },
  {
   "cell_type": "markdown",
   "metadata": {},
   "source": [
    "## Batch Operations for Groups and Relationships"
   ]
  },
  {
   "cell_type": "code",
   "metadata": {},
   "outputs": [],
   "source": "# Create sample departments using GroupTraits\n\ndepartments = []\n\n# Sales Department\nsales_dept = GroupTraits(\n    name=\"Sales Department\",\n    type=ObjectType.DEPARTMENT,\n    size=\"20-30\",\n    employee_count=25\n)\ndepartments.append({\n    \"userId\": \"user_dept_head_001\",\n    \"groupId\": \"dept_sales_001\",\n    \"traits\": sales_dept.dict(exclude_none=True),\n    \"timestamp\": datetime.now(timezone.utc)\n})\n\n# Marketing Department  \nmarketing_dept = GroupTraits(\n    name=\"Marketing Department\", \n    type=ObjectType.DEPARTMENT,\n    size=\"10-20\",\n    employee_count=15\n)\ndepartments.append({\n    \"userId\": \"user_dept_head_002\",\n    \"groupId\": \"dept_marketing_001\", \n    \"traits\": marketing_dept.dict(exclude_none=True),\n    \"timestamp\": datetime.now(timezone.utc)\n})\n\n# Product Department\nproduct_dept = GroupTraits(\n    name=\"Product Department\",\n    type=ObjectType.DEPARTMENT, \n    size=\"5-10\",\n    employee_count=8\n)\ndepartments.append({\n    \"userId\": \"user_dept_head_003\",\n    \"groupId\": \"dept_product_001\",\n    \"traits\": product_dept.dict(exclude_none=True), \n    \"timestamp\": datetime.now(timezone.utc)\n})\n\nprint(f\"Created {len(departments)} department definitions:\")\nfor dept in departments:\n    print(f\"  - {dept['traits']['name']} ({dept['groupId']})\")"
  },
  {
   "cell_type": "code",
   "metadata": {},
   "outputs": [],
   "source": "# Create sample team relationships using GroupManager models\n\nteam_relationships = [\n    UserGroupRelationship(\n        user_id=\"user_eng_001\",\n        group_id=\"team_engineering_001\",\n        role=RelationshipRole.MEMBER,\n        permissions=[\"code.write\", \"pr.create\"],\n        metadata={\"seniority\": \"senior\", \"specialization\": \"backend\"}\n    ),\n    UserGroupRelationship(\n        user_id=\"user_eng_002\",\n        group_id=\"team_engineering_001\",\n        role=RelationshipRole.MEMBER,\n        permissions=[\"code.write\", \"pr.create\"],\n        metadata={\"seniority\": \"mid\", \"specialization\": \"frontend\"}\n    ),\n    UserGroupRelationship(\n        user_id=\"user_eng_003\",\n        group_id=\"team_engineering_001\",\n        role=RelationshipRole.MEMBER,\n        permissions=[\"code.read\"],\n        metadata={\"seniority\": \"junior\", \"specialization\": \"fullstack\"}\n    )\n]\n\nprint(f\"Created {len(team_relationships)} team relationships:\")\nfor rel in team_relationships:\n    print(f\"  - {rel.user_id} -> {rel.group_id} as {rel.role} ({rel.metadata.get('seniority', 'unknown')})\")"
  },
  {
   "cell_type": "code",
   "metadata": {},
   "outputs": [],
   "source": "# Send batch operations using GroupManager\n\nif ENVIRONMENT == \"test\":\n    print(\"INFO: Running in test mode - batch operations not actually sent\")\n    \n    # Simulate batch results\n    batch_groups_result = [\n        {\"batch_id\": 0, \"status\": \"test_success\", \"count\": len(departments)}\n    ]\n    \n    batch_relationships_result = [\n        {\"batch_id\": 0, \"status\": \"test_success\", \"count\": len(team_relationships)}\n    ]\n    \nelse:\n    # Send departments batch using GroupManager\n    batch_groups_result = group_manager.batch_create_groups(departments)\n    \n    # Send relationships batch using GroupManager  \n    batch_relationships_result = group_manager.batch_create_relationships(team_relationships)\n\nprint(\"Batch groups results:\")\nfor result in batch_groups_result:\n    print(f\"  Batch {result['batch_id']}: {result['status']} ({result['count']} groups)\")\n\nprint(\"\\nBatch relationships results:\")\nfor result in batch_relationships_result:\n    print(f\"  Batch {result['batch_id']}: {result['status']} ({result['count']} relationships)\")"
  },
  {
   "cell_type": "markdown",
   "metadata": {},
   "source": [
    "## Complex Relationship Queries"
   ]
  },
  {
   "cell_type": "code",
   "metadata": {},
   "outputs": [],
   "source": "# Find users by role using GroupManager\n\nall_relationships = team_relationships + [admin_relationship]\n\n# Use GroupManager method to get users by role\nmembers = group_manager.get_users_by_role(\n    group_id=\"team_engineering_001\",\n    role=RelationshipRole.MEMBER,\n    relationships=all_relationships\n)\n\nadmins = group_manager.get_users_by_role(\n    group_id=\"team_engineering_001\", \n    role=RelationshipRole.ADMIN,\n    relationships=all_relationships\n)\n\nprint(f\"Found {len(members)} members in Engineering Team:\")\nfor user_id in members:\n    print(f\"  - {user_id}\")\n\nprint(f\"\\nFound {len(admins)} admins in Engineering Team:\")\nfor user_id in admins:\n    print(f\"  - {user_id}\")\n\nprint(\"SUCCESS: User queries using GroupManager working correctly\")"
  },
  {
   "cell_type": "code",
   "metadata": {},
   "outputs": [],
   "source": "# Build hierarchy tree using GroupManager\n\n# Create additional hierarchies for testing\nadditional_hierarchies = [\n    team_hierarchy,\n    ObjectHierarchy(\n        parent_id=\"company_techcorp_001\",\n        child_id=\"dept_sales_001\",\n        relationship_type=\"contains\",\n        level=1,\n        path=\"/company_techcorp_001/dept_sales_001\"\n    ),\n    ObjectHierarchy(\n        parent_id=\"dept_sales_001\",\n        child_id=\"team_sales_na_001\",\n        relationship_type=\"contains\",\n        level=2,\n        path=\"/company_techcorp_001/dept_sales_001/team_sales_na_001\"\n    )\n]\n\n# Build the tree using GroupManager\norg_tree = group_manager.build_hierarchy_tree(\n    root_id=\"company_techcorp_001\",\n    hierarchies=additional_hierarchies\n)\n\nprint(\"Organization hierarchy tree:\")\nprint(json.dumps(org_tree, indent=2))\nprint(\"SUCCESS: Hierarchy tree built using GroupManager\")"
  },
  {
   "cell_type": "markdown",
   "metadata": {},
   "source": [
    "## Data-Driven Group Generation from Spark"
   ]
  },
  {
   "cell_type": "code",
   "execution_count": null,
   "metadata": {},
   "outputs": [],
   "source": [
    "# Load sample organization data\n",
    "print(\"=== Data-Driven Group Generation ===\")\n",
    "\n",
    "# Create sample organizations table if it doesn't exist\n",
    "spark.sql(f\"\"\"\n",
    "CREATE TABLE IF NOT EXISTS {CATALOG_NAME}.{DATABASE_NAME}.organizations (\n",
    "    org_id STRING,\n",
    "    org_name STRING,\n",
    "    industry STRING,\n",
    "    employee_count INT,\n",
    "    annual_revenue DOUBLE,\n",
    "    created_at TIMESTAMP\n",
    ") USING DELTA\n",
    "\"\"\")\n",
    "\n",
    "# Insert sample data\n",
    "spark.sql(f\"\"\"\n",
    "INSERT INTO {CATALOG_NAME}.{DATABASE_NAME}.organizations\n",
    "SELECT * FROM VALUES\n",
    "    ('org_001', 'Alpha Corp', 'Finance', 250, 5000000, current_timestamp()),\n",
    "    ('org_002', 'Beta Industries', 'Manufacturing', 500, 10000000, current_timestamp()),\n",
    "    ('org_003', 'Gamma Tech', 'Technology', 100, 2500000, current_timestamp())\n",
    "WHERE NOT EXISTS (\n",
    "    SELECT 1 FROM {CATALOG_NAME}.{DATABASE_NAME}.organizations WHERE org_id = 'org_001'\n",
    ")\n",
    "\"\"\")\n",
    "\n",
    "# Load organizations\n",
    "organizations_df = spark.table(f\"{CATALOG_NAME}.{DATABASE_NAME}.organizations\")\n",
    "organizations_df.show()"
   ]
  },
  {
   "cell_type": "code",
   "metadata": {},
   "outputs": [],
   "source": "# Transform Spark data to Customer.IO groups using GroupTraits\n\ndef transform_orgs_to_groups(df):\n    \"\"\"Transform organization data to Customer.IO group format using GroupTraits.\"\"\"\n    \n    # Collect data (in production, process in batches)\n    orgs = df.collect()\n    \n    groups = []\n    for org in orgs:\n        # Determine organization size category\n        emp_count = org['employee_count']\n        if emp_count < 50:\n            size = \"1-50\"\n        elif emp_count < 200:\n            size = \"50-200\"\n        elif emp_count < 500:\n            size = \"200-500\"\n        else:\n            size = \"500+\"\n        \n        # Create GroupTraits for validation\n        group_traits = GroupTraits(\n            name=org['org_name'],\n            type=ObjectType.COMPANY,\n            industry=org['industry'],\n            size=size,\n            employee_count=emp_count,\n            created_at=org['created_at']\n        )\n        \n        group_data = {\n            \"userId\": f\"admin_{org['org_id']}\",  # Default admin user\n            \"groupId\": org['org_id'],\n            \"traits\": group_traits.dict(exclude_none=True),\n            \"timestamp\": datetime.now(timezone.utc)\n        }\n        \n        groups.append(group_data)\n    \n    return groups\n\n# Transform organizations using GroupTraits\nspark_groups = transform_orgs_to_groups(organizations_df)\nprint(f\"Transformed {len(spark_groups)} organizations to groups using GroupTraits\")\n\n# Show sample\nif spark_groups:\n    print(\"\\nSample transformed group:\")\n    print(json.dumps(spark_groups[0], indent=2, default=str))"
  },
  {
   "cell_type": "code",
   "metadata": {},
   "outputs": [],
   "source": "# Process Spark groups using GroupManager\n\nif spark_groups:\n    if ENVIRONMENT == \"test\":\n        print(\"INFO: Running in test mode - Spark groups not actually sent\")\n        spark_batch_results = [\n            {\"batch_id\": 0, \"status\": \"test_success\", \"count\": len(spark_groups)}\n        ]\n    else:\n        # Send batch using GroupManager\n        spark_batch_results = group_manager.batch_create_groups(spark_groups)\n    \n    print(\"\\nSpark groups batch results:\")\n    for result in spark_batch_results:\n        print(f\"  Batch {result['batch_id']}: {result['status']} ({result['count']} groups)\")\nelse:\n    print(\"No organizations to process\")"
  },
  {
   "cell_type": "markdown",
   "metadata": {},
   "source": [
    "## Permission Management"
   ]
  },
  {
   "cell_type": "code",
   "metadata": {},
   "outputs": [],
   "source": "# Test permission system from GroupManager\n\nprint(\"Testing GroupManager permission system:\")\n\nprint(\"\\nDefault permissions by role:\")\nfor role in RelationshipRole:\n    permissions = PermissionSet.get_permissions(role)\n    print(f\"  {role.value}: {permissions}\")\n\nprint(\"\\nTesting permission checking:\")\nadmin_perms = PermissionSet.get_permissions(RelationshipRole.ADMIN)\nmember_perms = PermissionSet.get_permissions(RelationshipRole.MEMBER)\n\nprint(f\"Admin can manage users: {PermissionSet.has_permission(admin_perms, 'users.manage')}\")\nprint(f\"Admin can view billing: {PermissionSet.has_permission(admin_perms, 'billing.view')}\")\nprint(f\"Member can manage users: {PermissionSet.has_permission(member_perms, 'users.manage')}\")\nprint(f\"Member can view users: {PermissionSet.has_permission(member_perms, 'users.view')}\")\n\nprint(\"SUCCESS: GroupManager permission system working correctly\")"
  },
  {
   "cell_type": "code",
   "metadata": {},
   "outputs": [],
   "source": "# Update user permissions using GroupManager\n\nif ENVIRONMENT == \"test\":\n    print(\"INFO: Running in test mode - permission update not actually sent\")\n    result = {\"status\": \"test_success\", \"message\": \"Permission update validated successfully\"}\nelse:\n    result = group_manager.update_user_permissions(\n        user_id=\"user_eng_003\",\n        group_id=\"team_engineering_001\",\n        new_permissions=[\"users.view\", \"code.write\", \"pr.create\"],\n        previous_permissions=[\"users.view\"],\n        added=[\"code.write\", \"pr.create\"],\n        removed=[]\n    )\n\nprint(\"Permission update using GroupManager:\")\nprint(f\"  User: user_eng_003\")\nprint(f\"  Group: team_engineering_001\")\nprint(f\"  Added permissions: ['code.write', 'pr.create']\")\nprint(f\"Result: {result}\")\nprint(\"SUCCESS: Permission update using GroupManager\")"
  },
  {
   "cell_type": "markdown",
   "metadata": {},
   "source": [
    "## Performance Monitoring and Metrics"
   ]
  },
  {
   "cell_type": "code",
   "metadata": {},
   "outputs": [],
   "source": "# Calculate organizational metrics using GroupManager\n\n# Collect all groups for metrics\nall_groups = []\n\n# Add main company\nall_groups.append({\n    \"traits\": sample_company.dict(exclude_none=True)\n})\n\n# Add engineering team  \nall_groups.append({\n    \"traits\": engineering_team.dict(exclude_none=True)\n})\n\n# Add departments\nfor dept in departments:\n    all_groups.append({\n        \"traits\": dept[\"traits\"]\n    })\n\n# Add Spark groups\nall_groups.extend([{\"traits\": group[\"traits\"]} for group in spark_groups])\n\n# Calculate metrics using GroupManager\nmetrics = group_manager.calculate_org_metrics(\n    groups=all_groups,\n    relationships=all_relationships,\n    hierarchies=additional_hierarchies\n)\n\nprint(\"=== Organization Metrics (using GroupManager) ===\")\nprint(json.dumps(metrics, indent=2))\nprint(\"SUCCESS: Metrics calculated using GroupManager\")"
  },
  {
   "cell_type": "markdown",
   "metadata": {},
   "source": [
    "## Clean Up and Summary"
   ]
  },
  {
   "cell_type": "code",
   "execution_count": null,
   "metadata": {},
   "outputs": [],
   "source": [
    "# Final summary\n",
    "print(\"=== Objects and Relationships Summary ===\")\n",
    "\n",
    "print(\"\\n=== Objects Created ===\")\n",
    "print(\"SUCCESS: Company organization (TechCorp Solutions)\")\n",
    "print(\"SUCCESS: Engineering team with hierarchy\")\n",
    "print(\"SUCCESS: Multiple departments (Sales, Marketing, Product)\")\n",
    "print(\"SUCCESS: Organizations from Spark data\")\n",
    "\n",
    "print(\"\\n=== Relationships Established ===\")\n",
    "print(\"SUCCESS: User-group relationships with roles\")\n",
    "print(\"SUCCESS: Hierarchical parent-child relationships\")\n",
    "print(\"SUCCESS: Permission-based access control\")\n",
    "print(\"SUCCESS: Status management (active, suspended, etc.)\")\n",
    "\n",
    "print(\"\\n=== Key Capabilities Demonstrated ===\")\n",
    "print(\"SUCCESS: Type-safe object creation with validation\")\n",
    "print(\"SUCCESS: Complex relationship management\")\n",
    "print(\"SUCCESS: Hierarchical organization structures\")\n",
    "print(\"SUCCESS: Permission-based access control\")\n",
    "print(\"SUCCESS: Batch operations with optimization\")\n",
    "print(\"SUCCESS: Data transformation from Spark\")\n",
    "print(\"SUCCESS: Organizational metrics and analytics\")"
   ]
  },
  {
   "cell_type": "code",
   "execution_count": null,
   "metadata": {},
   "outputs": [],
   "source": [
    "# Close the API client connection\n",
    "client.close()\n",
    "print(\"SUCCESS: API client connection closed\")\n",
    "\n",
    "print(\"\\nCOMPLETED: Objects and relationships notebook finished successfully!\")\n",
    "print(\"Ready for device management operations in the next notebook.\")"
   ]
  }
 ],
 "metadata": {
  "kernelspec": {
   "display_name": "Python 3",
   "language": "python",
   "name": "python3"
  },
  "language_info": {
   "codemirror_mode": {
    "name": "ipython",
    "version": 3
   },
   "file_extension": ".py",
   "mimetype": "text/x-python",
   "name": "python",
   "nbconvert_exporter": "python",
   "pygments_lexer": "ipython3",
   "version": "3.8.5"
  }
 },
 "nbformat": 4,
 "nbformat_minor": 4
}