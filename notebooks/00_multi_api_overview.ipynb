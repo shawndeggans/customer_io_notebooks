{
 "cells": [
  {
   "cell_type": "markdown",
   "metadata": {},
   "source": [
    "# Customer.IO Multi-API Usage\n",
    "\n",
    "## Purpose\n",
    "This notebook demonstrates how to use multiple Customer.IO APIs together:\n",
    "- Data Pipelines API (existing utils)\n",
    "- App API (new app_utils)\n",
    "- Webhook processing (new webhook_utils)\n",
    "\n",
    "## Setup and Imports"
   ]
  },
  {
   "cell_type": "code",
   "execution_count": null,
   "metadata": {},
   "outputs": [],
   "source": [
    "import sys",
    "",
    "# For local development with utils imports (backwards compatibility)",
    "# Add src directory to path if it exists",
    "notebook_dir = os.path.dirname(os.path.abspath(''))",
    "project_root = os.path.abspath(os.path.join(notebook_dir, '..', '..'))",
    "src_path = os.path.join(project_root, 'src')",
    "",
    "if os.path.exists(src_path):",
    "    sys.path.insert(0, src_path)",
    "    # Try importing from utils (local development pattern)",
    "    try:",
    "        from utils.api_client import CustomerIOClient",
    "        from utils.people_manager import identify_user",
    "        from utils.event_manager import track_event",
    "    except ImportError:",
    "        # Fall back to package imports",
    "        from pipelines_api.api_client import CustomerIOClient",
    "        from pipelines_api.people_manager import identify_user",
    "        from pipelines_api.event_manager import track_event",
    "else:",
    "    # Databricks or package installation - use package imports",
    "    from pipelines_api.api_client import CustomerIOClient",
    "    from pipelines_api.people_manager import identify_user",
    "    from pipelines_api.event_manager import track_event",
    "",
    "# Data Pipelines API (existing)",
    "",
    "# App API (new)",
    "from app_utils.auth import AppAPIAuth",
    "from app_utils.client import send_transactional, trigger_broadcast, send_push",
    "",
    "# Webhook processing (new)",
    "from webhook_utils.processor import verify_signature, parse_event, get_event_type",
    "",
    "import os",
    "import json"
   ]
  },
  {
   "cell_type": "markdown",
   "metadata": {},
   "source": [
    "## Databricks Environment Setup",
    "",
    "This section handles the installation of required libraries and configuration for Databricks clusters. Skip this section if running locally."
   ]
  },
  {
   "cell_type": "code",
   "execution_count": null,
   "metadata": {},
   "outputs": [],
   "source": [
    "# Databricks library installation",
    "# Uncomment the following lines when running on Databricks",
    "",
    "# %pip install customerio-api-client",
    "# OR if using a wheel file:",
    "# %pip install /dbfs/path/to/customerio_api_client-1.0.0-py3-none-any.whl",
    "",
    "# For development without packaging, install individual requirements:",
    "# %pip install httpx>=0.25.0 pydantic>=2.0.0 pandas>=2.0.0 python-dotenv>=1.0.0 structlog>=24.0.0",
    "",
    "# Restart kernel after installation if needed",
    "# import dbutils",
    "# dbutils.library.restartPython()"
   ]
  },
  {
   "cell_type": "markdown",
   "metadata": {},
   "source": [
    "## Configuration\n",
    "\n",
    "Set up authentication for different APIs:"
   ]
  },
  {
   "cell_type": "code",
   "execution_count": null,
   "metadata": {},
   "outputs": [],
   "source": [
    "# Data Pipelines API client (existing)\n",
    "pipelines_client = CustomerIOClient(\n",
    "    api_key=os.getenv(\"CUSTOMERIO_API_KEY\"),\n",
    "    region=\"us\"\n",
    ")\n",
    "\n",
    "# App API authentication (new)\n",
    "app_auth = AppAPIAuth(\n",
    "    api_token=os.getenv(\"CUSTOMERIO_APP_TOKEN\"),\n",
    "    region=\"us\"\n",
    ")\n",
    "\n",
    "# Webhook secret (new)\n",
    "webhook_secret = os.getenv(\"CUSTOMERIO_WEBHOOK_SECRET\")\n",
    "\n",
    "print(\"\u2713 All APIs configured\")"
   ]
  },
  {
   "cell_type": "markdown",
   "metadata": {},
   "source": [
    "## Data Pipelines API Usage\n",
    "\n",
    "Use existing pipeline functions to manage customer data:"
   ]
  },
  {
   "cell_type": "code",
   "execution_count": null,
   "metadata": {},
   "outputs": [],
   "source": [
    "# Identify a customer using Data Pipelines API\n",
    "user_data = {\n",
    "    \"email\": \"test@example.com\",\n",
    "    \"name\": \"Test User\",\n",
    "    \"plan\": \"premium\"\n",
    "}\n",
    "\n",
    "# This uses the existing utils\n",
    "identify_result = identify_user(\n",
    "    client=pipelines_client,\n",
    "    user_id=\"user_123\",\n",
    "    traits=user_data\n",
    ")\n",
    "\n",
    "print(f\"User identified: {identify_result}\")"
   ]
  },
  {
   "cell_type": "code",
   "execution_count": null,
   "metadata": {},
   "outputs": [],
   "source": [
    "# Track an event using Data Pipelines API\n",
    "event_data = {\n",
    "    \"purchase_amount\": 49.99,\n",
    "    \"product_id\": \"prod_456\",\n",
    "    \"category\": \"software\"\n",
    "}\n",
    "\n",
    "# This uses the existing utils\n",
    "track_result = track_event(\n",
    "    client=pipelines_client,\n",
    "    user_id=\"user_123\",\n",
    "    event_name=\"purchase\",\n",
    "    properties=event_data\n",
    ")\n",
    "\n",
    "print(f\"Event tracked: {track_result}\")"
   ]
  },
  {
   "cell_type": "markdown",
   "metadata": {},
   "source": [
    "## App API Usage\n",
    "\n",
    "Use new App API functions for messaging:"
   ]
  },
  {
   "cell_type": "code",
   "execution_count": null,
   "metadata": {},
   "outputs": [],
   "source": [
    "# Send transactional email using App API\n",
    "transactional_result = send_transactional(\n",
    "    auth=app_auth,\n",
    "    transactional_message_id=123,\n",
    "    to=\"test@example.com\",\n",
    "    message_data={\n",
    "        \"name\": \"Test User\",\n",
    "        \"purchase_amount\": \"$49.99\",\n",
    "        \"product_name\": \"Premium Software\"\n",
    "    }\n",
    ")\n",
    "\n",
    "print(f\"Transactional email sent: {transactional_result}\")"
   ]
  },
  {
   "cell_type": "code",
   "execution_count": null,
   "metadata": {},
   "outputs": [],
   "source": [
    "# Send push notification using App API\n",
    "push_result = send_push(\n",
    "    auth=app_auth,\n",
    "    identifiers={\"id\": \"user_123\"},\n",
    "    title=\"Purchase Confirmed!\",\n",
    "    message=\"Thanks for your purchase of Premium Software\",\n",
    "    device_tokens=[\"device_token_789\"]\n",
    ")\n",
    "\n",
    "print(f\"Push notification sent: {push_result}\")"
   ]
  },
  {
   "cell_type": "markdown",
   "metadata": {},
   "source": [
    "## Webhook Processing\n",
    "\n",
    "Process webhook events from Customer.IO:"
   ]
  },
  {
   "cell_type": "code",
   "execution_count": null,
   "metadata": {},
   "outputs": [],
   "source": [
    "# Example webhook payload (would come from Customer.IO)\n",
    "webhook_payload = json.dumps({\n",
    "    \"event_id\": \"evt_123abc\",\n",
    "    \"event_type\": \"email_delivered\",\n",
    "    \"timestamp\": 1640995200,\n",
    "    \"data\": {\n",
    "        \"customer_id\": \"user_123\",\n",
    "        \"delivery_id\": \"del_456xyz\",\n",
    "        \"subject\": \"Purchase Confirmation\"\n",
    "    }\n",
    "})\n",
    "\n",
    "# Example signature (would come from Customer.IO webhook header)\n",
    "import hmac\n",
    "import hashlib\n",
    "\n",
    "signature_hash = hmac.new(\n",
    "    webhook_secret.encode('utf-8'),\n",
    "    webhook_payload.encode('utf-8'),\n",
    "    hashlib.sha256\n",
    ").hexdigest()\n",
    "\n",
    "webhook_signature = f\"sha256={signature_hash}\"\n",
    "\n",
    "print(f\"Example webhook payload prepared\")"
   ]
  },
  {
   "cell_type": "code",
   "execution_count": null,
   "metadata": {},
   "outputs": [],
   "source": [
    "# Process webhook (verify, parse, identify)\n",
    "\n",
    "# 1. Verify signature\n",
    "is_valid = verify_signature(webhook_payload, webhook_signature, webhook_secret)\n",
    "print(f\"Webhook signature valid: {is_valid}\")\n",
    "\n",
    "if is_valid:\n",
    "    # 2. Parse event\n",
    "    event = parse_event(webhook_payload)\n",
    "    print(f\"Parsed event: {event['event_id']}\")\n",
    "    \n",
    "    # 3. Get event type\n",
    "    event_type = get_event_type(event)\n",
    "    print(f\"Event type: {event_type}\")\n",
    "    \n",
    "    # 4. Process based on event type\n",
    "    if event_type == \"email_delivered\":\n",
    "        customer_id = event[\"data\"][\"customer_id\"]\n",
    "        print(f\"Email delivered to customer: {customer_id}\")\n",
    "        \n",
    "        # Could track this as an event in pipelines\n",
    "        # track_event(pipelines_client, customer_id, \"email_delivered\", event[\"data\"])\n",
    "else:\n",
    "    print(\"Invalid webhook signature - ignoring event\")"
   ]
  },
  {
   "cell_type": "markdown",
   "metadata": {},
   "source": [
    "## Multi-API Workflow Example\n",
    "\n",
    "Complete workflow using all three APIs:"
   ]
  },
  {
   "cell_type": "code",
   "execution_count": null,
   "metadata": {},
   "outputs": [],
   "source": [
    "def process_customer_purchase(user_id: str, purchase_data: dict):\n",
    "    \"\"\"\n",
    "    Complete purchase workflow using multiple APIs.\n",
    "    \n",
    "    1. Track purchase event (Pipelines API)\n",
    "    2. Send confirmation email (App API)\n",
    "    3. Process delivery webhook when email sent (Webhook processing)\n",
    "    \"\"\"\n",
    "    print(f\"Processing purchase for user: {user_id}\")\n",
    "    \n",
    "    # Step 1: Track purchase event\n",
    "    track_result = track_event(\n",
    "        client=pipelines_client,\n",
    "        user_id=user_id,\n",
    "        event_name=\"purchase_completed\",\n",
    "        properties=purchase_data\n",
    "    )\n",
    "    print(f\"\u2713 Purchase tracked: {track_result}\")\n",
    "    \n",
    "    # Step 2: Send confirmation email\n",
    "    email_result = send_transactional(\n",
    "        auth=app_auth,\n",
    "        transactional_message_id=456,  # Purchase confirmation template\n",
    "        identifiers={\"id\": user_id},\n",
    "        message_data=purchase_data\n",
    "    )\n",
    "    print(f\"\u2713 Confirmation email sent: {email_result}\")\n",
    "    \n",
    "    # Step 3: Webhook processing would happen when Customer.IO delivers email\n",
    "    print(\"\u2713 Workflow complete - webhook will be processed when email delivers\")\n",
    "    \n",
    "    return {\n",
    "        \"purchase_tracked\": track_result,\n",
    "        \"email_sent\": email_result\n",
    "    }\n",
    "\n",
    "# Example usage\n",
    "purchase_data = {\n",
    "    \"product_name\": \"Premium Software\",\n",
    "    \"amount\": 99.99,\n",
    "    \"currency\": \"USD\"\n",
    "}\n",
    "\n",
    "workflow_result = process_customer_purchase(\"user_456\", purchase_data)\n",
    "print(f\"\\nWorkflow result: {workflow_result}\")"
   ]
  },
  {
   "cell_type": "markdown",
   "metadata": {},
   "source": [
    "## Summary\n",
    "\n",
    "This notebook demonstrates:\n",
    "\n",
    "1. **Data Pipelines API**: Customer identification and event tracking\n",
    "2. **App API**: Transactional messaging and push notifications\n",
    "3. **Webhook Processing**: Secure event processing and verification\n",
    "4. **Multi-API Workflows**: Complete customer engagement workflows\n",
    "\n",
    "Each API has its specific purpose:\n",
    "- **Pipelines**: Data ingestion and customer profiles\n",
    "- **App**: Message delivery and campaign management\n",
    "- **Webhooks**: Event notifications and integrations\n",
    "\n",
    "Together they provide comprehensive Customer.IO platform access."
   ]
  }
 ],
 "metadata": {
  "kernelspec": {
   "display_name": "Python 3",
   "language": "python",
   "name": "python3"
  },
  "language_info": {
   "codemirror_mode": {
    "name": "ipython",
    "version": 3
   },
   "file_extension": ".py",
   "mimetype": "text/x-python",
   "name": "python",
   "nbconvert_exporter": "python",
   "pygments_lexer": "ipython3",
   "version": "3.11.0"
  }
 },
 "nbformat": 4,
 "nbformat_minor": 4
}