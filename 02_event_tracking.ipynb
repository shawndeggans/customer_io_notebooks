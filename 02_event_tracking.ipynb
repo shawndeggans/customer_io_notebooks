{
 "cells": [
  {
   "cell_type": "markdown",
   "metadata": {},
   "source": [
    "# Customer.IO Event Tracking\n",
    "\n",
    "This notebook demonstrates how to track events using the Customer.IO API client library. It covers custom events, semantic events (ecommerce, email, mobile, video), page views, and screen views."
   ]
  },
  {
   "cell_type": "markdown",
   "metadata": {},
   "source": [
    "## Setup and Imports\n",
    "\n",
    "Import the event tracking functions and initialize the API client."
   ]
  },
  {
   "cell_type": "code",
   "execution_count": null,
   "metadata": {},
   "outputs": [],
   "source": [
    "import os\n",
    "from datetime import datetime\n",
    "from utils.api_client import CustomerIOClient\n",
    "from utils.event_manager import (\n",
    "    track_event,\n",
    "    track_page_view,\n",
    "    track_screen_view,\n",
    "    track_ecommerce_event,\n",
    "    track_email_event,\n",
    "    track_mobile_event,\n",
    "    track_video_event\n",
    ")\n",
    "from utils.page_manager import track_page, track_pageview\n",
    "from utils.screen_manager import track_screen, track_screenview\n",
    "from utils.video_manager import (\n",
    "    track_video_playback_started,\n",
    "    track_video_playback_completed,\n",
    "    track_video_content_started\n",
    ")\n",
    "from utils.mobile_manager import (\n",
    "    track_application_installed,\n",
    "    track_application_opened\n",
    ")\n",
    "from utils.ecommerce_manager import (\n",
    "    track_product_added,\n",
    "    track_order_completed,\n",
    "    track_cart_viewed\n",
    ")\n",
    "from utils.exceptions import CustomerIOError, ValidationError\n",
    "\n",
    "print(\"Event tracking functions imported successfully\")"
   ]
  },
  {
   "cell_type": "markdown",
   "metadata": {},
   "source": [
    "## Client Initialization\n",
    "\n",
    "Initialize the Customer.IO client with your credentials."
   ]
  },
  {
   "cell_type": "code",
   "execution_count": null,
   "metadata": {},
   "outputs": [],
   "source": [
    "# Initialize client (use your actual credentials)\n",
    "client = CustomerIOClient(\n",
    "    api_key=os.getenv('CUSTOMERIO_API_KEY', 'your-api-key-here'),\n",
    "    region=os.getenv('CUSTOMERIO_REGION', 'us')\n",
    ")\n",
    "\n",
    "# Test user for demonstrations\n",
    "demo_user_id = f\"event_demo_user_{int(datetime.now().timestamp())}\"\n",
    "\n",
    "print(f\"Client initialized for region: {client.region}\")\n",
    "print(f\"Demo user ID: {demo_user_id}\")"
   ]
  },
  {
   "cell_type": "markdown",
   "metadata": {},
   "source": [
    "## Custom Event Tracking\n",
    "\n",
    "Track custom events specific to your application."
   ]
  },
  {
   "cell_type": "code",
   "metadata": {},
   "outputs": [],
   "source": "# Track a custom event\nevent_properties = {\n    \"feature\": \"dashboard\",\n    \"action\": \"viewed\",\n    \"duration_seconds\": 45,\n    \"user_type\": \"premium\"\n}\n\ntry:\n    response = track_event(\n        client=client,\n        user_id=demo_user_id,\n        event_name=\"dashboard_viewed\",\n        properties=event_properties\n    )\n    print(\"Custom event tracked successfully!\")\n    print(f\"Event: dashboard_viewed\")\n    print(f\"Properties: {event_properties}\")\nexcept Exception as e:\n    print(f\"Error tracking custom event: {e}\")"
  },
  {
   "cell_type": "markdown",
   "metadata": {},
   "source": [
    "## Page View Tracking\n",
    "\n",
    "Track page views for web applications."
   ]
  },
  {
   "cell_type": "code",
   "metadata": {},
   "outputs": [],
   "source": "# Track a page view\npage_properties = {\n    \"title\": \"Product Dashboard\",\n    \"url\": \"/dashboard\",\n    \"referrer\": \"/login\",\n    \"load_time_ms\": 1250\n}\n\ntry:\n    response = track_page(\n        client=client,\n        user_id=demo_user_id,\n        page_name=\"Dashboard\",\n        properties=page_properties\n    )\n    print(\"Page view tracked successfully!\")\n    print(f\"Page: Dashboard\")\n    print(f\"Properties: {page_properties}\")\nexcept Exception as e:\n    print(f\"Error tracking page view: {e}\")"
  },
  {
   "cell_type": "markdown",
   "metadata": {},
   "source": [
    "## Screen View Tracking\n",
    "\n",
    "Track screen views for mobile applications."
   ]
  },
  {
   "cell_type": "code",
   "metadata": {},
   "outputs": [],
   "source": "# Track a screen view\nscreen_properties = {\n    \"screen_class\": \"MainActivity\",\n    \"previous_screen\": \"LoginActivity\",\n    \"app_version\": \"2.1.0\",\n    \"device_type\": \"phone\"\n}\n\ntry:\n    response = track_screen(\n        client=client,\n        user_id=demo_user_id,\n        screen_name=\"Main Dashboard\",\n        properties=screen_properties\n    )\n    print(\"Screen view tracked successfully!\")\n    print(f\"Screen: Main Dashboard\")\n    print(f\"Properties: {screen_properties}\")\nexcept Exception as e:\n    print(f\"Error tracking screen view: {e}\")"
  },
  {
   "cell_type": "markdown",
   "metadata": {},
   "source": [
    "## Ecommerce Event Tracking\n",
    "\n",
    "Track ecommerce-specific events like purchases, cart actions, and product interactions."
   ]
  },
  {
   "cell_type": "code",
   "metadata": {},
   "outputs": [],
   "source": "# Track product added to cart\nproduct_properties = {\n    \"product_id\": \"prod_123\",\n    \"product_name\": \"Wireless Headphones\",\n    \"category\": \"Electronics\",\n    \"price\": 99.99,\n    \"currency\": \"USD\",\n    \"quantity\": 1\n}\n\ntry:\n    response = track_product_added(\n        client=client,\n        user_id=demo_user_id,\n        product_id=\"prod_123\",\n        properties=product_properties\n    )\n    print(\"Product added event tracked!\")\n    print(f\"Product: {product_properties['product_name']}\")\nexcept Exception as e:\n    print(f\"Error tracking product added: {e}\")"
  },
  {
   "cell_type": "code",
   "metadata": {},
   "outputs": [],
   "source": "# Track order completion\norder_properties = {\n    \"order_id\": \"order_456\",\n    \"total\": 109.98,\n    \"currency\": \"USD\",\n    \"items\": [\n        {\n            \"product_id\": \"prod_123\",\n            \"product_name\": \"Wireless Headphones\",\n            \"price\": 99.99,\n            \"quantity\": 1\n        }\n    ],\n    \"shipping\": 9.99,\n    \"payment_method\": \"credit_card\"\n}\n\ntry:\n    response = track_order_completed(\n        client=client,\n        user_id=demo_user_id,\n        order_id=\"order_456\",\n        properties=order_properties\n    )\n    print(\"Order completed event tracked!\")\n    print(f\"Order ID: {order_properties['order_id']}\")\n    print(f\"Total: ${order_properties['total']}\")\nexcept Exception as e:\n    print(f\"Error tracking order completion: {e}\")"
  },
  {
   "cell_type": "markdown",
   "metadata": {},
   "source": [
    "## Video Event Tracking\n",
    "\n",
    "Track video engagement and playback events."
   ]
  },
  {
   "cell_type": "code",
   "metadata": {},
   "outputs": [],
   "source": "# Track video playback started\nvideo_properties = {\n    \"title\": \"Product Demo Video\",\n    \"duration\": 300,  # 5 minutes\n    \"quality\": \"1080p\",\n    \"category\": \"product_demo\"\n}\n\ntry:\n    response = track_video_playback_started(\n        client=client,\n        user_id=demo_user_id,\n        video_id=\"video_789\",\n        properties=video_properties\n    )\n    print(\"Video playback started event tracked!\")\n    print(f\"Video: {video_properties['title']}\")\nexcept Exception as e:\n    print(f\"Error tracking video start: {e}\")"
  },
  {
   "cell_type": "code",
   "metadata": {},
   "outputs": [],
   "source": "# Track video completion\ncompletion_properties = {\n    \"title\": \"Product Demo Video\",\n    \"duration\": 300,\n    \"watch_time\": 285,  # Watched 285 out of 300 seconds\n    \"completion_rate\": 0.95\n}\n\ntry:\n    response = track_video_playback_completed(\n        client=client,\n        user_id=demo_user_id,\n        video_id=\"video_789\",\n        properties=completion_properties\n    )\n    print(\"Video completion event tracked!\")\n    print(f\"Completion rate: {completion_properties['completion_rate']*100}%\")\nexcept Exception as e:\n    print(f\"Error tracking video completion: {e}\")"
  },
  {
   "cell_type": "markdown",
   "metadata": {},
   "source": [
    "## Mobile App Event Tracking\n",
    "\n",
    "Track mobile application lifecycle and engagement events."
   ]
  },
  {
   "cell_type": "code",
   "metadata": {},
   "outputs": [],
   "source": "# Track app installation\ninstall_properties = {\n    \"version\": \"2.1.0\",\n    \"source\": \"app_store\",\n    \"campaign\": \"summer_promotion\",\n    \"device_model\": \"iPhone 13\",\n    \"os_version\": \"iOS 15.4\"\n}\n\ntry:\n    response = track_application_installed(\n        client=client,\n        user_id=demo_user_id,\n        properties=install_properties\n    )\n    print(\"App installation event tracked!\")\n    print(f\"Version: {install_properties['version']}\")\n    print(f\"Source: {install_properties['source']}\")\nexcept Exception as e:\n    print(f\"Error tracking app install: {e}\")"
  },
  {
   "cell_type": "code",
   "metadata": {},
   "outputs": [],
   "source": "# Track app opened\nopen_properties = {\n    \"version\": \"2.1.0\",\n    \"from_background\": False,\n    \"push_notification_id\": \"notif_123\",\n    \"session_id\": \"session_456\"\n}\n\ntry:\n    response = track_application_opened(\n        client=client,\n        user_id=demo_user_id,\n        properties=open_properties\n    )\n    print(\"App opened event tracked!\")\n    print(f\"Session: {open_properties['session_id']}\")\nexcept Exception as e:\n    print(f\"Error tracking app open: {e}\")"
  },
  {
   "cell_type": "markdown",
   "metadata": {},
   "source": [
    "## Event Sequence Tracking\n",
    "\n",
    "Track a sequence of related events to understand user journeys."
   ]
  },
  {
   "cell_type": "code",
   "metadata": {},
   "outputs": [],
   "source": "# Example: E-commerce user journey\njourney_user_id = f\"journey_user_{int(datetime.now().timestamp())}\"\n\n# 1. User visits product page\ntrack_page(\n    client=client,\n    user_id=journey_user_id,\n    page_name=\"Product Detail\",\n    properties={\"product_id\": \"prod_123\", \"product_name\": \"Wireless Headphones\"}\n)\nprint(\"1. Product page viewed\")\n\n# 2. User adds product to cart\ntrack_product_added(\n    client=client,\n    user_id=journey_user_id,\n    product_id=\"prod_123\",\n    properties={\"product_name\": \"Wireless Headphones\", \"price\": 99.99}\n)\nprint(\"2. Product added to cart\")\n\n# 3. User views cart\ntrack_cart_viewed(\n    client=client,\n    user_id=journey_user_id,\n    properties={\"cart_value\": 99.99, \"item_count\": 1}\n)\nprint(\"3. Cart viewed\")\n\n# 4. User completes purchase\ntrack_order_completed(\n    client=client,\n    user_id=journey_user_id,\n    order_id=\"order_789\",\n    properties={\"total\": 109.98, \"items_count\": 1}\n)\nprint(\"4. Order completed\")\n\nprint(f\"\\nComplete user journey tracked for: {journey_user_id}\")"
  },
  {
   "cell_type": "markdown",
   "metadata": {},
   "source": [
    "## Best Practices\n",
    "\n",
    "Key recommendations for event tracking:\n",
    "\n",
    "**Event Design:**\n",
    "- Use consistent event naming conventions\n",
    "- Include essential context in event properties\n",
    "- Track events immediately when they occur\n",
    "- Use semantic events when available (ecommerce, video, etc.)\n",
    "\n",
    "**Property Standards:**\n",
    "- Include timestamps for time-sensitive events\n",
    "- Use consistent property names across events\n",
    "- Include user context (plan, segment, etc.)\n",
    "- Keep property values JSON-serializable\n",
    "\n",
    "**Performance:**\n",
    "- Batch events when possible for high-volume scenarios\n",
    "- Consider async/background event tracking\n",
    "- Respect rate limits (3000 requests per 3 seconds)\n",
    "\n",
    "**Data Quality:**\n",
    "- Validate event data before sending\n",
    "- Handle failures gracefully with retry logic\n",
    "- Monitor event delivery success rates\n",
    "- Test event tracking in staging environments"
   ]
  },
  {
   "cell_type": "markdown",
   "metadata": {},
   "source": [
    "## Next Steps\n",
    "\n",
    "Continue exploring Customer.IO functionality:\n",
    "\n",
    "- **03_objects_and_relationships.ipynb** - Manage objects and relationships\n",
    "- **04_device_management.ipynb** - Handle device registration and updates\n",
    "- **05_batch_operations.ipynb** - Efficient bulk processing\n",
    "- **Advanced tracking notebooks** - Video, mobile, ecommerce specific tracking"
   ]
  }
 ],
 "metadata": {
  "kernelspec": {
   "display_name": "Python 3",
   "language": "python",
   "name": "python3"
  },
  "language_info": {
   "codemirror_mode": {
    "name": "ipython",
    "version": 3
   },
   "file_extension": ".py",
   "mimetype": "text/x-python",
   "name": "python",
   "nbconvert_exporter": "python",
   "pygments_lexer": "ipython3",
   "version": "3.11.0"
  }
 },
 "nbformat": 4,
 "nbformat_minor": 4
}