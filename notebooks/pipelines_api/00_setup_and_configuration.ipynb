{
 "cells": [
  {
   "cell_type": "markdown",
   "metadata": {},
   "source": "# Customer.IO API Client Setup and Configuration\n\nThis notebook demonstrates how to set up and configure the Customer.IO API client library. It includes authentication testing, basic connectivity verification, and configuration examples for both US and EU regions.",
   "outputs": []
  },
  {
   "cell_type": "code",
   "source": [
    "import os",
    "import sys",
    "from datetime import datetime",
    "",
    "# For local development with utils imports (backwards compatibility)",
    "# Add src directory to path if it exists",
    "notebook_dir = os.path.dirname(os.path.abspath(''))",
    "project_root = os.path.abspath(os.path.join(notebook_dir, '..', '..'))",
    "src_path = os.path.join(project_root, 'src')",
    "",
    "if os.path.exists(src_path):",
    "    sys.path.insert(0, src_path)",
    "    # Try importing from utils (local development pattern)",
    "    try:",
    "        from utils.api_client import CustomerIOClient",
    "        from utils.people_manager import people_manager_functions",
    "        from utils.exceptions import CustomerIOError, ValidationError",
    "    except ImportError:",
    "        # Fall back to package imports",
    "        from pipelines_api.api_client import CustomerIOClient",
    "        from pipelines_api.exceptions import CustomerIOError, ValidationError",
    "else:",
    "    # Databricks or package installation - use package imports",
    "    from pipelines_api.api_client import CustomerIOClient",
    "    from pipelines_api.exceptions import CustomerIOError, ValidationError",
    "",
    "print(\"Modules imported successfully\")"
   ],
   "metadata": {},
   "outputs": []
  },
  {
   "cell_type": "markdown",
   "source": "## Databricks Environment Setup\n\nThis section handles the installation of required libraries and configuration for Databricks clusters. Skip this section if running locally.",
   "metadata": {}
  },
  {
   "cell_type": "code",
   "metadata": {},
   "outputs": [],
   "source": "# Configuration - Replace with your actual credentials\n# Recommended: Set these as environment variables or use Databricks secrets\n\n# Try Databricks secrets first, fall back to environment variables\ntry:\n    # Databricks secret scope approach\n    import dbutils\n    API_KEY = dbutils.secrets.get(scope=\"customer-io\", key=\"api_key\")\n    REGION = dbutils.secrets.get(scope=\"customer-io\", key=\"region\")\n    print(\"Using Databricks secrets for credentials\")\nexcept:\n    # Fall back to environment variables\n    API_KEY = os.getenv('CUSTOMERIO_API_KEY', 'your-api-key-here')\n    REGION = os.getenv('CUSTOMERIO_REGION', 'us')  # 'us' or 'eu'\n    print(\"Using environment variables for credentials\")\n\nprint(f\"Configured for region: {REGION}\")\nprint(f\"API key configured: {'Yes' if API_KEY != 'your-api-key-here' else 'No - using placeholder'}\")"
  },
  {
   "cell_type": "markdown",
   "metadata": {},
   "source": "# Configuration\n\nConfigure your Customer.IO API credentials. For security, credentials should be stored as environment variables rather than hardcoded in notebooks.",
   "outputs": []
  },
  {
   "cell_type": "code",
   "metadata": {},
   "outputs": [],
   "source": "# Configuration - Replace with your actual credentials\n# Recommended: Set these as environment variables\nAPI_KEY = os.getenv('CUSTOMERIO_API_KEY', 'your-api-key-here')\nREGION = os.getenv('CUSTOMERIO_REGION', 'us')  # 'us' or 'eu'\n\nprint(f\"Configured for region: {REGION}\")\nprint(f\"API key configured: {'Yes' if API_KEY != 'your-api-key-here' else 'No - using placeholder'}\")"
  },
  {
   "cell_type": "markdown",
   "metadata": {},
   "source": "# Client Initialization\n\nInitialize the Customer.IO client with your credentials and region settings.",
   "outputs": []
  },
  {
   "cell_type": "code",
   "source": "# Initialize the Customer.IO client\nclient = CustomerIOClient(\n    api_key=API_KEY,\n    region=REGION\n)\n\nprint(f\"Client initialized successfully\")\nprint(f\"Base URL: {client.base_url}\")\nprint(f\"Rate limit: {client.rate_limit_requests} requests per {client.rate_limit_window} seconds\")",
   "metadata": {},
   "outputs": []
  },
  {
   "cell_type": "markdown",
   "source": "# Next Steps\n\nNow that your client is configured and tested, you can proceed to explore specific API functionality:\n\n- **01_people_management.ipynb** - User identification, deletion, and suppression\n- **02_event_tracking.ipynb** - Custom and semantic event tracking  \n- **03_objects_and_relationships.ipynb** - Object and relationship management\n- **04_device_management.ipynb** - Device registration and management\n- **05_batch_operations.ipynb** - Batch processing for high-volume operations\n\n## Troubleshooting\n\n**Authentication Errors:**\n- Verify your API key is correct\n- Ensure you're using the correct region (US vs EU)\n- Check that your API key has the necessary permissions\n\n**Rate Limiting:**\n- The client automatically handles rate limiting (3000 requests per 3 seconds)\n- For high-volume operations, use batch processing",
   "metadata": {}
  },
  {
   "cell_type": "code",
   "source": "# Test user data for connectivity verification\ntest_user_id = f\"test_user_{int(datetime.now().timestamp())}\"\ntest_traits = {\n    \"email\": \"test@example.com\",\n    \"name\": \"Test User\", \n    \"test_setup\": True\n}\n\n# Attempt to identify a test user using the utils function\ntry:\n    response = identify_user(client, test_user_id, test_traits)\n    print(\"SUCCESS: Connectivity test successful!\")\n    print(f\"Response: {response}\")\nexcept CustomerIOError as e:\n    print(f\"ERROR: API Error: {e}\")\n    print(\"Check your API key and region settings\")\nexcept Exception as e:\n    print(f\"ERROR: Unexpected error: {e}\")\n    print(\"Check your internet connection and configuration\")",
   "metadata": {},
   "outputs": []
  },
  {
   "cell_type": "markdown",
   "source": "# Basic Connectivity Test\n\nTest basic connectivity with a simple identify operation. This will verify that your credentials are working correctly.",
   "metadata": {}
  }
 ],
 "metadata": {
  "kernelspec": {
   "display_name": "Python 3",
   "language": "python",
   "name": "python3"
  },
  "language_info": {
   "codemirror_mode": {
    "name": "ipython",
    "version": 3
   },
   "file_extension": ".py",
   "mimetype": "text/x-python",
   "name": "python",
   "nbconvert_exporter": "python",
   "pygments_lexer": "ipython3",
   "version": "3.8.0"
  }
 },
 "nbformat": 4,
 "nbformat_minor": 4
}